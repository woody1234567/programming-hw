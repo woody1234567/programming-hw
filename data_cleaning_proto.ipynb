{
 "cells": [
  {
   "cell_type": "markdown",
   "metadata": {},
   "source": [
    "## Scraping"
   ]
  },
  {
   "cell_type": "code",
   "execution_count": 2,
   "metadata": {},
   "outputs": [
    {
     "name": "stdout",
     "output_type": "stream",
     "text": [
      "Ok\n",
      "(25, 6)\n",
      "(25, 6)\n",
      "Ok\n",
      "(25, 6)\n",
      "(48, 6)\n",
      "Ok\n",
      "(25, 6)\n",
      "(65, 6)\n",
      "Ok\n",
      "(25, 6)\n",
      "(88, 6)\n",
      "Ok\n",
      "(25, 6)\n",
      "(103, 6)\n",
      "Ok\n",
      "(25, 6)\n",
      "(123, 6)\n",
      "Ok\n",
      "(25, 6)\n",
      "(143, 6)\n",
      "Ok\n",
      "(25, 6)\n",
      "(154, 6)\n"
     ]
    }
   ],
   "source": [
    "# the package that booking_crawler function need to use\n",
    "from bs4 import BeautifulSoup\n",
    "import requests \n",
    "import pandas as pd\n",
    "import random\n",
    "import numpy as np\n",
    "\n",
    "from web_crawler_func import booking_crawler\n",
    "hotel_info=booking_crawler(\"Taipei\",\"2023-11-29\",\"2023-11-30\")\n",
    "#example input：  location should be like \"Tainan\" and the checkin and checkout date should be like \"2023-10-28\",\"2023-10-29\""
   ]
  },
  {
   "cell_type": "code",
   "execution_count": 2,
   "metadata": {},
   "outputs": [
    {
     "data": {
      "text/html": [
       "<div>\n",
       "<style scoped>\n",
       "    .dataframe tbody tr th:only-of-type {\n",
       "        vertical-align: middle;\n",
       "    }\n",
       "\n",
       "    .dataframe tbody tr th {\n",
       "        vertical-align: top;\n",
       "    }\n",
       "\n",
       "    .dataframe thead th {\n",
       "        text-align: right;\n",
       "    }\n",
       "</style>\n",
       "<table border=\"1\" class=\"dataframe\">\n",
       "  <thead>\n",
       "    <tr style=\"text-align: right;\">\n",
       "      <th></th>\n",
       "      <th>name</th>\n",
       "      <th>location</th>\n",
       "      <th>price</th>\n",
       "      <th>rating</th>\n",
       "      <th>distance</th>\n",
       "      <th>comments</th>\n",
       "    </tr>\n",
       "  </thead>\n",
       "  <tbody>\n",
       "    <tr>\n",
       "      <th>0</th>\n",
       "      <td>喜客商旅 Seeker Hotel - Sanchong</td>\n",
       "      <td>Sanchong District , Taipei</td>\n",
       "      <td>TWD 1,021</td>\n",
       "      <td>7.5</td>\n",
       "      <td>3.6 km from centre</td>\n",
       "      <td>Good</td>\n",
       "    </tr>\n",
       "    <tr>\n",
       "      <th>1</th>\n",
       "      <td>Artinn藝築文旅-台北站前館</td>\n",
       "      <td>Zhongzheng District, Taipei</td>\n",
       "      <td>TWD 2,133</td>\n",
       "      <td>8.1</td>\n",
       "      <td>0.5 km from centre</td>\n",
       "      <td>Very good</td>\n",
       "    </tr>\n",
       "    <tr>\n",
       "      <th>2</th>\n",
       "      <td>Star Hostel Taipei Main Station</td>\n",
       "      <td>Datong District , Taipei</td>\n",
       "      <td>TWD 4,280</td>\n",
       "      <td>9.3</td>\n",
       "      <td>0.5 km from centre</td>\n",
       "      <td>Superb</td>\n",
       "    </tr>\n",
       "    <tr>\n",
       "      <th>3</th>\n",
       "      <td>Yomi Hotel - ShuangLian MRT</td>\n",
       "      <td>Zhongshan District, Taipei</td>\n",
       "      <td>TWD 2,200</td>\n",
       "      <td>8.1</td>\n",
       "      <td>1.4 km from centre</td>\n",
       "      <td>Very good</td>\n",
       "    </tr>\n",
       "    <tr>\n",
       "      <th>4</th>\n",
       "      <td>citizenM Taipei North Gate</td>\n",
       "      <td>Ximending, Taipei</td>\n",
       "      <td>TWD 3,000</td>\n",
       "      <td>8.7</td>\n",
       "      <td>0.7 km from centre</td>\n",
       "      <td>Fabulous</td>\n",
       "    </tr>\n",
       "    <tr>\n",
       "      <th>...</th>\n",
       "      <td>...</td>\n",
       "      <td>...</td>\n",
       "      <td>...</td>\n",
       "      <td>...</td>\n",
       "      <td>...</td>\n",
       "      <td>...</td>\n",
       "    </tr>\n",
       "    <tr>\n",
       "      <th>147</th>\n",
       "      <td>Uinn Business Hotel-Shihlin</td>\n",
       "      <td>Shilin District , Taipei</td>\n",
       "      <td>TWD 2,500</td>\n",
       "      <td>8.6</td>\n",
       "      <td>4.8 km from centre</td>\n",
       "      <td>Fabulous</td>\n",
       "    </tr>\n",
       "    <tr>\n",
       "      <th>148</th>\n",
       "      <td>Best Hotel</td>\n",
       "      <td>Songshan District , Taipei</td>\n",
       "      <td>TWD 1,300</td>\n",
       "      <td>7.2</td>\n",
       "      <td>5.8 km from centre</td>\n",
       "      <td>Good</td>\n",
       "    </tr>\n",
       "    <tr>\n",
       "      <th>149</th>\n",
       "      <td>LaVita Hotel</td>\n",
       "      <td>Wanhua District , Taipei</td>\n",
       "      <td>TWD 1,889</td>\n",
       "      <td>7.9</td>\n",
       "      <td>1.1 km from centre</td>\n",
       "      <td>Good</td>\n",
       "    </tr>\n",
       "    <tr>\n",
       "      <th>150</th>\n",
       "      <td>Hotel Sunroute Taipei</td>\n",
       "      <td>Zhongshan District, Taipei</td>\n",
       "      <td>TWD 3,510</td>\n",
       "      <td>8.5</td>\n",
       "      <td>2 km from centre</td>\n",
       "      <td>Very good</td>\n",
       "    </tr>\n",
       "    <tr>\n",
       "      <th>151</th>\n",
       "      <td>T.O. Hotel Chengde</td>\n",
       "      <td>Datong District , Taipei</td>\n",
       "      <td>TWD 1,680</td>\n",
       "      <td>7.4</td>\n",
       "      <td>1 km from centre</td>\n",
       "      <td>Good</td>\n",
       "    </tr>\n",
       "  </tbody>\n",
       "</table>\n",
       "<p>152 rows × 6 columns</p>\n",
       "</div>"
      ],
      "text/plain": [
       "                                name                     location      price  \\\n",
       "0       喜客商旅 Seeker Hotel - Sanchong   Sanchong District , Taipei  TWD 1,021   \n",
       "1                   Artinn藝築文旅-台北站前館  Zhongzheng District, Taipei  TWD 2,133   \n",
       "2    Star Hostel Taipei Main Station     Datong District , Taipei  TWD 4,280   \n",
       "3        Yomi Hotel - ShuangLian MRT   Zhongshan District, Taipei  TWD 2,200   \n",
       "4         citizenM Taipei North Gate            Ximending, Taipei  TWD 3,000   \n",
       "..                               ...                          ...        ...   \n",
       "147      Uinn Business Hotel-Shihlin     Shilin District , Taipei  TWD 2,500   \n",
       "148                       Best Hotel   Songshan District , Taipei  TWD 1,300   \n",
       "149                     LaVita Hotel     Wanhua District , Taipei  TWD 1,889   \n",
       "150            Hotel Sunroute Taipei   Zhongshan District, Taipei  TWD 3,510   \n",
       "151               T.O. Hotel Chengde     Datong District , Taipei  TWD 1,680   \n",
       "\n",
       "    rating            distance    comments  \n",
       "0      7.5  3.6 km from centre       Good   \n",
       "1      8.1  0.5 km from centre  Very good   \n",
       "2      9.3  0.5 km from centre     Superb   \n",
       "3      8.1  1.4 km from centre  Very good   \n",
       "4      8.7  0.7 km from centre   Fabulous   \n",
       "..     ...                 ...         ...  \n",
       "147    8.6  4.8 km from centre   Fabulous   \n",
       "148    7.2  5.8 km from centre       Good   \n",
       "149    7.9  1.1 km from centre       Good   \n",
       "150    8.5    2 km from centre  Very good   \n",
       "151    7.4    1 km from centre       Good   \n",
       "\n",
       "[152 rows x 6 columns]"
      ]
     },
     "execution_count": 2,
     "metadata": {},
     "output_type": "execute_result"
    }
   ],
   "source": [
    "hotel_info"
   ]
  },
  {
   "cell_type": "code",
   "execution_count": 3,
   "metadata": {},
   "outputs": [
    {
     "data": {
      "text/html": [
       "<div>\n",
       "<style scoped>\n",
       "    .dataframe tbody tr th:only-of-type {\n",
       "        vertical-align: middle;\n",
       "    }\n",
       "\n",
       "    .dataframe tbody tr th {\n",
       "        vertical-align: top;\n",
       "    }\n",
       "\n",
       "    .dataframe thead th {\n",
       "        text-align: right;\n",
       "    }\n",
       "</style>\n",
       "<table border=\"1\" class=\"dataframe\">\n",
       "  <thead>\n",
       "    <tr style=\"text-align: right;\">\n",
       "      <th></th>\n",
       "      <th>name</th>\n",
       "      <th>location</th>\n",
       "      <th>price</th>\n",
       "      <th>rating</th>\n",
       "      <th>distance</th>\n",
       "      <th>comments</th>\n",
       "      <th>distance_numeric</th>\n",
       "      <th>price_numeric</th>\n",
       "    </tr>\n",
       "  </thead>\n",
       "  <tbody>\n",
       "    <tr>\n",
       "      <th>0</th>\n",
       "      <td>喜客商旅 Seeker Hotel - Sanchong</td>\n",
       "      <td>Sanchong District , Taipei</td>\n",
       "      <td>TWD 1,021</td>\n",
       "      <td>7.5</td>\n",
       "      <td>3.6 km from centre</td>\n",
       "      <td>Good</td>\n",
       "      <td>3.60</td>\n",
       "      <td>1021</td>\n",
       "    </tr>\n",
       "    <tr>\n",
       "      <th>1</th>\n",
       "      <td>Artinn藝築文旅-台北站前館</td>\n",
       "      <td>Zhongzheng District, Taipei</td>\n",
       "      <td>TWD 1,867</td>\n",
       "      <td>8.1</td>\n",
       "      <td>0.5 km from centre</td>\n",
       "      <td>Very good</td>\n",
       "      <td>0.50</td>\n",
       "      <td>1867</td>\n",
       "    </tr>\n",
       "    <tr>\n",
       "      <th>2</th>\n",
       "      <td>Finders Hotel-Fu Qian</td>\n",
       "      <td>Zhongzheng District, Taipei</td>\n",
       "      <td>TWD 2,400</td>\n",
       "      <td>8.4</td>\n",
       "      <td>0.6 km from centre</td>\n",
       "      <td>Very good</td>\n",
       "      <td>0.60</td>\n",
       "      <td>2400</td>\n",
       "    </tr>\n",
       "    <tr>\n",
       "      <th>3</th>\n",
       "      <td>citizenM Taipei North Gate</td>\n",
       "      <td>Ximending, Taipei</td>\n",
       "      <td>TWD 3,000</td>\n",
       "      <td>8.7</td>\n",
       "      <td>0.7 km from centre</td>\n",
       "      <td>Fabulous</td>\n",
       "      <td>0.70</td>\n",
       "      <td>3000</td>\n",
       "    </tr>\n",
       "    <tr>\n",
       "      <th>4</th>\n",
       "      <td>苓旅-站前 Lin Inn TMS</td>\n",
       "      <td>Zhongzheng District, Taipei</td>\n",
       "      <td>TWD 1,780</td>\n",
       "      <td>8.1</td>\n",
       "      <td>350 m from centre</td>\n",
       "      <td>Very good</td>\n",
       "      <td>0.35</td>\n",
       "      <td>1780</td>\n",
       "    </tr>\n",
       "    <tr>\n",
       "      <th>...</th>\n",
       "      <td>...</td>\n",
       "      <td>...</td>\n",
       "      <td>...</td>\n",
       "      <td>...</td>\n",
       "      <td>...</td>\n",
       "      <td>...</td>\n",
       "      <td>...</td>\n",
       "      <td>...</td>\n",
       "    </tr>\n",
       "    <tr>\n",
       "      <th>169</th>\n",
       "      <td>New World Hotel</td>\n",
       "      <td>Wanhua District , Taipei</td>\n",
       "      <td>TWD 1,725</td>\n",
       "      <td>7.4</td>\n",
       "      <td>1.5 km from centre</td>\n",
       "      <td>Good</td>\n",
       "      <td>1.50</td>\n",
       "      <td>1725</td>\n",
       "    </tr>\n",
       "    <tr>\n",
       "      <th>170</th>\n",
       "      <td>Cheers Loft Self Check-in Hotel</td>\n",
       "      <td>Wanhua District , Taipei</td>\n",
       "      <td>TWD 1,492</td>\n",
       "      <td>6.3</td>\n",
       "      <td>1.2 km from centre</td>\n",
       "      <td>Review score</td>\n",
       "      <td>1.20</td>\n",
       "      <td>1492</td>\n",
       "    </tr>\n",
       "    <tr>\n",
       "      <th>171</th>\n",
       "      <td>Hotel I Journey</td>\n",
       "      <td>Zhongshan District, Taipei</td>\n",
       "      <td>TWD 2,156</td>\n",
       "      <td>7.9</td>\n",
       "      <td>1.4 km from centre</td>\n",
       "      <td>Good</td>\n",
       "      <td>1.40</td>\n",
       "      <td>2156</td>\n",
       "    </tr>\n",
       "    <tr>\n",
       "      <th>172</th>\n",
       "      <td>Just Palace Hotel</td>\n",
       "      <td>Neihu District , Taipei</td>\n",
       "      <td>TWD 4,100</td>\n",
       "      <td>8.9</td>\n",
       "      <td>7 km from centre</td>\n",
       "      <td>Fabulous</td>\n",
       "      <td>7.00</td>\n",
       "      <td>4100</td>\n",
       "    </tr>\n",
       "    <tr>\n",
       "      <th>173</th>\n",
       "      <td>NK Hostel</td>\n",
       "      <td>Songshan District , Taipei</td>\n",
       "      <td>TWD 1,381</td>\n",
       "      <td>8.6</td>\n",
       "      <td>5.3 km from centre</td>\n",
       "      <td>Fabulous</td>\n",
       "      <td>5.30</td>\n",
       "      <td>1381</td>\n",
       "    </tr>\n",
       "  </tbody>\n",
       "</table>\n",
       "<p>174 rows × 8 columns</p>\n",
       "</div>"
      ],
      "text/plain": [
       "                                name                     location      price  \\\n",
       "0       喜客商旅 Seeker Hotel - Sanchong   Sanchong District , Taipei  TWD 1,021   \n",
       "1                   Artinn藝築文旅-台北站前館  Zhongzheng District, Taipei  TWD 1,867   \n",
       "2              Finders Hotel-Fu Qian  Zhongzheng District, Taipei  TWD 2,400   \n",
       "3         citizenM Taipei North Gate            Ximending, Taipei  TWD 3,000   \n",
       "4                  苓旅-站前 Lin Inn TMS  Zhongzheng District, Taipei  TWD 1,780   \n",
       "..                               ...                          ...        ...   \n",
       "169                  New World Hotel     Wanhua District , Taipei  TWD 1,725   \n",
       "170  Cheers Loft Self Check-in Hotel     Wanhua District , Taipei  TWD 1,492   \n",
       "171                  Hotel I Journey   Zhongshan District, Taipei  TWD 2,156   \n",
       "172                Just Palace Hotel      Neihu District , Taipei  TWD 4,100   \n",
       "173                        NK Hostel   Songshan District , Taipei  TWD 1,381   \n",
       "\n",
       "     rating            distance       comments  distance_numeric  \\\n",
       "0       7.5  3.6 km from centre          Good               3.60   \n",
       "1       8.1  0.5 km from centre     Very good               0.50   \n",
       "2       8.4  0.6 km from centre     Very good               0.60   \n",
       "3       8.7  0.7 km from centre      Fabulous               0.70   \n",
       "4       8.1   350 m from centre     Very good               0.35   \n",
       "..      ...                 ...            ...               ...   \n",
       "169     7.4  1.5 km from centre          Good               1.50   \n",
       "170     6.3  1.2 km from centre  Review score               1.20   \n",
       "171     7.9  1.4 km from centre          Good               1.40   \n",
       "172     8.9    7 km from centre      Fabulous               7.00   \n",
       "173     8.6  5.3 km from centre      Fabulous               5.30   \n",
       "\n",
       "     price_numeric  \n",
       "0             1021  \n",
       "1             1867  \n",
       "2             2400  \n",
       "3             3000  \n",
       "4             1780  \n",
       "..             ...  \n",
       "169           1725  \n",
       "170           1492  \n",
       "171           2156  \n",
       "172           4100  \n",
       "173           1381  \n",
       "\n",
       "[174 rows x 8 columns]"
      ]
     },
     "execution_count": 3,
     "metadata": {},
     "output_type": "execute_result"
    }
   ],
   "source": [
    "from data_cleaning import data_cleaner\n",
    "hotel_info_cleaned=data_cleaner(hotel_info)\n",
    "hotel_info"
   ]
  },
  {
   "cell_type": "code",
   "execution_count": 5,
   "metadata": {},
   "outputs": [
    {
     "data": {
      "text/html": [
       "<div>\n",
       "<style scoped>\n",
       "    .dataframe tbody tr th:only-of-type {\n",
       "        vertical-align: middle;\n",
       "    }\n",
       "\n",
       "    .dataframe tbody tr th {\n",
       "        vertical-align: top;\n",
       "    }\n",
       "\n",
       "    .dataframe thead th {\n",
       "        text-align: right;\n",
       "    }\n",
       "</style>\n",
       "<table border=\"1\" class=\"dataframe\">\n",
       "  <thead>\n",
       "    <tr style=\"text-align: right;\">\n",
       "      <th></th>\n",
       "      <th>name</th>\n",
       "      <th>location</th>\n",
       "      <th>price</th>\n",
       "      <th>rating</th>\n",
       "      <th>distance</th>\n",
       "      <th>comments</th>\n",
       "    </tr>\n",
       "  </thead>\n",
       "  <tbody>\n",
       "    <tr>\n",
       "      <th>0</th>\n",
       "      <td>喜客商旅 Seeker Hotel - Sanchong</td>\n",
       "      <td>Sanchong District , Taipei</td>\n",
       "      <td>TWD 1,021</td>\n",
       "      <td>7.5</td>\n",
       "      <td>3.6 km from centre</td>\n",
       "      <td>Good</td>\n",
       "    </tr>\n",
       "    <tr>\n",
       "      <th>1</th>\n",
       "      <td>Artinn藝築文旅-台北站前館</td>\n",
       "      <td>Zhongzheng District, Taipei</td>\n",
       "      <td>TWD 1,867</td>\n",
       "      <td>8.1</td>\n",
       "      <td>0.5 km from centre</td>\n",
       "      <td>Very good</td>\n",
       "    </tr>\n",
       "    <tr>\n",
       "      <th>2</th>\n",
       "      <td>Finders Hotel-Fu Qian</td>\n",
       "      <td>Zhongzheng District, Taipei</td>\n",
       "      <td>TWD 2,400</td>\n",
       "      <td>8.4</td>\n",
       "      <td>0.6 km from centre</td>\n",
       "      <td>Very good</td>\n",
       "    </tr>\n",
       "    <tr>\n",
       "      <th>3</th>\n",
       "      <td>citizenM Taipei North Gate</td>\n",
       "      <td>Ximending, Taipei</td>\n",
       "      <td>TWD 3,000</td>\n",
       "      <td>8.7</td>\n",
       "      <td>0.7 km from centre</td>\n",
       "      <td>Fabulous</td>\n",
       "    </tr>\n",
       "    <tr>\n",
       "      <th>4</th>\n",
       "      <td>苓旅-站前 Lin Inn TMS</td>\n",
       "      <td>Zhongzheng District, Taipei</td>\n",
       "      <td>TWD 1,780</td>\n",
       "      <td>8.1</td>\n",
       "      <td>350 m from centre</td>\n",
       "      <td>Very good</td>\n",
       "    </tr>\n",
       "    <tr>\n",
       "      <th>...</th>\n",
       "      <td>...</td>\n",
       "      <td>...</td>\n",
       "      <td>...</td>\n",
       "      <td>...</td>\n",
       "      <td>...</td>\n",
       "      <td>...</td>\n",
       "    </tr>\n",
       "    <tr>\n",
       "      <th>158</th>\n",
       "      <td>Hotel Eclat Taipei</td>\n",
       "      <td>Daan District, Taipei</td>\n",
       "      <td>TWD 7,277</td>\n",
       "      <td>8.2</td>\n",
       "      <td>3.4 km from centre</td>\n",
       "      <td>Very good</td>\n",
       "    </tr>\n",
       "    <tr>\n",
       "      <th>159</th>\n",
       "      <td>CY Hotel</td>\n",
       "      <td>Zhongshan District, Taipei</td>\n",
       "      <td>TWD 1,980</td>\n",
       "      <td>8.5</td>\n",
       "      <td>2.1 km from centre</td>\n",
       "      <td>Very good</td>\n",
       "    </tr>\n",
       "    <tr>\n",
       "      <th>160</th>\n",
       "      <td>Attic Hotel</td>\n",
       "      <td>Zhongshan District, Taipei</td>\n",
       "      <td>TWD 1,780</td>\n",
       "      <td>8.0</td>\n",
       "      <td>3.3 km from centre</td>\n",
       "      <td>Very good</td>\n",
       "    </tr>\n",
       "    <tr>\n",
       "      <th>161</th>\n",
       "      <td>New World Hotel</td>\n",
       "      <td>Wanhua District , Taipei</td>\n",
       "      <td>TWD 1,725</td>\n",
       "      <td>7.4</td>\n",
       "      <td>1.5 km from centre</td>\n",
       "      <td>Good</td>\n",
       "    </tr>\n",
       "    <tr>\n",
       "      <th>162</th>\n",
       "      <td>Cheers Loft Self Check-in Hotel</td>\n",
       "      <td>Wanhua District , Taipei</td>\n",
       "      <td>TWD 1,492</td>\n",
       "      <td>6.3</td>\n",
       "      <td>1.2 km from centre</td>\n",
       "      <td>Review score</td>\n",
       "    </tr>\n",
       "  </tbody>\n",
       "</table>\n",
       "<p>163 rows × 6 columns</p>\n",
       "</div>"
      ],
      "text/plain": [
       "                                name                     location      price  \\\n",
       "0       喜客商旅 Seeker Hotel - Sanchong   Sanchong District , Taipei  TWD 1,021   \n",
       "1                   Artinn藝築文旅-台北站前館  Zhongzheng District, Taipei  TWD 1,867   \n",
       "2              Finders Hotel-Fu Qian  Zhongzheng District, Taipei  TWD 2,400   \n",
       "3         citizenM Taipei North Gate            Ximending, Taipei  TWD 3,000   \n",
       "4                  苓旅-站前 Lin Inn TMS  Zhongzheng District, Taipei  TWD 1,780   \n",
       "..                               ...                          ...        ...   \n",
       "158               Hotel Eclat Taipei        Daan District, Taipei  TWD 7,277   \n",
       "159                         CY Hotel   Zhongshan District, Taipei  TWD 1,980   \n",
       "160                      Attic Hotel   Zhongshan District, Taipei  TWD 1,780   \n",
       "161                  New World Hotel     Wanhua District , Taipei  TWD 1,725   \n",
       "162  Cheers Loft Self Check-in Hotel     Wanhua District , Taipei  TWD 1,492   \n",
       "\n",
       "    rating            distance       comments  \n",
       "0      7.5  3.6 km from centre          Good   \n",
       "1      8.1  0.5 km from centre     Very good   \n",
       "2      8.4  0.6 km from centre     Very good   \n",
       "3      8.7  0.7 km from centre      Fabulous   \n",
       "4      8.1   350 m from centre     Very good   \n",
       "..     ...                 ...            ...  \n",
       "158    8.2  3.4 km from centre     Very good   \n",
       "159    8.5  2.1 km from centre     Very good   \n",
       "160    8.0  3.3 km from centre     Very good   \n",
       "161    7.4  1.5 km from centre          Good   \n",
       "162    6.3  1.2 km from centre  Review score   \n",
       "\n",
       "[163 rows x 6 columns]"
      ]
     },
     "execution_count": 5,
     "metadata": {},
     "output_type": "execute_result"
    }
   ],
   "source": [
    "hotel_info=hotel_info.reset_index().drop(columns=[\"index\"])\n",
    "hotel_info"
   ]
  },
  {
   "cell_type": "markdown",
   "metadata": {},
   "source": [
    "## data cleaning"
   ]
  },
  {
   "cell_type": "code",
   "execution_count": 6,
   "metadata": {},
   "outputs": [],
   "source": [
    "hotel_info[\"distance_numeric\"]=0"
   ]
  },
  {
   "cell_type": "code",
   "execution_count": 7,
   "metadata": {},
   "outputs": [
    {
     "name": "stderr",
     "output_type": "stream",
     "text": [
      "C:\\Users\\johan\\AppData\\Local\\Temp\\ipykernel_9652\\3567725903.py:5: SettingWithCopyWarning: \n",
      "A value is trying to be set on a copy of a slice from a DataFrame\n",
      "\n",
      "See the caveats in the documentation: https://pandas.pydata.org/pandas-docs/stable/user_guide/indexing.html#returning-a-view-versus-a-copy\n",
      "  hotel_info[\"distance_numeric\"][i]=float(hotel_info[\"distance\"][i][0:slice-1])\n"
     ]
    }
   ],
   "source": [
    "# distance\n",
    "for i in range(hotel_info.shape[0]):\n",
    "    slice=hotel_info[\"distance\"][i].find(\"km\")\n",
    "    if slice!=-1:\n",
    "        hotel_info[\"distance_numeric\"][i]=float(hotel_info[\"distance\"][i][0:slice-1])\n",
    "    else:\n",
    "        slice_temp=hotel_info[\"distance\"][i].find(\"m\")\n",
    "        hotel_info[\"distance_numeric\"][i]=float(hotel_info[\"distance\"][i][0:slice_temp-1])/1000"
   ]
  },
  {
   "cell_type": "code",
   "execution_count": 8,
   "metadata": {},
   "outputs": [],
   "source": [
    "hotel_info[\"price_numeric\"]=0"
   ]
  },
  {
   "cell_type": "code",
   "execution_count": 9,
   "metadata": {},
   "outputs": [
    {
     "name": "stderr",
     "output_type": "stream",
     "text": [
      "C:\\Users\\johan\\AppData\\Local\\Temp\\ipykernel_9652\\2500331478.py:5: SettingWithCopyWarning: \n",
      "A value is trying to be set on a copy of a slice from a DataFrame\n",
      "\n",
      "See the caveats in the documentation: https://pandas.pydata.org/pandas-docs/stable/user_guide/indexing.html#returning-a-view-versus-a-copy\n",
      "  hotel_info[\"price_numeric\"][i]=int(hotel_info[\"price\"][i][slice+4:].replace(\",\",\"\"))\n"
     ]
    }
   ],
   "source": [
    "# price\n",
    "for i in range(hotel_info.shape[0]):\n",
    "    slice=hotel_info[\"price\"][i].find(\"TWD\")\n",
    "    if slice!=-1:\n",
    "        hotel_info[\"price_numeric\"][i]=int(hotel_info[\"price\"][i][slice+4:].replace(\",\",\"\"))\n",
    "    else:\n",
    "        continue"
   ]
  },
  {
   "cell_type": "code",
   "execution_count": 10,
   "metadata": {},
   "outputs": [
    {
     "data": {
      "text/plain": [
       "name                 object\n",
       "location             object\n",
       "price                object\n",
       "rating              float64\n",
       "distance             object\n",
       "comments             object\n",
       "distance_numeric    float64\n",
       "price_numeric         int64\n",
       "dtype: object"
      ]
     },
     "execution_count": 10,
     "metadata": {},
     "output_type": "execute_result"
    }
   ],
   "source": [
    "#rating \n",
    "hotel_info[\"rating\"]=hotel_info[\"rating\"].astype(\"float\")\n",
    "\n",
    "#comment\n",
    "hotel_info[\"comments\"]=hotel_info[\"comments\"].astype(\"str\")\n",
    "hotel_info.dtypes"
   ]
  },
  {
   "cell_type": "code",
   "execution_count": 11,
   "metadata": {},
   "outputs": [
    {
     "data": {
      "text/html": [
       "<div>\n",
       "<style scoped>\n",
       "    .dataframe tbody tr th:only-of-type {\n",
       "        vertical-align: middle;\n",
       "    }\n",
       "\n",
       "    .dataframe tbody tr th {\n",
       "        vertical-align: top;\n",
       "    }\n",
       "\n",
       "    .dataframe thead th {\n",
       "        text-align: right;\n",
       "    }\n",
       "</style>\n",
       "<table border=\"1\" class=\"dataframe\">\n",
       "  <thead>\n",
       "    <tr style=\"text-align: right;\">\n",
       "      <th></th>\n",
       "      <th>name</th>\n",
       "      <th>location</th>\n",
       "      <th>price</th>\n",
       "      <th>rating</th>\n",
       "      <th>distance</th>\n",
       "      <th>comments</th>\n",
       "      <th>distance_numeric</th>\n",
       "      <th>price_numeric</th>\n",
       "    </tr>\n",
       "  </thead>\n",
       "  <tbody>\n",
       "    <tr>\n",
       "      <th>0</th>\n",
       "      <td>喜客商旅 Seeker Hotel - Sanchong</td>\n",
       "      <td>Sanchong District , Taipei</td>\n",
       "      <td>TWD 1,021</td>\n",
       "      <td>7.5</td>\n",
       "      <td>3.6 km from centre</td>\n",
       "      <td>Good</td>\n",
       "      <td>3.60</td>\n",
       "      <td>1021</td>\n",
       "    </tr>\n",
       "    <tr>\n",
       "      <th>1</th>\n",
       "      <td>Artinn藝築文旅-台北站前館</td>\n",
       "      <td>Zhongzheng District, Taipei</td>\n",
       "      <td>TWD 1,867</td>\n",
       "      <td>8.1</td>\n",
       "      <td>0.5 km from centre</td>\n",
       "      <td>Very good</td>\n",
       "      <td>0.50</td>\n",
       "      <td>1867</td>\n",
       "    </tr>\n",
       "    <tr>\n",
       "      <th>2</th>\n",
       "      <td>Finders Hotel-Fu Qian</td>\n",
       "      <td>Zhongzheng District, Taipei</td>\n",
       "      <td>TWD 2,400</td>\n",
       "      <td>8.4</td>\n",
       "      <td>0.6 km from centre</td>\n",
       "      <td>Very good</td>\n",
       "      <td>0.60</td>\n",
       "      <td>2400</td>\n",
       "    </tr>\n",
       "    <tr>\n",
       "      <th>3</th>\n",
       "      <td>citizenM Taipei North Gate</td>\n",
       "      <td>Ximending, Taipei</td>\n",
       "      <td>TWD 3,000</td>\n",
       "      <td>8.7</td>\n",
       "      <td>0.7 km from centre</td>\n",
       "      <td>Fabulous</td>\n",
       "      <td>0.70</td>\n",
       "      <td>3000</td>\n",
       "    </tr>\n",
       "    <tr>\n",
       "      <th>4</th>\n",
       "      <td>苓旅-站前 Lin Inn TMS</td>\n",
       "      <td>Zhongzheng District, Taipei</td>\n",
       "      <td>TWD 1,780</td>\n",
       "      <td>8.1</td>\n",
       "      <td>350 m from centre</td>\n",
       "      <td>Very good</td>\n",
       "      <td>0.35</td>\n",
       "      <td>1780</td>\n",
       "    </tr>\n",
       "    <tr>\n",
       "      <th>...</th>\n",
       "      <td>...</td>\n",
       "      <td>...</td>\n",
       "      <td>...</td>\n",
       "      <td>...</td>\n",
       "      <td>...</td>\n",
       "      <td>...</td>\n",
       "      <td>...</td>\n",
       "      <td>...</td>\n",
       "    </tr>\n",
       "    <tr>\n",
       "      <th>158</th>\n",
       "      <td>Hotel Eclat Taipei</td>\n",
       "      <td>Daan District, Taipei</td>\n",
       "      <td>TWD 7,277</td>\n",
       "      <td>8.2</td>\n",
       "      <td>3.4 km from centre</td>\n",
       "      <td>Very good</td>\n",
       "      <td>3.40</td>\n",
       "      <td>7277</td>\n",
       "    </tr>\n",
       "    <tr>\n",
       "      <th>159</th>\n",
       "      <td>CY Hotel</td>\n",
       "      <td>Zhongshan District, Taipei</td>\n",
       "      <td>TWD 1,980</td>\n",
       "      <td>8.5</td>\n",
       "      <td>2.1 km from centre</td>\n",
       "      <td>Very good</td>\n",
       "      <td>2.10</td>\n",
       "      <td>1980</td>\n",
       "    </tr>\n",
       "    <tr>\n",
       "      <th>160</th>\n",
       "      <td>Attic Hotel</td>\n",
       "      <td>Zhongshan District, Taipei</td>\n",
       "      <td>TWD 1,780</td>\n",
       "      <td>8.0</td>\n",
       "      <td>3.3 km from centre</td>\n",
       "      <td>Very good</td>\n",
       "      <td>3.30</td>\n",
       "      <td>1780</td>\n",
       "    </tr>\n",
       "    <tr>\n",
       "      <th>161</th>\n",
       "      <td>New World Hotel</td>\n",
       "      <td>Wanhua District , Taipei</td>\n",
       "      <td>TWD 1,725</td>\n",
       "      <td>7.4</td>\n",
       "      <td>1.5 km from centre</td>\n",
       "      <td>Good</td>\n",
       "      <td>1.50</td>\n",
       "      <td>1725</td>\n",
       "    </tr>\n",
       "    <tr>\n",
       "      <th>162</th>\n",
       "      <td>Cheers Loft Self Check-in Hotel</td>\n",
       "      <td>Wanhua District , Taipei</td>\n",
       "      <td>TWD 1,492</td>\n",
       "      <td>6.3</td>\n",
       "      <td>1.2 km from centre</td>\n",
       "      <td>Review score</td>\n",
       "      <td>1.20</td>\n",
       "      <td>1492</td>\n",
       "    </tr>\n",
       "  </tbody>\n",
       "</table>\n",
       "<p>163 rows × 8 columns</p>\n",
       "</div>"
      ],
      "text/plain": [
       "                                name                     location      price  \\\n",
       "0       喜客商旅 Seeker Hotel - Sanchong   Sanchong District , Taipei  TWD 1,021   \n",
       "1                   Artinn藝築文旅-台北站前館  Zhongzheng District, Taipei  TWD 1,867   \n",
       "2              Finders Hotel-Fu Qian  Zhongzheng District, Taipei  TWD 2,400   \n",
       "3         citizenM Taipei North Gate            Ximending, Taipei  TWD 3,000   \n",
       "4                  苓旅-站前 Lin Inn TMS  Zhongzheng District, Taipei  TWD 1,780   \n",
       "..                               ...                          ...        ...   \n",
       "158               Hotel Eclat Taipei        Daan District, Taipei  TWD 7,277   \n",
       "159                         CY Hotel   Zhongshan District, Taipei  TWD 1,980   \n",
       "160                      Attic Hotel   Zhongshan District, Taipei  TWD 1,780   \n",
       "161                  New World Hotel     Wanhua District , Taipei  TWD 1,725   \n",
       "162  Cheers Loft Self Check-in Hotel     Wanhua District , Taipei  TWD 1,492   \n",
       "\n",
       "     rating            distance       comments  distance_numeric  \\\n",
       "0       7.5  3.6 km from centre          Good               3.60   \n",
       "1       8.1  0.5 km from centre     Very good               0.50   \n",
       "2       8.4  0.6 km from centre     Very good               0.60   \n",
       "3       8.7  0.7 km from centre      Fabulous               0.70   \n",
       "4       8.1   350 m from centre     Very good               0.35   \n",
       "..      ...                 ...            ...               ...   \n",
       "158     8.2  3.4 km from centre     Very good               3.40   \n",
       "159     8.5  2.1 km from centre     Very good               2.10   \n",
       "160     8.0  3.3 km from centre     Very good               3.30   \n",
       "161     7.4  1.5 km from centre          Good               1.50   \n",
       "162     6.3  1.2 km from centre  Review score               1.20   \n",
       "\n",
       "     price_numeric  \n",
       "0             1021  \n",
       "1             1867  \n",
       "2             2400  \n",
       "3             3000  \n",
       "4             1780  \n",
       "..             ...  \n",
       "158           7277  \n",
       "159           1980  \n",
       "160           1780  \n",
       "161           1725  \n",
       "162           1492  \n",
       "\n",
       "[163 rows x 8 columns]"
      ]
     },
     "execution_count": 11,
     "metadata": {},
     "output_type": "execute_result"
    }
   ],
   "source": [
    "hotel_info"
   ]
  },
  {
   "cell_type": "markdown",
   "metadata": {},
   "source": [
    "## Data Visualization"
   ]
  },
  {
   "cell_type": "code",
   "execution_count": 8,
   "metadata": {},
   "outputs": [
    {
     "data": {
      "text/plain": [
       "'2023-11-23'"
      ]
     },
     "execution_count": 8,
     "metadata": {},
     "output_type": "execute_result"
    }
   ],
   "source": [
    "from datetime import date\n",
    "str(date.today())"
   ]
  },
  {
   "cell_type": "code",
   "execution_count": 4,
   "metadata": {},
   "outputs": [
    {
     "data": {
      "application/vnd.plotly.v1+json": {
       "config": {
        "plotlyServerURL": "https://plot.ly"
       },
       "data": [
        {
         "customdata": [
          [
           "喜客商旅 Seeker Hotel - Sanchong",
           7.5,
           "TWD 1,021"
          ],
          [
           "Artinn藝築文旅-台北站前館",
           8.1,
           "TWD 1,867"
          ],
          [
           "Finders Hotel-Fu Qian",
           8.4,
           "TWD 2,400"
          ],
          [
           "citizenM Taipei North Gate",
           8.7,
           "TWD 3,000"
          ],
          [
           "苓旅-站前 Lin Inn TMS",
           8.1,
           "TWD 1,780"
          ],
          [
           "V-one Vogue Hotel",
           8.2,
           "TWD 1,699"
          ],
          [
           "Green World Grand NanJing",
           8.6,
           "TWD 2,719"
          ],
          [
           "Yomi Hotel - ShuangLian MRT",
           8.1,
           "TWD 2,200"
          ],
          [
           "Goodmore Hotel",
           8.1,
           "TWD 2,080"
          ],
          [
           "Green World Mai - NanJing",
           8.2,
           "TWD 1,913"
          ],
          [
           "MGH Mitsui Garden Hotel Taipei Zhongxiao",
           9,
           "TWD 7,000"
          ],
          [
           "San Want Residences Taipei",
           9.1,
           "TWD 4,443"
          ],
          [
           "Boutech JianTan Hotel",
           8.6,
           "TWD 3,612"
          ],
          [
           "Hotel Resonance Taipei, Tapestry Collection by Hilton",
           9.2,
           "TWD 9,818"
          ],
          [
           "LIHO Hotel Hankou",
           7,
           "TWD 1,513"
          ],
          [
           "Stay Inn",
           8.2,
           "TWD 2,089"
          ],
          [
           "Kimpton Da An Taipei- an IHG Hotel",
           9.1,
           "TWD 7,536"
          ],
          [
           "Hotel COZZI Minsheng Taipei",
           8.7,
           "TWD 4,800"
          ],
          [
           "Cavemen Hostel Taipei Station Youth Branch",
           7.4,
           "TWD 1,399"
          ],
          [
           "Papersun Hotel",
           7.8,
           "TWD 2,650"
          ],
          [
           "Muzik Hotel - Ximen Station Branch",
           8,
           "TWD 1,986"
          ],
          [
           "Welove meworld Inn",
           7.6,
           "TWD 1,535"
          ],
          [
           "Hua Da Hotel- Nanxi",
           7.8,
           "TWD 1,260"
          ],
          [
           "Green World Hotel - Zhonghua",
           8,
           "TWD 2,852"
          ],
          [
           "Caesar Metro Taipei",
           8.3,
           "TWD 3,800"
          ],
          [
           "小隱居Hermit_Dorm",
           9.2,
           "TWD 1,760"
          ],
          [
           "Sheraton Grand Taipei Hotel",
           8.3,
           "TWD 6,300"
          ],
          [
           "意芙旅店 Ifinn Hotel",
           7.9,
           "TWD 2,320"
          ],
          [
           "Capital Hotel SongShan",
           7.9,
           "TWD 2,527"
          ],
          [
           "盤古捷旅 - Panco Hotel",
           8.7,
           "TWD 2,400"
          ],
          [
           "Waikoloa Hotel",
           8.6,
           "TWD 3,040"
          ],
          [
           "Roaders Plus Hotel - Taipei Station",
           8.5,
           "TWD 3,880"
          ],
          [
           "Green World Sansui",
           7.6,
           "TWD 2,759"
          ],
          [
           "Yi Su Hotel-Taipei Ningxia",
           7.8,
           "TWD 1,950"
          ],
          [
           "熙門小聚 YS Inn",
           7.7,
           "TWD 1,662"
          ],
          [
           "Humble Boutique Hotel",
           8.7,
           "TWD 5,988"
          ],
          [
           "The Okura Prestige Taipei",
           8.9,
           "TWD 8,176"
          ],
          [
           "W Taipei",
           8.6,
           "TWD 12,000"
          ],
          [
           "Tango Inn Taipei Ximen",
           8.5,
           "TWD 3,089"
          ],
          [
           "苓旅中山館-Lininn ZhongShan",
           8.6,
           "TWD 2,080"
          ],
          [
           "Hù House - Taipei",
           8.1,
           "TWD 2,520"
          ],
          [
           "miniinn",
           8.5,
           "TWD 867"
          ],
          [
           "Beauty Hotels Taipei - B7 Journey",
           7.4,
           "TWD 1,890"
          ],
          [
           "Roaders Plus Hotel - Theme",
           8.5,
           "TWD 3,977"
          ],
          [
           "Grand Mayfull Taipei",
           9.3,
           "TWD 7,035"
          ],
          [
           "City Suites - Taipei Nandong",
           8.3,
           "TWD 2,444"
          ],
          [
           "Star Hostel Taipei Main Station",
           9.3,
           "TWD 4,280"
          ],
          [
           "RF Hotel  Linsen",
           8.1,
           "TWD 2,107"
          ],
          [
           "United Hotel",
           8.2,
           "TWD 4,400"
          ],
          [
           "Hotel Double One",
           7.9,
           "TWD 4,675"
          ],
          [
           "Miramar Garden Taipei",
           8.6,
           "TWD 5,542"
          ],
          [
           "Courtyard by Marriott Taipei",
           8.2,
           "TWD 5,600"
          ],
          [
           "Caesar Park Hotel Taipei",
           8,
           "TWD 4,807"
          ],
          [
           "Taipei Marriott Hotel",
           8.6,
           "TWD 8,100"
          ],
          [
           "Cho Hotel 3",
           8.8,
           "TWD 3,080"
          ],
          [
           "沃客商旅 承德館",
           7.3,
           "TWD 1,776"
          ],
          [
           "The Tango Hotel Taipei FuHsing",
           8.7,
           "TWD 3,996"
          ],
          [
           "Grand HiLai Taipei",
           8.2,
           "TWD 8,302"
          ],
          [
           "The Landis Taipei",
           8.9,
           "TWD 6,970"
          ],
          [
           "The Tango Hotel Taipei Jiantan",
           8.9,
           "TWD 5,643"
          ],
          [
           "Sonnien Hotel",
           8.4,
           "TWD 4,300"
          ],
          [
           "Green World Flora Annex",
           7.4,
           "TWD 2,573"
          ],
          [
           "Green World Triple Beds",
           8.4,
           "TWD 2,820"
          ],
          [
           "FX Hotel Taipei Nanjing East Road Branch",
           8.1,
           "TWD 2,688"
          ],
          [
           "Chyuan Du Spring Resort",
           7.8,
           "TWD 2,800"
          ],
          [
           "Jian Shan Hotel",
           8.7,
           "TWD 1,680"
          ],
          [
           "The Howard Plaza Hotel Taipei",
           8.4,
           "TWD 4,700"
          ],
          [
           "Walker Motel",
           7.4,
           "TWD 1,589"
          ],
          [
           "CityInn Hotel Plus - Ximending Branch",
           9,
           "TWD 2,755"
          ],
          [
           "Slow Town Hotel-Reel",
           7.9,
           "TWD 2,000"
          ],
          [
           "CHECK inn New Taipei LuZhou",
           8.6,
           "TWD 3,177"
          ],
          [
           "Hotel Midtown Richardson",
           7.9,
           "TWD 3,686"
          ],
          [
           "Hotel Metropolitan Premier Taipei",
           8.9,
           "TWD 7,600"
          ],
          [
           "Hotel Gracery Taipei",
           9,
           "TWD 6,068"
          ],
          [
           "Riyuexing Hotel",
           7.2,
           "TWD 1,100"
          ],
          [
           "Green World JianPei",
           8.3,
           "TWD 4,464"
          ],
          [
           "SleepBox Hostel",
           7.2,
           "TWD 990"
          ],
          [
           "日光樂居西門館 Fun Stay Inn Ximen",
           8.1,
           "TWD 2,004"
          ],
          [
           "Regent Taipei",
           8.7,
           "TWD 7,600"
          ],
          [
           "First Hotel",
           7.1,
           "TWD 1,900"
          ],
          [
           "CityInn Hotel Taipei Station Branch II",
           8.9,
           "TWD 3,840"
          ],
          [
           "RF Hotel - Zhongxiao",
           7.8,
           "TWD 2,104"
          ],
          [
           "les suites taipei ching cheng",
           8.8,
           "TWD 5,985"
          ],
          [
           "Aloft Taipei Beitou",
           8,
           "TWD 6,900"
          ],
          [
           "Green World NanGang",
           8.3,
           "TWD 4,050"
          ],
          [
           "Wallsun Hotel",
           8.2,
           "TWD 3,439"
          ],
          [
           "Muzik Hotel - Ximen Station Branch",
           8,
           "TWD 2,207"
          ],
          [
           "In-stone Motel",
           7.8,
           "TWD 2,174"
          ],
          [
           "Hilton Taipei Sinban",
           8.5,
           "TWD 5,313"
          ],
          [
           "Hotel Orchard Park - Taipei",
           7.8,
           "TWD 2,588"
          ],
          [
           "Hub Hotel - Songshan Airport Branch",
           8.3,
           "TWD 1,780"
          ],
          [
           "Backpackers Hostel - Taipei Changchun",
           8,
           "TWD 900"
          ],
          [
           "Urtrip Hotel",
           8.4,
           "TWD 2,176"
          ],
          [
           "WORK INN at Taipei 101",
           7.8,
           "TWD 786"
          ],
          [
           "CHECK inn Select Taipei Yamgmingshan",
           7.4,
           "TWD 5,648"
          ],
          [
           "Fun Inn Taipei Hostel",
           7.5,
           "TWD 720"
          ],
          [
           "Palais de Chine Hotel",
           8.5,
           "TWD 6,006"
          ],
          [
           "K Hotel Taipei Chang-An",
           8.6,
           "TWD 4,013"
          ],
          [
           "Royal Seasons Hotel Taipei ‧ Nanjing W.",
           8.3,
           "TWD 2,500"
          ],
          [
           "苓旅萬年-LIN INN Wan Nian",
           8,
           "TWD 2,331"
          ],
          [
           "CityInn Hotel Plus- Fuxing North Road Branch",
           9.1,
           "TWD 5,760"
          ],
          [
           "泊居旅店 Oursinn Hotel",
           7.2,
           "TWD 1,738"
          ],
          [
           "The Place Taipei",
           8.9,
           "TWD 4,670"
          ],
          [
           "VIP Hotel",
           7.4,
           "TWD 1,580"
          ],
          [
           "Lacle Hotel-Luzhou Taipei",
           8.7,
           "TWD 2,736"
          ],
          [
           "HOTEL CHAM CHAM - Taipei",
           9,
           "TWD 3,700"
          ],
          [
           "新獅城商務旅店",
           6.7,
           "TWD 1,300"
          ],
          [
           "Shanger Hotel",
           7.3,
           "TWD 979"
          ],
          [
           "Tomato TTT 番茄行旅",
           9.5,
           "TWD 3,280"
          ],
          [
           "Silken Hotel",
           8.5,
           "TWD 1,422"
          ],
          [
           "Ark Hotel - Changan Fuxing方舟商業股份有限公司",
           8,
           "TWD 2,200"
          ],
          [
           "Brother Hotel",
           8.9,
           "TWD 4,650"
          ],
          [
           "The Riviera Hotel Taipei",
           8.7,
           "TWD 4,680"
          ],
          [
           "DoubleTree by Hilton Taipei Zhongshan",
           9,
           "TWD 6,757"
          ],
          [
           "Bon Hotel Taipei",
           8.1,
           "TWD 2,250"
          ],
          [
           "The Door Inn",
           9.1,
           "TWD 3,132"
          ],
          [
           "Ambience Hotel Taipei",
           8.6,
           "TWD 5,031"
          ],
          [
           "Hub Hotel Songshan Inn",
           7.5,
           "TWD 1,562"
          ],
          [
           "Good Life Hotel - Shang Hwa",
           7.9,
           "TWD 1,920"
          ],
          [
           "OwlStay Flip Flop Hostel - Garden",
           8.8,
           "TWD 2,415"
          ],
          [
           "Royal Rose Hotel Xinsheng",
           8.6,
           "TWD 2,700"
          ],
          [
           "Just Inn",
           8,
           "TWD 1,873"
          ],
          [
           "Park City Hotel - Luzhou Taipei",
           8.8,
           "TWD 3,250"
          ],
          [
           "Tango Inn Taipei Jihe",
           8.5,
           "TWD 3,049"
          ],
          [
           "The Tango Hotel Taipei ChangAn",
           8.5,
           "TWD 4,536"
          ],
          [
           "Archess Hotel",
           8.1,
           "TWD 1,960"
          ],
          [
           "Beauty Hotels Taipei - Hotel Bfun Self Check in Hotel",
           8,
           "TWD 1,767"
          ],
          [
           "Inn Cube - Ximen",
           7.5,
           "TWD 1,045"
          ],
          [
           "Asia Pacific Hotel Beitou",
           8.5,
           "TWD 8,250"
          ],
          [
           "Hotel Riverview Taipei",
           7.4,
           "TWD 2,185"
          ],
          [
           "T.O. Hotel - Taipei station",
           8.3,
           "TWD 2,223"
          ],
          [
           "Rido Hotel",
           8.6,
           "TWD 3,128"
          ],
          [
           "Hotel Leisure Beitou",
           7.9,
           "TWD 2,090"
          ],
          [
           "Hotel Sunroute Taipei",
           8.5,
           "TWD 3,334"
          ],
          [
           "K Hotel Taipei Songjiang",
           8.6,
           "TWD 4,085"
          ],
          [
           "The Tango Hotel Taipei XinYi",
           8.3,
           "TWD 3,888"
          ],
          [
           "Sun Star Business Hotel",
           7.6,
           "TWD 1,800"
          ],
          [
           "Ximen Garden Inn",
           7.2,
           "TWD 2,074"
          ],
          [
           "Bon Hotel Taipei",
           8.1,
           "TWD 2,565"
          ],
          [
           "Caesar Park Hotel Taipei",
           8,
           "TWD 5,244"
          ],
          [
           "Cosmos Hotel Taipei",
           8.4,
           "TWD 5,183"
          ],
          [
           "Uinn Business Hotel-Shihlin",
           8.6,
           "TWD 2,500"
          ],
          [
           "Just Sleep - Sanchong",
           9.1,
           "TWD 3,833"
          ],
          [
           "Best Hotel",
           7.2,
           "TWD 1,300"
          ],
          [
           "LaVita Hotel",
           7.9,
           "TWD 1,889"
          ],
          [
           "Waterfront Hotel",
           8.6,
           "TWD 2,530"
          ],
          [
           "Colors Infinity Inn",
           7.8,
           "TWD 1,633"
          ],
          [
           "T.O. Hotel Chengde",
           7.4,
           "TWD 1,680"
          ],
          [
           "Hej Taipei Arena Hotel",
           8.1,
           "TWD 2,880"
          ],
          [
           "Suz Hotel",
           8.6,
           "TWD 4,600"
          ],
          [
           "Roaders Hotel - Zhonghua",
           8.7,
           "TWD 3,278"
          ],
          [
           "Ximen Hotel",
           7.3,
           "TWD 2,592"
          ],
          [
           "Meadow Hotel Taipei",
           7.2,
           "TWD 1,600"
          ],
          [
           "Energy Inn",
           9.1,
           "TWD 2,820"
          ],
          [
           "KDM Hotel",
           7.9,
           "TWD 2,732"
          ],
          [
           "CityInn Hotel Taipei Station Branch III",
           8.9,
           "TWD 4,200"
          ],
          [
           "The Blue by Just Inn 正旅館 藍",
           7.6,
           "TWD 2,475"
          ],
          [
           "Unite Hotel",
           7.7,
           "TWD 2,000"
          ],
          [
           "森浩文旅",
           8.2,
           "TWD 1,780"
          ],
          [
           "Taipei Garden Hotel - Ximending",
           8.7,
           "TWD 6,124"
          ],
          [
           "Inn Cube - Taipei Main Station",
           7.6,
           "TWD 1,600"
          ],
          [
           "Hotel Indigo Taipei North, an IHG Hotel",
           8.3,
           "TWD 5,717"
          ],
          [
           "Giant Rich Hotel",
           7.9,
           "TWD 1,680"
          ],
          [
           "I Play Inn TP",
           7.9,
           "TWD 1,591"
          ],
          [
           "Horizon Inn",
           8.1,
           "TWD 2,016"
          ],
          [
           "Hotel Eclat Taipei",
           8.2,
           "TWD 7,277"
          ],
          [
           "CY Hotel",
           8.5,
           "TWD 1,980"
          ],
          [
           "Attic Hotel",
           8,
           "TWD 1,780"
          ],
          [
           "On My Way - Taipei Hostel",
           8.5,
           "TWD 1,550"
          ],
          [
           "New World Hotel",
           7.4,
           "TWD 1,725"
          ],
          [
           "Cheers Loft Self Check-in Hotel",
           6.3,
           "TWD 1,492"
          ],
          [
           "Hotel I Journey",
           7.9,
           "TWD 2,156"
          ],
          [
           "Just Palace Hotel",
           8.9,
           "TWD 4,100"
          ],
          [
           "NK Hostel",
           8.6,
           "TWD 1,381"
          ]
         ],
         "hovertemplate": "price_numeric=%{x}<br>distance_numeric=%{y}<br>name=%{customdata[0]}<br>rating=%{marker.color}<br>price=%{customdata[2]}<extra></extra>",
         "legendgroup": "",
         "marker": {
          "color": [
           7.5,
           8.1,
           8.4,
           8.7,
           8.1,
           8.2,
           8.6,
           8.1,
           8.1,
           8.2,
           9,
           9.1,
           8.6,
           9.2,
           7,
           8.2,
           9.1,
           8.7,
           7.4,
           7.8,
           8,
           7.6,
           7.8,
           8,
           8.3,
           9.2,
           8.3,
           7.9,
           7.9,
           8.7,
           8.6,
           8.5,
           7.6,
           7.8,
           7.7,
           8.7,
           8.9,
           8.6,
           8.5,
           8.6,
           8.1,
           8.5,
           7.4,
           8.5,
           9.3,
           8.3,
           9.3,
           8.1,
           8.2,
           7.9,
           8.6,
           8.2,
           8,
           8.6,
           8.8,
           7.3,
           8.7,
           8.2,
           8.9,
           8.9,
           8.4,
           7.4,
           8.4,
           8.1,
           7.8,
           8.7,
           8.4,
           7.4,
           9,
           7.9,
           8.6,
           7.9,
           8.9,
           9,
           7.2,
           8.3,
           7.2,
           8.1,
           8.7,
           7.1,
           8.9,
           7.8,
           8.8,
           8,
           8.3,
           8.2,
           8,
           7.8,
           8.5,
           7.8,
           8.3,
           8,
           8.4,
           7.8,
           7.4,
           7.5,
           8.5,
           8.6,
           8.3,
           8,
           9.1,
           7.2,
           8.9,
           7.4,
           8.7,
           9,
           6.7,
           7.3,
           9.5,
           8.5,
           8,
           8.9,
           8.7,
           9,
           8.1,
           9.1,
           8.6,
           7.5,
           7.9,
           8.8,
           8.6,
           8,
           8.8,
           8.5,
           8.5,
           8.1,
           8,
           7.5,
           8.5,
           7.4,
           8.3,
           8.6,
           7.9,
           8.5,
           8.6,
           8.3,
           7.6,
           7.2,
           8.1,
           8,
           8.4,
           8.6,
           9.1,
           7.2,
           7.9,
           8.6,
           7.8,
           7.4,
           8.1,
           8.6,
           8.7,
           7.3,
           7.2,
           9.1,
           7.9,
           8.9,
           7.6,
           7.7,
           8.2,
           8.7,
           7.6,
           8.3,
           7.9,
           7.9,
           8.1,
           8.2,
           8.5,
           8,
           8.5,
           7.4,
           6.3,
           7.9,
           8.9,
           8.6
          ],
          "coloraxis": "coloraxis",
          "symbol": "circle"
         },
         "mode": "markers",
         "name": "",
         "orientation": "v",
         "showlegend": false,
         "type": "scatter",
         "x": [
          1021,
          1867,
          2400,
          3000,
          1780,
          1699,
          2719,
          2200,
          2080,
          1913,
          7000,
          4443,
          3612,
          9818,
          1513,
          2089,
          7536,
          4800,
          1399,
          2650,
          1986,
          1535,
          1260,
          2852,
          3800,
          1760,
          6300,
          2320,
          2527,
          2400,
          3040,
          3880,
          2759,
          1950,
          1662,
          5988,
          8176,
          12000,
          3089,
          2080,
          2520,
          867,
          1890,
          3977,
          7035,
          2444,
          4280,
          2107,
          4400,
          4675,
          5542,
          5600,
          4807,
          8100,
          3080,
          1776,
          3996,
          8302,
          6970,
          5643,
          4300,
          2573,
          2820,
          2688,
          2800,
          1680,
          4700,
          1589,
          2755,
          2000,
          3177,
          3686,
          7600,
          6068,
          1100,
          4464,
          990,
          2004,
          7600,
          1900,
          3840,
          2104,
          5985,
          6900,
          4050,
          3439,
          2207,
          2174,
          5313,
          2588,
          1780,
          900,
          2176,
          786,
          5648,
          720,
          6006,
          4013,
          2500,
          2331,
          5760,
          1738,
          4670,
          1580,
          2736,
          3700,
          1300,
          979,
          3280,
          1422,
          2200,
          4650,
          4680,
          6757,
          2250,
          3132,
          5031,
          1562,
          1920,
          2415,
          2700,
          1873,
          3250,
          3049,
          4536,
          1960,
          1767,
          1045,
          8250,
          2185,
          2223,
          3128,
          2090,
          3334,
          4085,
          3888,
          1800,
          2074,
          2565,
          5244,
          5183,
          2500,
          3833,
          1300,
          1889,
          2530,
          1633,
          1680,
          2880,
          4600,
          3278,
          2592,
          1600,
          2820,
          2732,
          4200,
          2475,
          2000,
          1780,
          6124,
          1600,
          5717,
          1680,
          1591,
          2016,
          7277,
          1980,
          1780,
          1550,
          1725,
          1492,
          2156,
          4100,
          1381
         ],
         "xaxis": "x",
         "y": [
          3.6,
          0.5,
          0.6,
          0.7,
          0.35,
          1.6,
          2.1,
          1.4,
          2.5,
          2,
          1.7,
          1.1,
          4.8,
          0.6,
          1.2,
          1.4,
          2.9,
          2.3,
          0.35,
          5.2,
          0.9,
          1.4,
          1,
          0.8,
          2.3,
          5.3,
          0.5,
          1.6,
          5.9,
          0.9,
          2.2,
          0.4,
          2,
          0.9,
          0.8,
          1.6,
          0.9,
          4.9,
          1.3,
          2.4,
          1.6,
          0.15,
          0.6,
          0.4,
          5.2,
          5.3,
          0.5,
          0.9,
          4,
          10.1,
          2,
          9,
          0.15,
          5.7,
          1.4,
          7.8,
          2.8,
          10.3,
          2.2,
          4.1,
          1.9,
          0.4,
          4.1,
          2.4,
          10.1,
          1.4,
          2.7,
          7.8,
          1,
          1.4,
          5.4,
          1,
          2.5,
          1.4,
          4.4,
          2,
          0.7,
          1.2,
          1.1,
          1.4,
          0.6,
          3.7,
          2.9,
          8.9,
          9.5,
          1.3,
          0.9,
          8.4,
          6.7,
          0.7,
          2.8,
          2.3,
          2.7,
          4.4,
          11.3,
          0.7,
          0.3,
          1.6,
          1,
          1.2,
          3,
          1.3,
          9.9,
          1.8,
          5.5,
          6.8,
          0.5,
          3,
          1,
          2.5,
          2.6,
          2.8,
          2.6,
          0.8,
          1.7,
          1.7,
          1.2,
          5.7,
          2,
          0.5,
          1.9,
          0.45,
          5.3,
          4.2,
          0.8,
          6.3,
          1.3,
          1.1,
          10.1,
          1.6,
          0.35,
          2.1,
          10.7,
          2,
          2.1,
          5.6,
          1.4,
          0.9,
          1.7,
          0.15,
          0.05,
          4.8,
          4.6,
          5.8,
          1.1,
          5.8,
          1.3,
          1,
          3.9,
          1.5,
          0.7,
          0.9,
          2.3,
          1.4,
          1.7,
          0.5,
          0.3,
          2.3,
          5.8,
          1.5,
          0.1,
          5.9,
          2.7,
          1.1,
          2.6,
          3.4,
          2.1,
          3.3,
          9.8,
          1.5,
          1.2,
          1.4,
          7,
          5.3
         ],
         "yaxis": "y"
        }
       ],
       "layout": {
        "coloraxis": {
         "colorbar": {
          "title": {
           "text": "rating"
          }
         },
         "colorscale": [
          [
           0,
           "#0d0887"
          ],
          [
           0.1111111111111111,
           "#46039f"
          ],
          [
           0.2222222222222222,
           "#7201a8"
          ],
          [
           0.3333333333333333,
           "#9c179e"
          ],
          [
           0.4444444444444444,
           "#bd3786"
          ],
          [
           0.5555555555555556,
           "#d8576b"
          ],
          [
           0.6666666666666666,
           "#ed7953"
          ],
          [
           0.7777777777777778,
           "#fb9f3a"
          ],
          [
           0.8888888888888888,
           "#fdca26"
          ],
          [
           1,
           "#f0f921"
          ]
         ]
        },
        "legend": {
         "tracegroupgap": 0
        },
        "margin": {
         "t": 60
        },
        "template": {
         "data": {
          "bar": [
           {
            "error_x": {
             "color": "#2a3f5f"
            },
            "error_y": {
             "color": "#2a3f5f"
            },
            "marker": {
             "line": {
              "color": "#E5ECF6",
              "width": 0.5
             },
             "pattern": {
              "fillmode": "overlay",
              "size": 10,
              "solidity": 0.2
             }
            },
            "type": "bar"
           }
          ],
          "barpolar": [
           {
            "marker": {
             "line": {
              "color": "#E5ECF6",
              "width": 0.5
             },
             "pattern": {
              "fillmode": "overlay",
              "size": 10,
              "solidity": 0.2
             }
            },
            "type": "barpolar"
           }
          ],
          "carpet": [
           {
            "aaxis": {
             "endlinecolor": "#2a3f5f",
             "gridcolor": "white",
             "linecolor": "white",
             "minorgridcolor": "white",
             "startlinecolor": "#2a3f5f"
            },
            "baxis": {
             "endlinecolor": "#2a3f5f",
             "gridcolor": "white",
             "linecolor": "white",
             "minorgridcolor": "white",
             "startlinecolor": "#2a3f5f"
            },
            "type": "carpet"
           }
          ],
          "choropleth": [
           {
            "colorbar": {
             "outlinewidth": 0,
             "ticks": ""
            },
            "type": "choropleth"
           }
          ],
          "contour": [
           {
            "colorbar": {
             "outlinewidth": 0,
             "ticks": ""
            },
            "colorscale": [
             [
              0,
              "#0d0887"
             ],
             [
              0.1111111111111111,
              "#46039f"
             ],
             [
              0.2222222222222222,
              "#7201a8"
             ],
             [
              0.3333333333333333,
              "#9c179e"
             ],
             [
              0.4444444444444444,
              "#bd3786"
             ],
             [
              0.5555555555555556,
              "#d8576b"
             ],
             [
              0.6666666666666666,
              "#ed7953"
             ],
             [
              0.7777777777777778,
              "#fb9f3a"
             ],
             [
              0.8888888888888888,
              "#fdca26"
             ],
             [
              1,
              "#f0f921"
             ]
            ],
            "type": "contour"
           }
          ],
          "contourcarpet": [
           {
            "colorbar": {
             "outlinewidth": 0,
             "ticks": ""
            },
            "type": "contourcarpet"
           }
          ],
          "heatmap": [
           {
            "colorbar": {
             "outlinewidth": 0,
             "ticks": ""
            },
            "colorscale": [
             [
              0,
              "#0d0887"
             ],
             [
              0.1111111111111111,
              "#46039f"
             ],
             [
              0.2222222222222222,
              "#7201a8"
             ],
             [
              0.3333333333333333,
              "#9c179e"
             ],
             [
              0.4444444444444444,
              "#bd3786"
             ],
             [
              0.5555555555555556,
              "#d8576b"
             ],
             [
              0.6666666666666666,
              "#ed7953"
             ],
             [
              0.7777777777777778,
              "#fb9f3a"
             ],
             [
              0.8888888888888888,
              "#fdca26"
             ],
             [
              1,
              "#f0f921"
             ]
            ],
            "type": "heatmap"
           }
          ],
          "heatmapgl": [
           {
            "colorbar": {
             "outlinewidth": 0,
             "ticks": ""
            },
            "colorscale": [
             [
              0,
              "#0d0887"
             ],
             [
              0.1111111111111111,
              "#46039f"
             ],
             [
              0.2222222222222222,
              "#7201a8"
             ],
             [
              0.3333333333333333,
              "#9c179e"
             ],
             [
              0.4444444444444444,
              "#bd3786"
             ],
             [
              0.5555555555555556,
              "#d8576b"
             ],
             [
              0.6666666666666666,
              "#ed7953"
             ],
             [
              0.7777777777777778,
              "#fb9f3a"
             ],
             [
              0.8888888888888888,
              "#fdca26"
             ],
             [
              1,
              "#f0f921"
             ]
            ],
            "type": "heatmapgl"
           }
          ],
          "histogram": [
           {
            "marker": {
             "pattern": {
              "fillmode": "overlay",
              "size": 10,
              "solidity": 0.2
             }
            },
            "type": "histogram"
           }
          ],
          "histogram2d": [
           {
            "colorbar": {
             "outlinewidth": 0,
             "ticks": ""
            },
            "colorscale": [
             [
              0,
              "#0d0887"
             ],
             [
              0.1111111111111111,
              "#46039f"
             ],
             [
              0.2222222222222222,
              "#7201a8"
             ],
             [
              0.3333333333333333,
              "#9c179e"
             ],
             [
              0.4444444444444444,
              "#bd3786"
             ],
             [
              0.5555555555555556,
              "#d8576b"
             ],
             [
              0.6666666666666666,
              "#ed7953"
             ],
             [
              0.7777777777777778,
              "#fb9f3a"
             ],
             [
              0.8888888888888888,
              "#fdca26"
             ],
             [
              1,
              "#f0f921"
             ]
            ],
            "type": "histogram2d"
           }
          ],
          "histogram2dcontour": [
           {
            "colorbar": {
             "outlinewidth": 0,
             "ticks": ""
            },
            "colorscale": [
             [
              0,
              "#0d0887"
             ],
             [
              0.1111111111111111,
              "#46039f"
             ],
             [
              0.2222222222222222,
              "#7201a8"
             ],
             [
              0.3333333333333333,
              "#9c179e"
             ],
             [
              0.4444444444444444,
              "#bd3786"
             ],
             [
              0.5555555555555556,
              "#d8576b"
             ],
             [
              0.6666666666666666,
              "#ed7953"
             ],
             [
              0.7777777777777778,
              "#fb9f3a"
             ],
             [
              0.8888888888888888,
              "#fdca26"
             ],
             [
              1,
              "#f0f921"
             ]
            ],
            "type": "histogram2dcontour"
           }
          ],
          "mesh3d": [
           {
            "colorbar": {
             "outlinewidth": 0,
             "ticks": ""
            },
            "type": "mesh3d"
           }
          ],
          "parcoords": [
           {
            "line": {
             "colorbar": {
              "outlinewidth": 0,
              "ticks": ""
             }
            },
            "type": "parcoords"
           }
          ],
          "pie": [
           {
            "automargin": true,
            "type": "pie"
           }
          ],
          "scatter": [
           {
            "fillpattern": {
             "fillmode": "overlay",
             "size": 10,
             "solidity": 0.2
            },
            "type": "scatter"
           }
          ],
          "scatter3d": [
           {
            "line": {
             "colorbar": {
              "outlinewidth": 0,
              "ticks": ""
             }
            },
            "marker": {
             "colorbar": {
              "outlinewidth": 0,
              "ticks": ""
             }
            },
            "type": "scatter3d"
           }
          ],
          "scattercarpet": [
           {
            "marker": {
             "colorbar": {
              "outlinewidth": 0,
              "ticks": ""
             }
            },
            "type": "scattercarpet"
           }
          ],
          "scattergeo": [
           {
            "marker": {
             "colorbar": {
              "outlinewidth": 0,
              "ticks": ""
             }
            },
            "type": "scattergeo"
           }
          ],
          "scattergl": [
           {
            "marker": {
             "colorbar": {
              "outlinewidth": 0,
              "ticks": ""
             }
            },
            "type": "scattergl"
           }
          ],
          "scattermapbox": [
           {
            "marker": {
             "colorbar": {
              "outlinewidth": 0,
              "ticks": ""
             }
            },
            "type": "scattermapbox"
           }
          ],
          "scatterpolar": [
           {
            "marker": {
             "colorbar": {
              "outlinewidth": 0,
              "ticks": ""
             }
            },
            "type": "scatterpolar"
           }
          ],
          "scatterpolargl": [
           {
            "marker": {
             "colorbar": {
              "outlinewidth": 0,
              "ticks": ""
             }
            },
            "type": "scatterpolargl"
           }
          ],
          "scatterternary": [
           {
            "marker": {
             "colorbar": {
              "outlinewidth": 0,
              "ticks": ""
             }
            },
            "type": "scatterternary"
           }
          ],
          "surface": [
           {
            "colorbar": {
             "outlinewidth": 0,
             "ticks": ""
            },
            "colorscale": [
             [
              0,
              "#0d0887"
             ],
             [
              0.1111111111111111,
              "#46039f"
             ],
             [
              0.2222222222222222,
              "#7201a8"
             ],
             [
              0.3333333333333333,
              "#9c179e"
             ],
             [
              0.4444444444444444,
              "#bd3786"
             ],
             [
              0.5555555555555556,
              "#d8576b"
             ],
             [
              0.6666666666666666,
              "#ed7953"
             ],
             [
              0.7777777777777778,
              "#fb9f3a"
             ],
             [
              0.8888888888888888,
              "#fdca26"
             ],
             [
              1,
              "#f0f921"
             ]
            ],
            "type": "surface"
           }
          ],
          "table": [
           {
            "cells": {
             "fill": {
              "color": "#EBF0F8"
             },
             "line": {
              "color": "white"
             }
            },
            "header": {
             "fill": {
              "color": "#C8D4E3"
             },
             "line": {
              "color": "white"
             }
            },
            "type": "table"
           }
          ]
         },
         "layout": {
          "annotationdefaults": {
           "arrowcolor": "#2a3f5f",
           "arrowhead": 0,
           "arrowwidth": 1
          },
          "autotypenumbers": "strict",
          "coloraxis": {
           "colorbar": {
            "outlinewidth": 0,
            "ticks": ""
           }
          },
          "colorscale": {
           "diverging": [
            [
             0,
             "#8e0152"
            ],
            [
             0.1,
             "#c51b7d"
            ],
            [
             0.2,
             "#de77ae"
            ],
            [
             0.3,
             "#f1b6da"
            ],
            [
             0.4,
             "#fde0ef"
            ],
            [
             0.5,
             "#f7f7f7"
            ],
            [
             0.6,
             "#e6f5d0"
            ],
            [
             0.7,
             "#b8e186"
            ],
            [
             0.8,
             "#7fbc41"
            ],
            [
             0.9,
             "#4d9221"
            ],
            [
             1,
             "#276419"
            ]
           ],
           "sequential": [
            [
             0,
             "#0d0887"
            ],
            [
             0.1111111111111111,
             "#46039f"
            ],
            [
             0.2222222222222222,
             "#7201a8"
            ],
            [
             0.3333333333333333,
             "#9c179e"
            ],
            [
             0.4444444444444444,
             "#bd3786"
            ],
            [
             0.5555555555555556,
             "#d8576b"
            ],
            [
             0.6666666666666666,
             "#ed7953"
            ],
            [
             0.7777777777777778,
             "#fb9f3a"
            ],
            [
             0.8888888888888888,
             "#fdca26"
            ],
            [
             1,
             "#f0f921"
            ]
           ],
           "sequentialminus": [
            [
             0,
             "#0d0887"
            ],
            [
             0.1111111111111111,
             "#46039f"
            ],
            [
             0.2222222222222222,
             "#7201a8"
            ],
            [
             0.3333333333333333,
             "#9c179e"
            ],
            [
             0.4444444444444444,
             "#bd3786"
            ],
            [
             0.5555555555555556,
             "#d8576b"
            ],
            [
             0.6666666666666666,
             "#ed7953"
            ],
            [
             0.7777777777777778,
             "#fb9f3a"
            ],
            [
             0.8888888888888888,
             "#fdca26"
            ],
            [
             1,
             "#f0f921"
            ]
           ]
          },
          "colorway": [
           "#636efa",
           "#EF553B",
           "#00cc96",
           "#ab63fa",
           "#FFA15A",
           "#19d3f3",
           "#FF6692",
           "#B6E880",
           "#FF97FF",
           "#FECB52"
          ],
          "font": {
           "color": "#2a3f5f"
          },
          "geo": {
           "bgcolor": "white",
           "lakecolor": "white",
           "landcolor": "#E5ECF6",
           "showlakes": true,
           "showland": true,
           "subunitcolor": "white"
          },
          "hoverlabel": {
           "align": "left"
          },
          "hovermode": "closest",
          "mapbox": {
           "style": "light"
          },
          "paper_bgcolor": "white",
          "plot_bgcolor": "#E5ECF6",
          "polar": {
           "angularaxis": {
            "gridcolor": "white",
            "linecolor": "white",
            "ticks": ""
           },
           "bgcolor": "#E5ECF6",
           "radialaxis": {
            "gridcolor": "white",
            "linecolor": "white",
            "ticks": ""
           }
          },
          "scene": {
           "xaxis": {
            "backgroundcolor": "#E5ECF6",
            "gridcolor": "white",
            "gridwidth": 2,
            "linecolor": "white",
            "showbackground": true,
            "ticks": "",
            "zerolinecolor": "white"
           },
           "yaxis": {
            "backgroundcolor": "#E5ECF6",
            "gridcolor": "white",
            "gridwidth": 2,
            "linecolor": "white",
            "showbackground": true,
            "ticks": "",
            "zerolinecolor": "white"
           },
           "zaxis": {
            "backgroundcolor": "#E5ECF6",
            "gridcolor": "white",
            "gridwidth": 2,
            "linecolor": "white",
            "showbackground": true,
            "ticks": "",
            "zerolinecolor": "white"
           }
          },
          "shapedefaults": {
           "line": {
            "color": "#2a3f5f"
           }
          },
          "ternary": {
           "aaxis": {
            "gridcolor": "white",
            "linecolor": "white",
            "ticks": ""
           },
           "baxis": {
            "gridcolor": "white",
            "linecolor": "white",
            "ticks": ""
           },
           "bgcolor": "#E5ECF6",
           "caxis": {
            "gridcolor": "white",
            "linecolor": "white",
            "ticks": ""
           }
          },
          "title": {
           "x": 0.05
          },
          "xaxis": {
           "automargin": true,
           "gridcolor": "white",
           "linecolor": "white",
           "ticks": "",
           "title": {
            "standoff": 15
           },
           "zerolinecolor": "white",
           "zerolinewidth": 2
          },
          "yaxis": {
           "automargin": true,
           "gridcolor": "white",
           "linecolor": "white",
           "ticks": "",
           "title": {
            "standoff": 15
           },
           "zerolinecolor": "white",
           "zerolinewidth": 2
          }
         }
        },
        "xaxis": {
         "anchor": "y",
         "domain": [
          0,
          1
         ],
         "title": {
          "text": "price_numeric"
         }
        },
        "yaxis": {
         "anchor": "x",
         "domain": [
          0,
          1
         ],
         "title": {
          "text": "distance_numeric"
         }
        }
       }
      }
     },
     "metadata": {},
     "output_type": "display_data"
    }
   ],
   "source": [
    "import plotly.express as px\n",
    "fig = px.scatter(hotel_info_cleaned, x=\"price_numeric\", y=\"distance_numeric\", color=\"rating\",hover_data=['name',\"rating\",\"price\"])\n",
    "fig.show()"
   ]
  },
  {
   "cell_type": "markdown",
   "metadata": {},
   "source": [
    "## Dash"
   ]
  },
  {
   "cell_type": "code",
   "execution_count": 1,
   "metadata": {},
   "outputs": [
    {
     "name": "stdout",
     "output_type": "stream",
     "text": [
      "Ok\n",
      "(25, 6)\n",
      "Ok\n",
      "(50, 6)\n",
      "Ok\n",
      "(75, 6)\n",
      "Ok\n",
      "(100, 6)\n",
      "Ok\n",
      "(125, 6)\n",
      "Ok\n",
      "(150, 6)\n",
      "Ok\n",
      "(175, 6)\n",
      "Ok\n",
      "(200, 6)\n"
     ]
    },
    {
     "data": {
      "application/vnd.plotly.v1+json": {
       "config": {
        "plotlyServerURL": "https://plot.ly"
       },
       "data": [
        {
         "customdata": [
          [
           "Ximen Garden Inn",
           7.2,
           "TWD 2,074"
          ],
          [
           "Caesar Park Hotel Taipei",
           8,
           "TWD 5,280"
          ],
          [
           "RF Hotel  Linsen",
           8.1,
           "TWD 2,736"
          ],
          [
           "Uinn Business Hotel-Shihlin",
           8.6,
           "TWD 2,500"
          ],
          [
           "Best Hotel",
           7.2,
           "TWD 1,300"
          ],
          [
           "Cosmos Hotel Taipei",
           8.4,
           "TWD 5,183"
          ],
          [
           "Hilton Taipei Sinban",
           8.5,
           "TWD 5,313"
          ],
          [
           "LaVita Hotel",
           7.9,
           "TWD 1,889"
          ],
          [
           "Colors Infinity Inn",
           7.8,
           "TWD 1,633"
          ],
          [
           "Waterfront Hotel",
           8.6,
           "TWD 2,530"
          ],
          [
           "T.O. Hotel Chengde",
           7.4,
           "TWD 1,680"
          ],
          [
           "FX Hotel Taipei Nanjing East Road Branch",
           8.1,
           "TWD 2,688"
          ],
          [
           "Chyuan Du Spring Resort",
           7.8,
           "TWD 2,800"
          ],
          [
           "Grand Hyatt Taipei",
           8.4,
           "TWD 10,626"
          ],
          [
           "Beauty Hotels Taipei - Hotel Bchic",
           8.2,
           "TWD 2,196"
          ],
          [
           "Hotel Double One",
           7.9,
           "TWD 4,675"
          ],
          [
           "RF Hotel - Zhongxiao",
           7.8,
           "TWD 2,398"
          ],
          [
           "Suz Hotel",
           8.6,
           "TWD 4,600"
          ],
          [
           "Roaders Hotel - Zhonghua",
           8.7,
           "TWD 3,278"
          ],
          [
           "Meadow Hotel Taipei",
           7.2,
           "TWD 1,600"
          ],
          [
           "Energy Inn",
           9.1,
           "TWD 2,820"
          ],
          [
           "Ximen Hotel",
           7.3,
           "TWD 2,592"
          ],
          [
           "CityInn Hotel Taipei Station Branch III",
           8.9,
           "TWD 4,200"
          ],
          [
           "KDM Hotel",
           7.9,
           "TWD 2,732"
          ],
          [
           "Hotel Sunroute Taipei",
           8.5,
           "TWD 3,510"
          ],
          [
           "苓旅萬年-LIN INN Wan Nian",
           8,
           "TWD 2,480"
          ],
          [
           "NYS Loft Hotel",
           8.1,
           "TWD 1,760"
          ],
          [
           "Meander Taipei Hostel - Ximending",
           8.2,
           "TWD 3,101"
          ],
          [
           "Horizon Inn",
           8.1,
           "TWD 2,016"
          ],
          [
           "Macchi Hotel - Taipei",
           8,
           "TWD 1,962"
          ],
          [
           "OwlStay Flip Flop Hostel - Garden",
           8.8,
           "TWD 2,415"
          ],
          [
           "Rido Hotel",
           8.6,
           "TWD 3,128"
          ],
          [
           "arTree hotel",
           8.8,
           "TWD 4,365"
          ],
          [
           "Tango Inn Taipei ZhongShan",
           8.7,
           "TWD 3,033"
          ],
          [
           "CHECK inn Select New Taipei Sanchong",
           8.5,
           "TWD 2,824"
          ],
          [
           "City Suites - Beimen",
           8.4,
           "TWD 2,640"
          ],
          [
           "Dolamanco Hotel",
           8.8,
           "TWD 2,445"
          ],
          [
           "Via Hotel Taipei Station",
           8.9,
           "TWD 3,280"
          ],
          [
           "les suites taipei ching cheng",
           8.8,
           "TWD 5,985"
          ],
          [
           "Click Hotel - Taipei Main Station Branch",
           7.9,
           "TWD 2,410"
          ],
          [
           "CityInn Hotel Taipei Station Branch II",
           8.9,
           "TWD 3,840"
          ],
          [
           "Ximen Airline Hotel",
           8,
           "TWD 4,360"
          ],
          [
           "The Riviera Hotel Taipei",
           8.7,
           "TWD 4,680"
          ],
          [
           "Tango Inn Taipei Ximen",
           8.5,
           "TWD 3,089"
          ],
          [
           "HINOEN Hotel",
           8.5,
           "TWD 5,230"
          ],
          [
           "Hanns House",
           9.1,
           "TWD 7,410"
          ],
          [
           "Walker Motel",
           7.4,
           "TWD 1,589"
          ],
          [
           "Ambience Hotel Taipei",
           8.6,
           "TWD 4,973"
          ],
          [
           "Inn Cube - Taipei Main Station",
           7.6,
           "TWD 1,600"
          ],
          [
           "Royal Rose Hotel Linsen",
           8,
           "TWD 2,500"
          ],
          [
           "The Okura Prestige Taipei",
           8.9,
           "TWD 8,176"
          ],
          [
           "拉開門輕旅 Le Passage Hostel",
           8.7,
           "TWD 1,697"
          ],
          [
           "Eslite Hotel",
           9.2,
           "TWD 8,103"
          ],
          [
           "Liya Boutique Hotel",
           8,
           "TWD 1,780"
          ],
          [
           "Archess Hotel",
           8.1,
           "TWD 2,205"
          ],
          [
           "Members Hotel at Taipei 101",
           8.5,
           "TWD 2,780"
          ],
          [
           "Kimpton Da An Taipei- an IHG Hotel",
           9.1,
           "TWD 7,536"
          ],
          [
           "Courtyard by Marriott Taipei",
           8.2,
           "TWD 5,600"
          ],
          [
           "Star Hostel Taipei East",
           9.3,
           "TWD 3,625"
          ],
          [
           "Green World Mai - NanJing",
           8.2,
           "TWD 1,913"
          ],
          [
           "NK Hostel",
           8.6,
           "TWD 1,381"
          ],
          [
           "Home Hotel",
           8,
           "TWD 6,290"
          ],
          [
           "Hub Hotel Songshan Inn",
           7.5,
           "TWD 1,562"
          ],
          [
           "Pacific Business Hotel",
           8.5,
           "TWD 4,650"
          ],
          [
           "Royal Jade Boutique Hotel",
           8.5,
           "TWD 2,400"
          ],
          [
           "I Play Inn TP",
           7.9,
           "TWD 1,591"
          ],
          [
           "Hub Hotel - Songshan Airport Branch",
           8.3,
           "TWD 1,780"
          ],
          [
           "Discovery Motel - Yanping",
           7.4,
           "TWD 1,755"
          ],
          [
           "Star Hostel Taipei Main Station",
           9.3,
           "TWD 4,280"
          ],
          [
           "Regent Taipei",
           8.7,
           "TWD 7,817"
          ],
          [
           "Hotel Orchard Park - Taipei",
           7.8,
           "TWD 2,588"
          ],
          [
           "Hotel HD Palace",
           7.7,
           "TWD 6,240"
          ],
          [
           "Slow Town Hotel-Reel",
           7.9,
           "TWD 2,000"
          ],
          [
           "T.O. Hotel - Taipei station",
           8.3,
           "TWD 2,223"
          ],
          [
           "City Hotel",
           7.4,
           "TWD 1,844"
          ],
          [
           "We Come Hostel",
           9,
           "TWD 2,508"
          ],
          [
           "Beauty Hotels Taipei - Hotel Bfun Self Check in Hotel",
           8,
           "TWD 1,674"
          ],
          [
           "In-stone Motel",
           7.8,
           "TWD 2,174"
          ],
          [
           "Stay Inn",
           8.2,
           "TWD 2,089"
          ],
          [
           "Cho Hotel",
           8.8,
           "TWD 3,281"
          ],
          [
           "S Hotel | Designed by Philippe Starck",
           7.5,
           "TWD 5,510"
          ],
          [
           "Hotel COZZI Minsheng Taipei",
           8.7,
           "TWD 4,800"
          ],
          [
           "ILLUME Taipei",
           8.3,
           "TWD 4,363"
          ],
          [
           "Brother Hotel",
           8.9,
           "TWD 4,650"
          ],
          [
           "Hotel Fun - Linsen",
           8.1,
           "TWD 1,715"
          ],
          [
           "Aloft Taipei Zhongshan",
           8.5,
           "TWD 5,250"
          ],
          [
           "Muzik Hotel - Ximen Station Branch",
           8,
           "TWD 2,453"
          ],
          [
           "Jian Shan Hotel",
           8.7,
           "TWD 1,680"
          ],
          [
           "Roaders Plus Hotel - Taipei Station",
           8.5,
           "TWD 3,880"
          ],
          [
           "Queens Hotel II",
           8.1,
           "TWD 1,680"
          ],
          [
           "CHECK inn Select Taipei Yamgmingshan",
           7.4,
           "TWD 5,648"
          ],
          [
           "小隱居Hermit_Dorm",
           9.2,
           "TWD 1,760"
          ],
          [
           "JBG Hotspring Resort Hotel",
           7.4,
           "TWD 3,600"
          ],
          [
           "W Taipei",
           8.6,
           "TWD 15,500"
          ],
          [
           "Green World ZhongXiao",
           8.5,
           "TWD 4,092"
          ],
          [
           "LIHO Hotel Hankou",
           7,
           "TWD 1,513"
          ],
          [
           "Morwing Hotel - Culture Vogue",
           8,
           "TWD 1,531"
          ],
          [
           "City Suites-Taipei Nanxi",
           8.2,
           "TWD 2,880"
          ],
          [
           "Lacle Hotel-Luzhou Taipei",
           8.7,
           "TWD 2,736"
          ],
          [
           "HOTEL CHAM CHAM - Taipei",
           9,
           "TWD 3,700"
          ],
          [
           "Hua Shan Din by Cosmos Creation - Huashan Creative Park",
           8.7,
           "TWD 4,254"
          ],
          [
           "Water House",
           8,
           "TWD 6,156"
          ],
          [
           "Puremeworld Hotel",
           7.4,
           "TWD 1,851"
          ],
          [
           "Grace Hotel Dunbei",
           8.6,
           "TWD 1,980"
          ],
          [
           "Wallsun Hotel",
           8.2,
           "TWD 3,705"
          ],
          [
           "Aqua Bella Hotel",
           8.3,
           "TWD 4,710"
          ],
          [
           "Renaissance Taipei Shihlin Hotel",
           8.5,
           "TWD 5,793"
          ],
          [
           "Dandy Hotel - Tianjin Branch",
           9,
           "TWD 4,410"
          ],
          [
           "喜客商旅 Seeker Hotel - Sanchong",
           7.5,
           "TWD 1,021"
          ],
          [
           "miniinn",
           8.5,
           "TWD 867"
          ],
          [
           "Ximen Citizen Hotel",
           7.7,
           "TWD 1,425"
          ],
          [
           "CityInn Hotel Plus - Ximending Branch",
           9,
           "TWD 2,755"
          ],
          [
           "Chaiin Hotel - Dongmen",
           8.1,
           "TWD 2,880"
          ],
          [
           "Goldinn Hotel",
           8.1,
           "TWD 2,322"
          ],
          [
           "Hotel Relax 5",
           8.4,
           "TWD 2,717"
          ],
          [
           "Hù House - Taipei",
           8.1,
           "TWD 2,970"
          ],
          [
           "Miramar Garden Taipei",
           8.6,
           "TWD 4,692"
          ],
          [
           "CU Hotel Taipei",
           8.2,
           "TWD 2,662"
          ],
          [
           "Beauty Hotels Taipei - Hotel B6",
           7.4,
           "TWD 2,811"
          ],
          [
           "SWIIO Hotel Ximending",
           7.9,
           "TWD 2,442"
          ],
          [
           "Taipei Fullerton Hotel - South",
           8.3,
           "TWD 6,545"
          ],
          [
           "XINSHE Hotel - Linsen",
           8.3,
           "TWD 1,802"
          ],
          [
           "SleepBox Hostel",
           7.2,
           "TWD 990"
          ],
          [
           "Humble House Taipei",
           8.6,
           "TWD 8,607"
          ],
          [
           "Beauty Hotels - Star Beauty Resort",
           7.8,
           "TWD 2,175"
          ],
          [
           "Beauty Hotels - Roumei Boutique",
           8.3,
           "TWD 3,066"
          ],
          [
           "Caesar Metro Taipei",
           8.3,
           "TWD 3,800"
          ],
          [
           "意芙旅店 Ifinn Hotel",
           7.9,
           "TWD 2,320"
          ],
          [
           "Capital Hotel SongShan",
           7.9,
           "TWD 2,527"
          ],
          [
           "盤古捷旅 - Panco Hotel",
           8.7,
           "TWD 2,400"
          ],
          [
           "Waikoloa Hotel",
           8.6,
           "TWD 3,040"
          ],
          [
           "Yi Su Hotel-Taipei Ningxia",
           7.8,
           "TWD 1,950"
          ],
          [
           "熙門小聚 YS Inn",
           7.7,
           "TWD 1,662"
          ],
          [
           "Sonnien Hotel",
           8.4,
           "TWD 4,300"
          ],
          [
           "Humble Boutique Hotel",
           8.7,
           "TWD 5,988"
          ],
          [
           "Hotel PaPa Whale",
           8.3,
           "TWD 3,135"
          ],
          [
           "苓旅中山館-Lininn ZhongShan",
           8.6,
           "TWD 2,080"
          ],
          [
           "Sheraton Grand Taipei Hotel",
           8.3,
           "TWD 7,200"
          ],
          [
           "City Suites - Taipei Nandong",
           8.3,
           "TWD 2,444"
          ],
          [
           "Beauty Hotels Taipei - B7 Journey",
           7.4,
           "TWD 1,890"
          ],
          [
           "Roaders Plus Hotel - Theme",
           8.5,
           "TWD 3,977"
          ],
          [
           "Green World Linsen",
           7.4,
           "TWD 1,800"
          ],
          [
           "Grand Mayfull Taipei",
           9.3,
           "TWD 7,035"
          ],
          [
           "RF Hotel  Linsen",
           8.1,
           "TWD 2,052"
          ],
          [
           "Wonderwall Ximending",
           8.5,
           "TWD 1,216"
          ],
          [
           "Hua Da Hotel- Nanxi",
           7.8,
           "TWD 1,260"
          ],
          [
           "Shanger Hotel",
           7.3,
           "TWD 979"
          ],
          [
           "Sunrise Hotel",
           7.8,
           "TWD 2,680"
          ],
          [
           "苓旅-站前 Lin Inn TMS",
           8.1,
           "TWD 1,780"
          ],
          [
           "Welove meworld Inn",
           7.6,
           "TWD 1,469"
          ],
          [
           "日光樂居西門館 Fun Stay Inn Ximen",
           8.1,
           "TWD 2,004"
          ],
          [
           "沃客商旅 承德館",
           7.3,
           "TWD 1,656"
          ],
          [
           "York Hotel",
           7.7,
           "TWD 2,430"
          ],
          [
           "Yomi Hotel - ShuangLian MRT",
           8.1,
           "TWD 2,200"
          ]
         ],
         "hovertemplate": "price_numeric=%{x}<br>distance_numeric=%{y}<br>name=%{customdata[0]}<br>rating=%{marker.color}<br>price=%{customdata[2]}<extra></extra>",
         "legendgroup": "",
         "marker": {
          "color": [
           7.2,
           8,
           8.1,
           8.6,
           7.2,
           8.4,
           8.5,
           7.9,
           7.8,
           8.6,
           7.4,
           8.1,
           7.8,
           8.4,
           8.2,
           7.9,
           7.8,
           8.6,
           8.7,
           7.2,
           9.1,
           7.3,
           8.9,
           7.9,
           8.5,
           8,
           8.1,
           8.2,
           8.1,
           8,
           8.8,
           8.6,
           8.8,
           8.7,
           8.5,
           8.4,
           8.8,
           8.9,
           8.8,
           7.9,
           8.9,
           8,
           8.7,
           8.5,
           8.5,
           9.1,
           7.4,
           8.6,
           7.6,
           8,
           8.9,
           8.7,
           9.2,
           8,
           8.1,
           8.5,
           9.1,
           8.2,
           9.3,
           8.2,
           8.6,
           8,
           7.5,
           8.5,
           8.5,
           7.9,
           8.3,
           7.4,
           9.3,
           8.7,
           7.8,
           7.7,
           7.9,
           8.3,
           7.4,
           9,
           8,
           7.8,
           8.2,
           8.8,
           7.5,
           8.7,
           8.3,
           8.9,
           8.1,
           8.5,
           8,
           8.7,
           8.5,
           8.1,
           7.4,
           9.2,
           7.4,
           8.6,
           8.5,
           7,
           8,
           8.2,
           8.7,
           9,
           8.7,
           8,
           7.4,
           8.6,
           8.2,
           8.3,
           8.5,
           9,
           7.5,
           8.5,
           7.7,
           9,
           8.1,
           8.1,
           8.4,
           8.1,
           8.6,
           8.2,
           7.4,
           7.9,
           8.3,
           8.3,
           7.2,
           8.6,
           7.8,
           8.3,
           8.3,
           7.9,
           7.9,
           8.7,
           8.6,
           7.8,
           7.7,
           8.4,
           8.7,
           8.3,
           8.6,
           8.3,
           8.3,
           7.4,
           8.5,
           7.4,
           9.3,
           8.1,
           8.5,
           7.8,
           7.3,
           7.8,
           8.1,
           7.6,
           8.1,
           7.3,
           7.7,
           8.1
          ],
          "coloraxis": "coloraxis",
          "symbol": "circle"
         },
         "mode": "markers",
         "name": "",
         "orientation": "v",
         "showlegend": false,
         "type": "scatter",
         "x": [
          2074,
          5280,
          2736,
          2500,
          1300,
          5183,
          5313,
          1889,
          1633,
          2530,
          1680,
          2688,
          2800,
          10626,
          2196,
          4675,
          2398,
          4600,
          3278,
          1600,
          2820,
          2592,
          4200,
          2732,
          3510,
          2480,
          1760,
          3101,
          2016,
          1962,
          2415,
          3128,
          4365,
          3033,
          2824,
          2640,
          2445,
          3280,
          5985,
          2410,
          3840,
          4360,
          4680,
          3089,
          5230,
          7410,
          1589,
          4973,
          1600,
          2500,
          8176,
          1697,
          8103,
          1780,
          2205,
          2780,
          7536,
          5600,
          3625,
          1913,
          1381,
          6290,
          1562,
          4650,
          2400,
          1591,
          1780,
          1755,
          4280,
          7817,
          2588,
          6240,
          2000,
          2223,
          1844,
          2508,
          1674,
          2174,
          2089,
          3281,
          5510,
          4800,
          4363,
          4650,
          1715,
          5250,
          2453,
          1680,
          3880,
          1680,
          5648,
          1760,
          3600,
          15500,
          4092,
          1513,
          1531,
          2880,
          2736,
          3700,
          4254,
          6156,
          1851,
          1980,
          3705,
          4710,
          5793,
          4410,
          1021,
          867,
          1425,
          2755,
          2880,
          2322,
          2717,
          2970,
          4692,
          2662,
          2811,
          2442,
          6545,
          1802,
          990,
          8607,
          2175,
          3066,
          3800,
          2320,
          2527,
          2400,
          3040,
          1950,
          1662,
          4300,
          5988,
          3135,
          2080,
          7200,
          2444,
          1890,
          3977,
          1800,
          7035,
          2052,
          1216,
          1260,
          979,
          2680,
          1780,
          1469,
          2004,
          1656,
          2430,
          2200
         ],
         "xaxis": "x",
         "y": [
          0.9,
          0.15,
          0.9,
          4.8,
          5.8,
          0.05,
          6.7,
          1.1,
          1.3,
          5.8,
          1,
          2.4,
          10.1,
          4.7,
          1.3,
          10.1,
          3.7,
          1.5,
          0.7,
          2.3,
          1.4,
          0.9,
          0.5,
          1.7,
          2,
          1.2,
          0.15,
          1.5,
          2.6,
          6.5,
          0.5,
          2.1,
          3.5,
          0.7,
          3.6,
          1,
          2.4,
          0.5,
          2.9,
          0.35,
          0.6,
          1,
          2.6,
          1.3,
          0.45,
          4.7,
          7.8,
          1.2,
          0.1,
          1,
          0.9,
          0.8,
          4.3,
          1.3,
          6.3,
          4.4,
          2.9,
          9,
          3.3,
          2,
          5.3,
          5.2,
          5.7,
          4.3,
          8.2,
          1.1,
          2.8,
          3.8,
          0.5,
          1.1,
          0.7,
          3.8,
          1.4,
          0.35,
          2.6,
          1,
          1.3,
          8.4,
          1.4,
          1.4,
          3.2,
          2.3,
          3.2,
          2.8,
          1.9,
          2,
          0.9,
          1.4,
          0.4,
          1,
          11.3,
          5.3,
          10,
          4.9,
          3.5,
          1.2,
          0.2,
          1,
          5.5,
          6.8,
          1.3,
          10.1,
          6.1,
          3.4,
          1.3,
          10,
          5.3,
          0.8,
          3.6,
          0.15,
          1.4,
          1,
          1.8,
          1.7,
          0.45,
          1.6,
          2,
          1.2,
          1.3,
          1.2,
          3.1,
          1.8,
          0.7,
          5.1,
          4.2,
          2.1,
          2.3,
          1.6,
          5.9,
          0.9,
          2.2,
          0.9,
          0.8,
          1.9,
          1.6,
          1.2,
          2.4,
          0.5,
          5.3,
          0.6,
          0.4,
          2.4,
          5.2,
          0.9,
          1.1,
          1,
          3,
          5,
          0.35,
          1.4,
          1.2,
          7.8,
          0.2,
          1.4
         ],
         "yaxis": "y"
        }
       ],
       "layout": {
        "coloraxis": {
         "colorbar": {
          "title": {
           "text": "rating"
          }
         },
         "colorscale": [
          [
           0,
           "#0d0887"
          ],
          [
           0.1111111111111111,
           "#46039f"
          ],
          [
           0.2222222222222222,
           "#7201a8"
          ],
          [
           0.3333333333333333,
           "#9c179e"
          ],
          [
           0.4444444444444444,
           "#bd3786"
          ],
          [
           0.5555555555555556,
           "#d8576b"
          ],
          [
           0.6666666666666666,
           "#ed7953"
          ],
          [
           0.7777777777777778,
           "#fb9f3a"
          ],
          [
           0.8888888888888888,
           "#fdca26"
          ],
          [
           1,
           "#f0f921"
          ]
         ]
        },
        "legend": {
         "tracegroupgap": 0
        },
        "margin": {
         "t": 60
        },
        "template": {
         "data": {
          "bar": [
           {
            "error_x": {
             "color": "#2a3f5f"
            },
            "error_y": {
             "color": "#2a3f5f"
            },
            "marker": {
             "line": {
              "color": "#E5ECF6",
              "width": 0.5
             },
             "pattern": {
              "fillmode": "overlay",
              "size": 10,
              "solidity": 0.2
             }
            },
            "type": "bar"
           }
          ],
          "barpolar": [
           {
            "marker": {
             "line": {
              "color": "#E5ECF6",
              "width": 0.5
             },
             "pattern": {
              "fillmode": "overlay",
              "size": 10,
              "solidity": 0.2
             }
            },
            "type": "barpolar"
           }
          ],
          "carpet": [
           {
            "aaxis": {
             "endlinecolor": "#2a3f5f",
             "gridcolor": "white",
             "linecolor": "white",
             "minorgridcolor": "white",
             "startlinecolor": "#2a3f5f"
            },
            "baxis": {
             "endlinecolor": "#2a3f5f",
             "gridcolor": "white",
             "linecolor": "white",
             "minorgridcolor": "white",
             "startlinecolor": "#2a3f5f"
            },
            "type": "carpet"
           }
          ],
          "choropleth": [
           {
            "colorbar": {
             "outlinewidth": 0,
             "ticks": ""
            },
            "type": "choropleth"
           }
          ],
          "contour": [
           {
            "colorbar": {
             "outlinewidth": 0,
             "ticks": ""
            },
            "colorscale": [
             [
              0,
              "#0d0887"
             ],
             [
              0.1111111111111111,
              "#46039f"
             ],
             [
              0.2222222222222222,
              "#7201a8"
             ],
             [
              0.3333333333333333,
              "#9c179e"
             ],
             [
              0.4444444444444444,
              "#bd3786"
             ],
             [
              0.5555555555555556,
              "#d8576b"
             ],
             [
              0.6666666666666666,
              "#ed7953"
             ],
             [
              0.7777777777777778,
              "#fb9f3a"
             ],
             [
              0.8888888888888888,
              "#fdca26"
             ],
             [
              1,
              "#f0f921"
             ]
            ],
            "type": "contour"
           }
          ],
          "contourcarpet": [
           {
            "colorbar": {
             "outlinewidth": 0,
             "ticks": ""
            },
            "type": "contourcarpet"
           }
          ],
          "heatmap": [
           {
            "colorbar": {
             "outlinewidth": 0,
             "ticks": ""
            },
            "colorscale": [
             [
              0,
              "#0d0887"
             ],
             [
              0.1111111111111111,
              "#46039f"
             ],
             [
              0.2222222222222222,
              "#7201a8"
             ],
             [
              0.3333333333333333,
              "#9c179e"
             ],
             [
              0.4444444444444444,
              "#bd3786"
             ],
             [
              0.5555555555555556,
              "#d8576b"
             ],
             [
              0.6666666666666666,
              "#ed7953"
             ],
             [
              0.7777777777777778,
              "#fb9f3a"
             ],
             [
              0.8888888888888888,
              "#fdca26"
             ],
             [
              1,
              "#f0f921"
             ]
            ],
            "type": "heatmap"
           }
          ],
          "heatmapgl": [
           {
            "colorbar": {
             "outlinewidth": 0,
             "ticks": ""
            },
            "colorscale": [
             [
              0,
              "#0d0887"
             ],
             [
              0.1111111111111111,
              "#46039f"
             ],
             [
              0.2222222222222222,
              "#7201a8"
             ],
             [
              0.3333333333333333,
              "#9c179e"
             ],
             [
              0.4444444444444444,
              "#bd3786"
             ],
             [
              0.5555555555555556,
              "#d8576b"
             ],
             [
              0.6666666666666666,
              "#ed7953"
             ],
             [
              0.7777777777777778,
              "#fb9f3a"
             ],
             [
              0.8888888888888888,
              "#fdca26"
             ],
             [
              1,
              "#f0f921"
             ]
            ],
            "type": "heatmapgl"
           }
          ],
          "histogram": [
           {
            "marker": {
             "pattern": {
              "fillmode": "overlay",
              "size": 10,
              "solidity": 0.2
             }
            },
            "type": "histogram"
           }
          ],
          "histogram2d": [
           {
            "colorbar": {
             "outlinewidth": 0,
             "ticks": ""
            },
            "colorscale": [
             [
              0,
              "#0d0887"
             ],
             [
              0.1111111111111111,
              "#46039f"
             ],
             [
              0.2222222222222222,
              "#7201a8"
             ],
             [
              0.3333333333333333,
              "#9c179e"
             ],
             [
              0.4444444444444444,
              "#bd3786"
             ],
             [
              0.5555555555555556,
              "#d8576b"
             ],
             [
              0.6666666666666666,
              "#ed7953"
             ],
             [
              0.7777777777777778,
              "#fb9f3a"
             ],
             [
              0.8888888888888888,
              "#fdca26"
             ],
             [
              1,
              "#f0f921"
             ]
            ],
            "type": "histogram2d"
           }
          ],
          "histogram2dcontour": [
           {
            "colorbar": {
             "outlinewidth": 0,
             "ticks": ""
            },
            "colorscale": [
             [
              0,
              "#0d0887"
             ],
             [
              0.1111111111111111,
              "#46039f"
             ],
             [
              0.2222222222222222,
              "#7201a8"
             ],
             [
              0.3333333333333333,
              "#9c179e"
             ],
             [
              0.4444444444444444,
              "#bd3786"
             ],
             [
              0.5555555555555556,
              "#d8576b"
             ],
             [
              0.6666666666666666,
              "#ed7953"
             ],
             [
              0.7777777777777778,
              "#fb9f3a"
             ],
             [
              0.8888888888888888,
              "#fdca26"
             ],
             [
              1,
              "#f0f921"
             ]
            ],
            "type": "histogram2dcontour"
           }
          ],
          "mesh3d": [
           {
            "colorbar": {
             "outlinewidth": 0,
             "ticks": ""
            },
            "type": "mesh3d"
           }
          ],
          "parcoords": [
           {
            "line": {
             "colorbar": {
              "outlinewidth": 0,
              "ticks": ""
             }
            },
            "type": "parcoords"
           }
          ],
          "pie": [
           {
            "automargin": true,
            "type": "pie"
           }
          ],
          "scatter": [
           {
            "fillpattern": {
             "fillmode": "overlay",
             "size": 10,
             "solidity": 0.2
            },
            "type": "scatter"
           }
          ],
          "scatter3d": [
           {
            "line": {
             "colorbar": {
              "outlinewidth": 0,
              "ticks": ""
             }
            },
            "marker": {
             "colorbar": {
              "outlinewidth": 0,
              "ticks": ""
             }
            },
            "type": "scatter3d"
           }
          ],
          "scattercarpet": [
           {
            "marker": {
             "colorbar": {
              "outlinewidth": 0,
              "ticks": ""
             }
            },
            "type": "scattercarpet"
           }
          ],
          "scattergeo": [
           {
            "marker": {
             "colorbar": {
              "outlinewidth": 0,
              "ticks": ""
             }
            },
            "type": "scattergeo"
           }
          ],
          "scattergl": [
           {
            "marker": {
             "colorbar": {
              "outlinewidth": 0,
              "ticks": ""
             }
            },
            "type": "scattergl"
           }
          ],
          "scattermapbox": [
           {
            "marker": {
             "colorbar": {
              "outlinewidth": 0,
              "ticks": ""
             }
            },
            "type": "scattermapbox"
           }
          ],
          "scatterpolar": [
           {
            "marker": {
             "colorbar": {
              "outlinewidth": 0,
              "ticks": ""
             }
            },
            "type": "scatterpolar"
           }
          ],
          "scatterpolargl": [
           {
            "marker": {
             "colorbar": {
              "outlinewidth": 0,
              "ticks": ""
             }
            },
            "type": "scatterpolargl"
           }
          ],
          "scatterternary": [
           {
            "marker": {
             "colorbar": {
              "outlinewidth": 0,
              "ticks": ""
             }
            },
            "type": "scatterternary"
           }
          ],
          "surface": [
           {
            "colorbar": {
             "outlinewidth": 0,
             "ticks": ""
            },
            "colorscale": [
             [
              0,
              "#0d0887"
             ],
             [
              0.1111111111111111,
              "#46039f"
             ],
             [
              0.2222222222222222,
              "#7201a8"
             ],
             [
              0.3333333333333333,
              "#9c179e"
             ],
             [
              0.4444444444444444,
              "#bd3786"
             ],
             [
              0.5555555555555556,
              "#d8576b"
             ],
             [
              0.6666666666666666,
              "#ed7953"
             ],
             [
              0.7777777777777778,
              "#fb9f3a"
             ],
             [
              0.8888888888888888,
              "#fdca26"
             ],
             [
              1,
              "#f0f921"
             ]
            ],
            "type": "surface"
           }
          ],
          "table": [
           {
            "cells": {
             "fill": {
              "color": "#EBF0F8"
             },
             "line": {
              "color": "white"
             }
            },
            "header": {
             "fill": {
              "color": "#C8D4E3"
             },
             "line": {
              "color": "white"
             }
            },
            "type": "table"
           }
          ]
         },
         "layout": {
          "annotationdefaults": {
           "arrowcolor": "#2a3f5f",
           "arrowhead": 0,
           "arrowwidth": 1
          },
          "autotypenumbers": "strict",
          "coloraxis": {
           "colorbar": {
            "outlinewidth": 0,
            "ticks": ""
           }
          },
          "colorscale": {
           "diverging": [
            [
             0,
             "#8e0152"
            ],
            [
             0.1,
             "#c51b7d"
            ],
            [
             0.2,
             "#de77ae"
            ],
            [
             0.3,
             "#f1b6da"
            ],
            [
             0.4,
             "#fde0ef"
            ],
            [
             0.5,
             "#f7f7f7"
            ],
            [
             0.6,
             "#e6f5d0"
            ],
            [
             0.7,
             "#b8e186"
            ],
            [
             0.8,
             "#7fbc41"
            ],
            [
             0.9,
             "#4d9221"
            ],
            [
             1,
             "#276419"
            ]
           ],
           "sequential": [
            [
             0,
             "#0d0887"
            ],
            [
             0.1111111111111111,
             "#46039f"
            ],
            [
             0.2222222222222222,
             "#7201a8"
            ],
            [
             0.3333333333333333,
             "#9c179e"
            ],
            [
             0.4444444444444444,
             "#bd3786"
            ],
            [
             0.5555555555555556,
             "#d8576b"
            ],
            [
             0.6666666666666666,
             "#ed7953"
            ],
            [
             0.7777777777777778,
             "#fb9f3a"
            ],
            [
             0.8888888888888888,
             "#fdca26"
            ],
            [
             1,
             "#f0f921"
            ]
           ],
           "sequentialminus": [
            [
             0,
             "#0d0887"
            ],
            [
             0.1111111111111111,
             "#46039f"
            ],
            [
             0.2222222222222222,
             "#7201a8"
            ],
            [
             0.3333333333333333,
             "#9c179e"
            ],
            [
             0.4444444444444444,
             "#bd3786"
            ],
            [
             0.5555555555555556,
             "#d8576b"
            ],
            [
             0.6666666666666666,
             "#ed7953"
            ],
            [
             0.7777777777777778,
             "#fb9f3a"
            ],
            [
             0.8888888888888888,
             "#fdca26"
            ],
            [
             1,
             "#f0f921"
            ]
           ]
          },
          "colorway": [
           "#636efa",
           "#EF553B",
           "#00cc96",
           "#ab63fa",
           "#FFA15A",
           "#19d3f3",
           "#FF6692",
           "#B6E880",
           "#FF97FF",
           "#FECB52"
          ],
          "font": {
           "color": "#2a3f5f"
          },
          "geo": {
           "bgcolor": "white",
           "lakecolor": "white",
           "landcolor": "#E5ECF6",
           "showlakes": true,
           "showland": true,
           "subunitcolor": "white"
          },
          "hoverlabel": {
           "align": "left"
          },
          "hovermode": "closest",
          "mapbox": {
           "style": "light"
          },
          "paper_bgcolor": "white",
          "plot_bgcolor": "#E5ECF6",
          "polar": {
           "angularaxis": {
            "gridcolor": "white",
            "linecolor": "white",
            "ticks": ""
           },
           "bgcolor": "#E5ECF6",
           "radialaxis": {
            "gridcolor": "white",
            "linecolor": "white",
            "ticks": ""
           }
          },
          "scene": {
           "xaxis": {
            "backgroundcolor": "#E5ECF6",
            "gridcolor": "white",
            "gridwidth": 2,
            "linecolor": "white",
            "showbackground": true,
            "ticks": "",
            "zerolinecolor": "white"
           },
           "yaxis": {
            "backgroundcolor": "#E5ECF6",
            "gridcolor": "white",
            "gridwidth": 2,
            "linecolor": "white",
            "showbackground": true,
            "ticks": "",
            "zerolinecolor": "white"
           },
           "zaxis": {
            "backgroundcolor": "#E5ECF6",
            "gridcolor": "white",
            "gridwidth": 2,
            "linecolor": "white",
            "showbackground": true,
            "ticks": "",
            "zerolinecolor": "white"
           }
          },
          "shapedefaults": {
           "line": {
            "color": "#2a3f5f"
           }
          },
          "ternary": {
           "aaxis": {
            "gridcolor": "white",
            "linecolor": "white",
            "ticks": ""
           },
           "baxis": {
            "gridcolor": "white",
            "linecolor": "white",
            "ticks": ""
           },
           "bgcolor": "#E5ECF6",
           "caxis": {
            "gridcolor": "white",
            "linecolor": "white",
            "ticks": ""
           }
          },
          "title": {
           "x": 0.05
          },
          "xaxis": {
           "automargin": true,
           "gridcolor": "white",
           "linecolor": "white",
           "ticks": "",
           "title": {
            "standoff": 15
           },
           "zerolinecolor": "white",
           "zerolinewidth": 2
          },
          "yaxis": {
           "automargin": true,
           "gridcolor": "white",
           "linecolor": "white",
           "ticks": "",
           "title": {
            "standoff": 15
           },
           "zerolinecolor": "white",
           "zerolinewidth": 2
          }
         }
        },
        "xaxis": {
         "anchor": "y",
         "domain": [
          0,
          1
         ],
         "title": {
          "text": "price_numeric"
         }
        },
        "yaxis": {
         "anchor": "x",
         "domain": [
          0,
          1
         ],
         "title": {
          "text": "distance_numeric"
         }
        }
       }
      }
     },
     "metadata": {},
     "output_type": "display_data"
    }
   ],
   "source": [
    "import dash\n",
    "from dash import Dash, dcc, html, Input, Output, callback\n",
    "import plotly.express as px\n",
    "import pandas as pd\n",
    "from bs4 import BeautifulSoup\n",
    "import requests \n",
    "import pandas as pd\n",
    "import numpy as np\n",
    "from web_crawler_func import booking_crawler\n",
    "from data_cleaning import data_cleaner\n",
    "def update_scatter_plot(selected_location,selected_start_date,selected_end_date):\n",
    "    # Filter data based on selected category\n",
    "    hotel_info=booking_crawler(selected_location,str(selected_start_date),str(selected_end_date))\n",
    "    hotel_info_cleaned=data_cleaner(hotel_info)\n",
    "    # Update scatter plot\n",
    "    scatter_fig = px.scatter(hotel_info_cleaned, x=\"price_numeric\", y=\"distance_numeric\", color=\"rating\",hover_data=['name',\"rating\",\"price\"])\n",
    "    \n",
    "    return scatter_fig\n",
    "update_scatter_plot(\"Taipei\",\"2023-11-29\",\"2023-11-30\")"
   ]
  },
  {
   "cell_type": "code",
   "execution_count": 1,
   "metadata": {},
   "outputs": [
    {
     "data": {
      "text/html": [
       "\n",
       "        <iframe\n",
       "            width=\"100%\"\n",
       "            height=\"650\"\n",
       "            src=\"http://127.0.0.1:8050/\"\n",
       "            frameborder=\"0\"\n",
       "            allowfullscreen\n",
       "            \n",
       "        ></iframe>\n",
       "        "
      ],
      "text/plain": [
       "<IPython.lib.display.IFrame at 0x2355b5e3f70>"
      ]
     },
     "metadata": {},
     "output_type": "display_data"
    }
   ],
   "source": [
    "import dash\n",
    "from dash import Dash, dcc, html, Input, Output, callback\n",
    "import plotly.express as px\n",
    "import pandas as pd\n",
    "from bs4 import BeautifulSoup\n",
    "import requests \n",
    "import pandas as pd\n",
    "import numpy as np\n",
    "from datetime import date\n",
    "from web_crawler_func import booking_crawler\n",
    "from data_cleaning import data_cleaner\n",
    "\n",
    "\n",
    "# Create the Dash app\n",
    "app = dash.Dash(__name__)\n",
    "\n",
    "# Define the layout of the dashboard\n",
    "app.layout = html.Div([\n",
    "\n",
    "    html.H1(\"Plotly Dashboard\"),\n",
    "    # Location input\n",
    "    html.Label(\"Enter a location:\"),\n",
    "    dcc.Input(id='location-input', type='text', placeholder='Enter location'),\n",
    "    dcc.DatePickerRange(\n",
    "        id='my-date-picker-range',\n",
    "        min_date_allowed=date(2023, 1, 1),\n",
    "        max_date_allowed=date(2024, 1, 1),\n",
    "        initial_visible_month=date(2023, 11, 29),\n",
    "        end_date=date(2023, 11, 30)\n",
    "    ),\n",
    "    \n",
    "    # Scatter plot\n",
    "    dcc.Graph(\n",
    "        id='scatter-plot',\n",
    "    )\n",
    "])\n",
    "\n",
    "# Define callback to update scatter plot based on user input\n",
    "@app.callback(\n",
    "    Output('scatter-plot', 'figure'),\n",
    "    Input('my-date-picker-range', 'date'),\n",
    "    Input('my-date-picker-range', 'date'),\n",
    "    Input('location-input', 'value'))\n",
    "def update_scatter_plot(selected_start_date,selected_end_date,selected_location):\n",
    "    # Filter data based on selected category\n",
    "    hotel_info=booking_crawler(selected_location,str(selected_start_date),str(selected_end_date))\n",
    "    hotel_info_cleaned=data_cleaner(hotel_info)\n",
    "    # Update scatter plot\n",
    "    scatter_fig = px.scatter(hotel_info_cleaned, x=\"price_numeric\", y=\"distance_numeric\", color=\"rating\",hover_data=['name',\"rating\",\"price\"])\n",
    "    return scatter_fig\n",
    "   \n",
    "# Run the app\n",
    "if __name__ == '__main__':\n",
    "    app.run_server(debug=True)"
   ]
  },
  {
   "cell_type": "code",
   "execution_count": 1,
   "metadata": {},
   "outputs": [
    {
     "data": {
      "text/html": [
       "\n",
       "        <iframe\n",
       "            width=\"100%\"\n",
       "            height=\"650\"\n",
       "            src=\"http://127.0.0.1:8050/\"\n",
       "            frameborder=\"0\"\n",
       "            allowfullscreen\n",
       "            \n",
       "        ></iframe>\n",
       "        "
      ],
      "text/plain": [
       "<IPython.lib.display.IFrame at 0x1fc11808e20>"
      ]
     },
     "metadata": {},
     "output_type": "display_data"
    }
   ],
   "source": [
    "import dash\n",
    "from dash import Dash, dcc, html, Input, Output, callback\n",
    "import plotly.express as px\n",
    "import pandas as pd\n",
    "from bs4 import BeautifulSoup\n",
    "import requests \n",
    "import pandas as pd\n",
    "import numpy as np\n",
    "from datetime import date\n",
    "from web_crawler_func import booking_crawler\n",
    "from data_cleaning import data_cleaner\n",
    "\n",
    "# Create the Dash app\n",
    "app = dash.Dash(__name__)\n",
    "\n",
    "# Define the layout of the dashboard\n",
    "app.layout = html.Div([\n",
    "\n",
    "    html.H1(\"Plotly Dashboard\"),\n",
    "    # Location input\n",
    "    html.Label(\"Enter a location:\"),\n",
    "    dcc.Input(id='location-input', type='text', placeholder='Enter location'),\n",
    "    dcc.DatePickerRange(\n",
    "        id='my-date-picker-range',\n",
    "        min_date_allowed=date(2023, 1, 1),\n",
    "        max_date_allowed=date(2024, 1, 1),\n",
    "        initial_visible_month=date(2023, 11, 29),\n",
    "        end_date=date(2023, 11, 30)\n",
    "    ),\n",
    "    \n",
    "    # Scatter plot\n",
    "    dcc.Graph(\n",
    "        id='scatter-plot',\n",
    "    )\n",
    "])\n",
    "\n",
    "# Define callback to update scatter plot based on user input\n",
    "@app.callback(\n",
    "    Output('scatter-plot', 'figure'),\n",
    "    [Input('my-date-picker-range', 'start_date'),\n",
    "     Input('my-date-picker-range', 'end_date'),\n",
    "     Input('location-input', 'value')]\n",
    ")\n",
    "def update_scatter_plot(selected_start_date, selected_end_date, selected_location):\n",
    "    try:\n",
    "        # Fetch data based on user input\n",
    "        hotel_info = booking_crawler(selected_location, selected_start_date, selected_end_date)\n",
    "        \n",
    "        # Clean data\n",
    "        hotel_info_cleaned = data_cleaner(hotel_info)\n",
    "        \n",
    "        # Update scatter plot\n",
    "        scatter_fig = px.scatter(hotel_info_cleaned, x=\"price_numeric\", y=\"distance_numeric\", color=\"rating\", hover_data=['name', \"rating\", \"price\"])\n",
    "        \n",
    "        return scatter_fig\n",
    "    except Exception as e:\n",
    "        # Return an empty figure or None to clear the plot in case of an error\n",
    "        return None\n",
    "\n",
    "# Run the app\n",
    "if __name__ == '__main__':\n",
    "    app.run_server(debug=True)\n"
   ]
  }
 ],
 "metadata": {
  "kernelspec": {
   "display_name": "base",
   "language": "python",
   "name": "python3"
  },
  "language_info": {
   "codemirror_mode": {
    "name": "ipython",
    "version": 3
   },
   "file_extension": ".py",
   "mimetype": "text/x-python",
   "name": "python",
   "nbconvert_exporter": "python",
   "pygments_lexer": "ipython3",
   "version": "3.10.11"
  }
 },
 "nbformat": 4,
 "nbformat_minor": 2
}
