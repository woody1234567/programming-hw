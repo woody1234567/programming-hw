{
 "cells": [
  {
   "cell_type": "markdown",
   "metadata": {},
   "source": [
    "## Scraping"
   ]
  },
  {
   "cell_type": "code",
   "execution_count": 1,
   "metadata": {},
   "outputs": [
    {
     "name": "stdout",
     "output_type": "stream",
     "text": [
      "Ok\n"
     ]
    },
    {
     "name": "stderr",
     "output_type": "stream",
     "text": [
      "c:\\Users\\johan\\桌面\\研究所學習\\資料分析與社會研究\\programming hw\\web_crawler_func.py:100: FutureWarning: The frame.append method is deprecated and will be removed from pandas in a future version. Use pandas.concat instead.\n",
      "  hotel_info=hotel_info.append(hotel_info_temp,ignore_index=True)\n"
     ]
    },
    {
     "name": "stdout",
     "output_type": "stream",
     "text": [
      "(26, 6)\n",
      "Ok\n",
      "(52, 6)\n",
      "Ok\n",
      "(70, 6)\n",
      "Ok\n",
      "(95, 6)\n",
      "Ok\n",
      "(116, 6)\n",
      "Ok\n",
      "(139, 6)\n",
      "Ok\n",
      "(158, 6)\n"
     ]
    }
   ],
   "source": [
    "# the package that booking_crawler function need to use\n",
    "from bs4 import BeautifulSoup\n",
    "import requests \n",
    "import pandas as pd\n",
    "import random\n",
    "import numpy as np\n",
    "\n",
    "from web_crawler_func import booking_crawler\n",
    "hotel_info=booking_crawler(\"Tokyo\",\"2023-11-29\",\"2023-11-30\")\n",
    "#example input：  location should be like \"Tainan\" and the checkin and checkout date should be like \"2023-10-28\",\"2023-10-29\""
   ]
  },
  {
   "cell_type": "code",
   "execution_count": 2,
   "metadata": {},
   "outputs": [
    {
     "data": {
      "text/html": [
       "<div>\n",
       "<style scoped>\n",
       "    .dataframe tbody tr th:only-of-type {\n",
       "        vertical-align: middle;\n",
       "    }\n",
       "\n",
       "    .dataframe tbody tr th {\n",
       "        vertical-align: top;\n",
       "    }\n",
       "\n",
       "    .dataframe thead th {\n",
       "        text-align: right;\n",
       "    }\n",
       "</style>\n",
       "<table border=\"1\" class=\"dataframe\">\n",
       "  <thead>\n",
       "    <tr style=\"text-align: right;\">\n",
       "      <th></th>\n",
       "      <th>name</th>\n",
       "      <th>location</th>\n",
       "      <th>price</th>\n",
       "      <th>rating</th>\n",
       "      <th>distance</th>\n",
       "      <th>comments</th>\n",
       "    </tr>\n",
       "  </thead>\n",
       "  <tbody>\n",
       "    <tr>\n",
       "      <th>0</th>\n",
       "      <td>MUSTARD HOTEL SHIMOKITAZAWA</td>\n",
       "      <td>Setagaya, Tokyo</td>\n",
       "      <td>TWD 4,053</td>\n",
       "      <td>8.4</td>\n",
       "      <td>5.8 km from centre</td>\n",
       "      <td>Very good</td>\n",
       "    </tr>\n",
       "    <tr>\n",
       "      <th>1</th>\n",
       "      <td>The Ritz-Carlton, Tokyo</td>\n",
       "      <td>Minato, Tokyo</td>\n",
       "      <td>TWD 32,627</td>\n",
       "      <td>8.4</td>\n",
       "      <td>2.2 km from centre</td>\n",
       "      <td>Very good</td>\n",
       "    </tr>\n",
       "    <tr>\n",
       "      <th>2</th>\n",
       "      <td>Super Hotel Shinjuku Kabukicho</td>\n",
       "      <td>Shinjuku Ward, Tokyo</td>\n",
       "      <td>TWD 7,207</td>\n",
       "      <td>8.0</td>\n",
       "      <td>2.7 km from centre</td>\n",
       "      <td>Very good</td>\n",
       "    </tr>\n",
       "    <tr>\n",
       "      <th>3</th>\n",
       "      <td>ICI HOTEL Ueno Shin Okachimachi</td>\n",
       "      <td>Taito, Tokyo</td>\n",
       "      <td>TWD 2,630</td>\n",
       "      <td>8.4</td>\n",
       "      <td>5.2 km from centre</td>\n",
       "      <td>Very good</td>\n",
       "    </tr>\n",
       "    <tr>\n",
       "      <th>4</th>\n",
       "      <td>cyashitsu ryokan asakusa</td>\n",
       "      <td>Taito, Tokyo</td>\n",
       "      <td>TWD 9,654</td>\n",
       "      <td>9.5</td>\n",
       "      <td>7 km from centre</td>\n",
       "      <td>Exceptional</td>\n",
       "    </tr>\n",
       "    <tr>\n",
       "      <th>...</th>\n",
       "      <td>...</td>\n",
       "      <td>...</td>\n",
       "      <td>...</td>\n",
       "      <td>...</td>\n",
       "      <td>...</td>\n",
       "      <td>...</td>\n",
       "    </tr>\n",
       "    <tr>\n",
       "      <th>146</th>\n",
       "      <td>Hotel Fukudaya</td>\n",
       "      <td>Meguro Ward, Tokyo</td>\n",
       "      <td>TWD 2,985</td>\n",
       "      <td>8.1</td>\n",
       "      <td>4.9 km from centre</td>\n",
       "      <td>Very good</td>\n",
       "    </tr>\n",
       "    <tr>\n",
       "      <th>147</th>\n",
       "      <td>GINZA HOTEL by GRANBELL</td>\n",
       "      <td>Chuo Ward, Tokyo</td>\n",
       "      <td>TWD 11,558</td>\n",
       "      <td>8.1</td>\n",
       "      <td>3.2 km from centre</td>\n",
       "      <td>Very good</td>\n",
       "    </tr>\n",
       "    <tr>\n",
       "      <th>148</th>\n",
       "      <td>ALFIT HOTEL &amp; BAR AKASAKA</td>\n",
       "      <td>Minato, Tokyo</td>\n",
       "      <td>TWD 5,075</td>\n",
       "      <td>8.7</td>\n",
       "      <td>1.6 km from centre</td>\n",
       "      <td>Fabulous</td>\n",
       "    </tr>\n",
       "    <tr>\n",
       "      <th>149</th>\n",
       "      <td>Sotetsu Fresa Inn Hamamatsucho-Daimon</td>\n",
       "      <td>Minato, Tokyo</td>\n",
       "      <td>TWD 4,086</td>\n",
       "      <td>7.8</td>\n",
       "      <td>3.7 km from centre</td>\n",
       "      <td>Good</td>\n",
       "    </tr>\n",
       "    <tr>\n",
       "      <th>150</th>\n",
       "      <td>APA Hotel Ginza-Takaracho Tokyo Yaesu Minami-g...</td>\n",
       "      <td>Chuo Ward, Tokyo</td>\n",
       "      <td>TWD 4,883</td>\n",
       "      <td>7.4</td>\n",
       "      <td>4 km from centre</td>\n",
       "      <td>Good</td>\n",
       "    </tr>\n",
       "  </tbody>\n",
       "</table>\n",
       "<p>151 rows × 6 columns</p>\n",
       "</div>"
      ],
      "text/plain": [
       "                                                  name              location  \\\n",
       "0                          MUSTARD HOTEL SHIMOKITAZAWA       Setagaya, Tokyo   \n",
       "1                              The Ritz-Carlton, Tokyo         Minato, Tokyo   \n",
       "2                       Super Hotel Shinjuku Kabukicho  Shinjuku Ward, Tokyo   \n",
       "3                      ICI HOTEL Ueno Shin Okachimachi          Taito, Tokyo   \n",
       "4                             cyashitsu ryokan asakusa          Taito, Tokyo   \n",
       "..                                                 ...                   ...   \n",
       "146                                     Hotel Fukudaya    Meguro Ward, Tokyo   \n",
       "147                            GINZA HOTEL by GRANBELL      Chuo Ward, Tokyo   \n",
       "148                          ALFIT HOTEL & BAR AKASAKA         Minato, Tokyo   \n",
       "149              Sotetsu Fresa Inn Hamamatsucho-Daimon         Minato, Tokyo   \n",
       "150  APA Hotel Ginza-Takaracho Tokyo Yaesu Minami-g...      Chuo Ward, Tokyo   \n",
       "\n",
       "          price rating            distance      comments  \n",
       "0     TWD 4,053    8.4  5.8 km from centre    Very good   \n",
       "1    TWD 32,627    8.4  2.2 km from centre    Very good   \n",
       "2     TWD 7,207    8.0  2.7 km from centre    Very good   \n",
       "3     TWD 2,630    8.4  5.2 km from centre    Very good   \n",
       "4     TWD 9,654    9.5    7 km from centre  Exceptional   \n",
       "..          ...    ...                 ...           ...  \n",
       "146   TWD 2,985    8.1  4.9 km from centre    Very good   \n",
       "147  TWD 11,558    8.1  3.2 km from centre    Very good   \n",
       "148   TWD 5,075    8.7  1.6 km from centre     Fabulous   \n",
       "149   TWD 4,086    7.8  3.7 km from centre         Good   \n",
       "150   TWD 4,883    7.4    4 km from centre         Good   \n",
       "\n",
       "[151 rows x 6 columns]"
      ]
     },
     "execution_count": 2,
     "metadata": {},
     "output_type": "execute_result"
    }
   ],
   "source": [
    "hotel_info=hotel_info.reset_index().drop(columns=[\"index\"])\n",
    "hotel_info"
   ]
  },
  {
   "cell_type": "markdown",
   "metadata": {},
   "source": [
    "## data cleaning"
   ]
  },
  {
   "cell_type": "code",
   "execution_count": 3,
   "metadata": {},
   "outputs": [],
   "source": [
    "hotel_info[\"distance_numeric\"]=0"
   ]
  },
  {
   "cell_type": "code",
   "execution_count": 4,
   "metadata": {},
   "outputs": [
    {
     "name": "stderr",
     "output_type": "stream",
     "text": [
      "C:\\Users\\johan\\AppData\\Local\\Temp\\ipykernel_25636\\3567725903.py:5: SettingWithCopyWarning: \n",
      "A value is trying to be set on a copy of a slice from a DataFrame\n",
      "\n",
      "See the caveats in the documentation: https://pandas.pydata.org/pandas-docs/stable/user_guide/indexing.html#returning-a-view-versus-a-copy\n",
      "  hotel_info[\"distance_numeric\"][i]=float(hotel_info[\"distance\"][i][0:slice-1])\n"
     ]
    }
   ],
   "source": [
    "# distance\n",
    "for i in range(hotel_info.shape[0]):\n",
    "    slice=hotel_info[\"distance\"][i].find(\"km\")\n",
    "    if slice!=-1:\n",
    "        hotel_info[\"distance_numeric\"][i]=float(hotel_info[\"distance\"][i][0:slice-1])\n",
    "    else:\n",
    "        slice_temp=hotel_info[\"distance\"][i].find(\"m\")\n",
    "        hotel_info[\"distance_numeric\"][i]=float(hotel_info[\"distance\"][i][0:slice_temp-1])/1000"
   ]
  },
  {
   "cell_type": "code",
   "execution_count": 5,
   "metadata": {},
   "outputs": [],
   "source": [
    "hotel_info[\"price_numeric\"]=0"
   ]
  },
  {
   "cell_type": "code",
   "execution_count": 6,
   "metadata": {},
   "outputs": [
    {
     "name": "stderr",
     "output_type": "stream",
     "text": [
      "C:\\Users\\johan\\AppData\\Local\\Temp\\ipykernel_25636\\2500331478.py:5: SettingWithCopyWarning: \n",
      "A value is trying to be set on a copy of a slice from a DataFrame\n",
      "\n",
      "See the caveats in the documentation: https://pandas.pydata.org/pandas-docs/stable/user_guide/indexing.html#returning-a-view-versus-a-copy\n",
      "  hotel_info[\"price_numeric\"][i]=int(hotel_info[\"price\"][i][slice+4:].replace(\",\",\"\"))\n"
     ]
    }
   ],
   "source": [
    "# price\n",
    "for i in range(hotel_info.shape[0]):\n",
    "    slice=hotel_info[\"price\"][i].find(\"TWD\")\n",
    "    if slice!=-1:\n",
    "        hotel_info[\"price_numeric\"][i]=int(hotel_info[\"price\"][i][slice+4:].replace(\",\",\"\"))\n",
    "    else:\n",
    "        continue"
   ]
  },
  {
   "cell_type": "code",
   "execution_count": 7,
   "metadata": {},
   "outputs": [
    {
     "data": {
      "text/plain": [
       "name                 object\n",
       "location             object\n",
       "price                object\n",
       "rating              float64\n",
       "distance             object\n",
       "comments             object\n",
       "distance_numeric    float64\n",
       "price_numeric         int64\n",
       "dtype: object"
      ]
     },
     "execution_count": 7,
     "metadata": {},
     "output_type": "execute_result"
    }
   ],
   "source": [
    "#rating \n",
    "hotel_info[\"rating\"]=hotel_info[\"rating\"].astype(\"float\")\n",
    "\n",
    "#comment\n",
    "hotel_info[\"comments\"]=hotel_info[\"comments\"].astype(\"str\")\n",
    "hotel_info.dtypes"
   ]
  },
  {
   "cell_type": "code",
   "execution_count": 8,
   "metadata": {},
   "outputs": [
    {
     "data": {
      "text/html": [
       "<div>\n",
       "<style scoped>\n",
       "    .dataframe tbody tr th:only-of-type {\n",
       "        vertical-align: middle;\n",
       "    }\n",
       "\n",
       "    .dataframe tbody tr th {\n",
       "        vertical-align: top;\n",
       "    }\n",
       "\n",
       "    .dataframe thead th {\n",
       "        text-align: right;\n",
       "    }\n",
       "</style>\n",
       "<table border=\"1\" class=\"dataframe\">\n",
       "  <thead>\n",
       "    <tr style=\"text-align: right;\">\n",
       "      <th></th>\n",
       "      <th>name</th>\n",
       "      <th>location</th>\n",
       "      <th>price</th>\n",
       "      <th>rating</th>\n",
       "      <th>distance</th>\n",
       "      <th>comments</th>\n",
       "      <th>distance_numeric</th>\n",
       "      <th>price_numeric</th>\n",
       "    </tr>\n",
       "  </thead>\n",
       "  <tbody>\n",
       "    <tr>\n",
       "      <th>0</th>\n",
       "      <td>MUSTARD HOTEL SHIMOKITAZAWA</td>\n",
       "      <td>Setagaya, Tokyo</td>\n",
       "      <td>TWD 4,053</td>\n",
       "      <td>8.4</td>\n",
       "      <td>5.8 km from centre</td>\n",
       "      <td>Very good</td>\n",
       "      <td>5.8</td>\n",
       "      <td>4053</td>\n",
       "    </tr>\n",
       "    <tr>\n",
       "      <th>1</th>\n",
       "      <td>The Ritz-Carlton, Tokyo</td>\n",
       "      <td>Minato, Tokyo</td>\n",
       "      <td>TWD 32,627</td>\n",
       "      <td>8.4</td>\n",
       "      <td>2.2 km from centre</td>\n",
       "      <td>Very good</td>\n",
       "      <td>2.2</td>\n",
       "      <td>32627</td>\n",
       "    </tr>\n",
       "    <tr>\n",
       "      <th>2</th>\n",
       "      <td>Super Hotel Shinjuku Kabukicho</td>\n",
       "      <td>Shinjuku Ward, Tokyo</td>\n",
       "      <td>TWD 7,207</td>\n",
       "      <td>8.0</td>\n",
       "      <td>2.7 km from centre</td>\n",
       "      <td>Very good</td>\n",
       "      <td>2.7</td>\n",
       "      <td>7207</td>\n",
       "    </tr>\n",
       "    <tr>\n",
       "      <th>3</th>\n",
       "      <td>ICI HOTEL Ueno Shin Okachimachi</td>\n",
       "      <td>Taito, Tokyo</td>\n",
       "      <td>TWD 2,630</td>\n",
       "      <td>8.4</td>\n",
       "      <td>5.2 km from centre</td>\n",
       "      <td>Very good</td>\n",
       "      <td>5.2</td>\n",
       "      <td>2630</td>\n",
       "    </tr>\n",
       "    <tr>\n",
       "      <th>4</th>\n",
       "      <td>cyashitsu ryokan asakusa</td>\n",
       "      <td>Taito, Tokyo</td>\n",
       "      <td>TWD 9,654</td>\n",
       "      <td>9.5</td>\n",
       "      <td>7 km from centre</td>\n",
       "      <td>Exceptional</td>\n",
       "      <td>7.0</td>\n",
       "      <td>9654</td>\n",
       "    </tr>\n",
       "    <tr>\n",
       "      <th>...</th>\n",
       "      <td>...</td>\n",
       "      <td>...</td>\n",
       "      <td>...</td>\n",
       "      <td>...</td>\n",
       "      <td>...</td>\n",
       "      <td>...</td>\n",
       "      <td>...</td>\n",
       "      <td>...</td>\n",
       "    </tr>\n",
       "    <tr>\n",
       "      <th>146</th>\n",
       "      <td>Hotel Fukudaya</td>\n",
       "      <td>Meguro Ward, Tokyo</td>\n",
       "      <td>TWD 2,985</td>\n",
       "      <td>8.1</td>\n",
       "      <td>4.9 km from centre</td>\n",
       "      <td>Very good</td>\n",
       "      <td>4.9</td>\n",
       "      <td>2985</td>\n",
       "    </tr>\n",
       "    <tr>\n",
       "      <th>147</th>\n",
       "      <td>GINZA HOTEL by GRANBELL</td>\n",
       "      <td>Chuo Ward, Tokyo</td>\n",
       "      <td>TWD 11,558</td>\n",
       "      <td>8.1</td>\n",
       "      <td>3.2 km from centre</td>\n",
       "      <td>Very good</td>\n",
       "      <td>3.2</td>\n",
       "      <td>11558</td>\n",
       "    </tr>\n",
       "    <tr>\n",
       "      <th>148</th>\n",
       "      <td>ALFIT HOTEL &amp; BAR AKASAKA</td>\n",
       "      <td>Minato, Tokyo</td>\n",
       "      <td>TWD 5,075</td>\n",
       "      <td>8.7</td>\n",
       "      <td>1.6 km from centre</td>\n",
       "      <td>Fabulous</td>\n",
       "      <td>1.6</td>\n",
       "      <td>5075</td>\n",
       "    </tr>\n",
       "    <tr>\n",
       "      <th>149</th>\n",
       "      <td>Sotetsu Fresa Inn Hamamatsucho-Daimon</td>\n",
       "      <td>Minato, Tokyo</td>\n",
       "      <td>TWD 4,086</td>\n",
       "      <td>7.8</td>\n",
       "      <td>3.7 km from centre</td>\n",
       "      <td>Good</td>\n",
       "      <td>3.7</td>\n",
       "      <td>4086</td>\n",
       "    </tr>\n",
       "    <tr>\n",
       "      <th>150</th>\n",
       "      <td>APA Hotel Ginza-Takaracho Tokyo Yaesu Minami-g...</td>\n",
       "      <td>Chuo Ward, Tokyo</td>\n",
       "      <td>TWD 4,883</td>\n",
       "      <td>7.4</td>\n",
       "      <td>4 km from centre</td>\n",
       "      <td>Good</td>\n",
       "      <td>4.0</td>\n",
       "      <td>4883</td>\n",
       "    </tr>\n",
       "  </tbody>\n",
       "</table>\n",
       "<p>151 rows × 8 columns</p>\n",
       "</div>"
      ],
      "text/plain": [
       "                                                  name              location  \\\n",
       "0                          MUSTARD HOTEL SHIMOKITAZAWA       Setagaya, Tokyo   \n",
       "1                              The Ritz-Carlton, Tokyo         Minato, Tokyo   \n",
       "2                       Super Hotel Shinjuku Kabukicho  Shinjuku Ward, Tokyo   \n",
       "3                      ICI HOTEL Ueno Shin Okachimachi          Taito, Tokyo   \n",
       "4                             cyashitsu ryokan asakusa          Taito, Tokyo   \n",
       "..                                                 ...                   ...   \n",
       "146                                     Hotel Fukudaya    Meguro Ward, Tokyo   \n",
       "147                            GINZA HOTEL by GRANBELL      Chuo Ward, Tokyo   \n",
       "148                          ALFIT HOTEL & BAR AKASAKA         Minato, Tokyo   \n",
       "149              Sotetsu Fresa Inn Hamamatsucho-Daimon         Minato, Tokyo   \n",
       "150  APA Hotel Ginza-Takaracho Tokyo Yaesu Minami-g...      Chuo Ward, Tokyo   \n",
       "\n",
       "          price  rating            distance      comments  distance_numeric  \\\n",
       "0     TWD 4,053     8.4  5.8 km from centre    Very good                5.8   \n",
       "1    TWD 32,627     8.4  2.2 km from centre    Very good                2.2   \n",
       "2     TWD 7,207     8.0  2.7 km from centre    Very good                2.7   \n",
       "3     TWD 2,630     8.4  5.2 km from centre    Very good                5.2   \n",
       "4     TWD 9,654     9.5    7 km from centre  Exceptional                7.0   \n",
       "..          ...     ...                 ...           ...               ...   \n",
       "146   TWD 2,985     8.1  4.9 km from centre    Very good                4.9   \n",
       "147  TWD 11,558     8.1  3.2 km from centre    Very good                3.2   \n",
       "148   TWD 5,075     8.7  1.6 km from centre     Fabulous                1.6   \n",
       "149   TWD 4,086     7.8  3.7 km from centre         Good                3.7   \n",
       "150   TWD 4,883     7.4    4 km from centre         Good                4.0   \n",
       "\n",
       "     price_numeric  \n",
       "0             4053  \n",
       "1            32627  \n",
       "2             7207  \n",
       "3             2630  \n",
       "4             9654  \n",
       "..             ...  \n",
       "146           2985  \n",
       "147          11558  \n",
       "148           5075  \n",
       "149           4086  \n",
       "150           4883  \n",
       "\n",
       "[151 rows x 8 columns]"
      ]
     },
     "execution_count": 8,
     "metadata": {},
     "output_type": "execute_result"
    }
   ],
   "source": [
    "hotel_info"
   ]
  },
  {
   "cell_type": "markdown",
   "metadata": {},
   "source": [
    "## Data Visualization"
   ]
  },
  {
   "cell_type": "code",
   "execution_count": 10,
   "metadata": {},
   "outputs": [
    {
     "data": {
      "application/vnd.plotly.v1+json": {
       "config": {
        "plotlyServerURL": "https://plot.ly"
       },
       "data": [
        {
         "customdata": [
          [
           "MUSTARD HOTEL SHIMOKITAZAWA",
           8.4,
           "TWD 4,053"
          ],
          [
           "The Ritz-Carlton, Tokyo",
           8.4,
           "TWD 32,627"
          ],
          [
           "Super Hotel Shinjuku Kabukicho",
           8,
           "TWD 7,207"
          ],
          [
           "ICI HOTEL Ueno Shin Okachimachi",
           8.4,
           "TWD 2,630"
          ],
          [
           "cyashitsu ryokan asakusa",
           9.5,
           "TWD 9,654"
          ],
          [
           "Tokyo Guest House Ouji Music Lounge",
           7.8,
           "TWD 1,535"
          ],
          [
           "KOKO HOTEL Ginza-1chome",
           8.1,
           "TWD 4,700"
          ],
          [
           "Vessel Inn Takadanobaba Ekimae",
           8.9,
           "TWD 6,539"
          ],
          [
           "Sakura Hotel Jimbocho",
           8,
           "TWD 2,142"
          ],
          [
           "APA Hotel Shinjuku-Kabukicho Tower",
           7.6,
           "TWD 4,052"
          ],
          [
           "APA Hotel & Resort Nishishinjuku-Gochome-Eki Tower",
           8.1,
           "TWD 3,817"
          ],
          [
           "Shinagawa Prince Hotel",
           7.9,
           "TWD 6,692"
          ],
          [
           "Henn na Hotel Tokyo Haneda",
           8,
           "TWD 2,362"
          ],
          [
           "Hotel Nihonbashi Saibo",
           8.1,
           "TWD 3,400"
          ],
          [
           "OTHER SPACE Hotelー HOTEL K3 asakusaー",
           8.7,
           "TWD 2,842"
          ],
          [
           "Hotel Tokyo Trip Ueno Nishi Nippori",
           8.1,
           "TWD 2,688"
          ],
          [
           "Wise Owl Hostels River Tokyo",
           8.5,
           "TWD 2,772"
          ],
          [
           "Vessel Inn Asakusa Tsukuba Express",
           8.3,
           "TWD 3,581"
          ],
          [
           "nine hours Akasaka sleep lab",
           7.6,
           "TWD 3,071"
          ],
          [
           "APA Hotel Asakusa Kuramae Kita",
           8.6,
           "TWD 3,167"
          ],
          [
           "HOTEL TAVINOS ASAKUSA",
           8,
           "TWD 2,774"
          ],
          [
           "ICI HOTEL Asakusabashi",
           8.7,
           "TWD 3,416"
          ],
          [
           "APA Hotel Yamanote Otsuka Eki Tower",
           8.4,
           "TWD 3,416"
          ],
          [
           "APA Hotel Asakusa Kuramae Ekimae",
           8.3,
           "TWD 3,167"
          ],
          [
           "APA Hotel Higashi Shinjuku Kabukicho Tower",
           8.1,
           "TWD 4,052"
          ],
          [
           "ONE@Tokyo",
           8.5,
           "TWD 6,021"
          ],
          [
           "Grand Prince Hotel Shin Takanawa",
           8.2,
           "TWD 6,197"
          ],
          [
           "Sotetsu Fresa Inn Tokyo Roppongi",
           8.1,
           "TWD 4,670"
          ],
          [
           "Hotel Asia Center of Japan",
           8.5,
           "TWD 4,030"
          ],
          [
           "Tmark City Hotel Tokyo Omori",
           8.4,
           "TWD 4,455"
          ],
          [
           "Daiwa Roynet Hotel Nishi-Shinjuku PREMIER",
           8.8,
           "TWD 6,807"
          ],
          [
           "Best Western Hotel Fino Tokyo Akasaka",
           8.2,
           "TWD 4,585"
          ],
          [
           "Tokyo Bay Shiomi Prince Hotel",
           9.1,
           "TWD 7,226"
          ],
          [
           "Hotel Monterey Akasaka",
           8.3,
           "TWD 3,646"
          ],
          [
           "Hotel Risveglio Akasaka",
           8.4,
           "TWD 3,541"
          ],
          [
           "Shinjuku Granbell Hotel",
           7.9,
           "TWD 6,081"
          ],
          [
           "Akabane Holic Hotel",
           8.5,
           "TWD 2,744"
          ],
          [
           "DDD HOTEL",
           8.3,
           "TWD 3,646"
          ],
          [
           "Grand Prince Hotel Takanawa",
           8.3,
           "TWD 8,967"
          ],
          [
           "APA Hotel Shinjuku Gyoemmae",
           7.8,
           "TWD 4,883"
          ],
          [
           "Quintessa Hotel Tokyo Ginza",
           8.3,
           "TWD 6,948"
          ],
          [
           "APA Hotel Keikyu Kamata-Ekimae",
           8.5,
           "TWD 3,435"
          ],
          [
           "APA Hotel PRIDE Kokkaigijidomae - National Diet Bldg",
           8.4,
           "TWD 3,817"
          ],
          [
           "Hotel Monterey Ginza",
           8.1,
           "TWD 4,478"
          ],
          [
           "APA Hotel Hanzomon Hirakawacho",
           7.7,
           "TWD 3,646"
          ],
          [
           "Grand Prince Hotel Shin Takanawa",
           8.2,
           "TWD 6,231"
          ],
          [
           "APA Hotel Ueno Ekiminami",
           8.2,
           "TWD 4,052"
          ],
          [
           "APA Hotel TKP Nippori Ekimae",
           8.1,
           "TWD 3,302"
          ],
          [
           "Best Western Hotel Fino Tokyo Akasaka",
           8.2,
           "TWD 4,611"
          ],
          [
           "Daiwa Roynet Hotel Nishi-Shinjuku PREMIER",
           8.8,
           "TWD 7,165"
          ],
          [
           "KOKO HOTEL Premier Nihonbashi Hamacho",
           8.6,
           "TWD 5,543"
          ],
          [
           "Shinjuku Washington Hotel",
           7.1,
           "TWD 5,224"
          ],
          [
           "Agora Place Tokyo Asakusa",
           7.7,
           "TWD 3,412"
          ],
          [
           "APA Hotel Ueno Ekimae",
           8,
           "TWD 4,052"
          ],
          [
           "Hotel Gracery Ginza",
           8,
           "TWD 7,238"
          ],
          [
           "Tokyo Guesthouse HIVE",
           8.4,
           "TWD 1,451"
          ],
          [
           "Hearton Hotel Higashi-Shinagawa",
           8.1,
           "TWD 4,745"
          ],
          [
           "APA Hotel Nihombashi Bakuroyokoyama Ekimae",
           8.4,
           "TWD 3,435"
          ],
          [
           "COGO Ryogoku",
           8.1,
           "TWD 2,428"
          ],
          [
           "Asakusa View Hotel Annex Rokku",
           8.7,
           "TWD 7,379"
          ],
          [
           "HOTEL MYSTAYS Hamamatsucho",
           8,
           "TWD 3,672"
          ],
          [
           "Hotel Villa Fontaine Grand Tokyo-Shiodome",
           8.1,
           "TWD 5,135"
          ],
          [
           "Minn Kasai",
           8.3,
           "TWD 2,919"
          ],
          [
           "Quintessa Hotel Tokyo Ginza",
           8.3,
           "TWD 6,986"
          ],
          [
           "Artsy Inn 東上野",
           7.8,
           "TWD 3,163"
          ],
          [
           "Grand Prince Hotel Takanawa",
           8.3,
           "TWD 9,016"
          ],
          [
           "the b asakusa",
           8.5,
           "TWD 3,973"
          ],
          [
           "Henn na Hotel Tokyo Asakusa Tawaramachi",
           8.6,
           "TWD 3,226"
          ],
          [
           "Candeo Hotels Ueno Park",
           7.3,
           "TWD 4,265"
          ],
          [
           "Candeo Hotels Tokyo Roppongi",
           8.2,
           "TWD 7,681"
          ],
          [
           "K's House Tokyo Oasis - Asakusa Downtown",
           8.7,
           "TWD 2,265"
          ],
          [
           "APA Hotel Omori Ekimae",
           8.3,
           "TWD 3,435"
          ],
          [
           "Hotel Monte Hermana Tokyo",
           8.4,
           "TWD 6,729"
          ],
          [
           "Hotel Ryumeikan Tokyo",
           8.9,
           "TWD 6,611"
          ],
          [
           "Miyako City Tokyo Takanawa",
           8.7,
           "TWD 6,525"
          ],
          [
           "Hotel Sting",
           7.4,
           "TWD 1,749"
          ],
          [
           "La'gent Hotel Shinjuku Kabukicho",
           8.3,
           "TWD 4,134"
          ],
          [
           "Wander Tokyo Shibuya",
           8.2,
           "TWD 4,158"
          ],
          [
           "plat hostel keikyu haneda home",
           8.4,
           "TWD 1,943"
          ],
          [
           "Citadines Central Shinjuku Tokyo",
           8,
           "TWD 5,161"
          ],
          [
           "Ryogoku View Hotel",
           7.7,
           "TWD 4,284"
          ],
          [
           "GLOU Higashi Shinjuku",
           8.2,
           "TWD 3,167"
          ],
          [
           "Dormy Inn Korakuen",
           8.7,
           "TWD 5,520"
          ],
          [
           "Mitsui Garden Hotel Shiodome Italia-gai - Tokyo",
           8.3,
           "TWD 5,827"
          ],
          [
           "remm Akihabara",
           8.3,
           "TWD 5,971"
          ],
          [
           "Hotel East 21 Tokyo",
           8.5,
           "TWD 9,042"
          ],
          [
           "Onyado Nono Asakusa Natural Hot Spring",
           8.9,
           "TWD 6,571"
          ],
          [
           "APA Hotel Mita-Ekimae",
           7.5,
           "TWD 4,052"
          ],
          [
           "The Kanzashi Tokyo Asakusa",
           8.6,
           "TWD 3,992"
          ],
          [
           "YOOSUU Ueno",
           8.3,
           "TWD 2,634"
          ],
          [
           "MONday Apart Premium UENO",
           8.6,
           "TWD 6,202"
          ],
          [
           "Hotel Vintage Kagurazaka Tokyo",
           8.8,
           "TWD 4,442"
          ],
          [
           "Hotel K5",
           9.3,
           "TWD 19,743"
          ],
          [
           "&AND HOSTEL ASAKUSA KAPPABASHI",
           8.4,
           "TWD 3,090"
          ],
          [
           "LaVie Yotsuya",
           5,
           "TWD 2,020"
          ],
          [
           "Shinjuku area/Family-apartment/4 min to Subway",
           9.2,
           "TWD 3,753"
          ],
          [
           "Park Hotel Tokyo",
           8.7,
           "TWD 8,956"
          ],
          [
           "Sotetsu Fresa Inn Tokyo Kanda",
           8.3,
           "TWD 3,412"
          ],
          [
           "MIMARU Tokyo KINSHICHO",
           9.1,
           "TWD 8,105"
          ],
          [
           "MONday Apart Ueno Shinokachimachi",
           8.8,
           "TWD 6,504"
          ],
          [
           "ホテルカルタ赤坂",
           8,
           "TWD 4,158"
          ],
          [
           "MONday Apart 日本橋水天宮前",
           8.9,
           "TWD 6,958"
          ],
          [
           "MONday Apart Akihabara Southeast",
           8.7,
           "TWD 6,411"
          ],
          [
           "KOKO HOTEL Residence Asakusa Tawaramachi",
           9.2,
           "TWD 7,691"
          ],
          [
           "Hotel Opera",
           9.7,
           "TWD 5,502"
          ],
          [
           "KOKO HOTEL Residence Asakusa Kappabashi",
           9.1,
           "TWD 6,963"
          ],
          [
           "MONday Apart Hamamatsucho Daimon",
           9,
           "TWD 6,509"
          ],
          [
           "Hotel PRINCESS2 大人専用",
           4.2,
           "TWD 2,538"
          ],
          [
           "Tokyo Central Youth Hostel",
           7.2,
           "TWD 2,815"
          ],
          [
           "MONday Apart Premium AKIHABARA ASAKUSABASHI Sta.",
           9.1,
           "TWD 6,608"
          ],
          [
           "Hotel Belle Via Tokyo",
           8,
           "TWD 1,689"
          ],
          [
           "Smile Hotel Tokyo Nishikasai",
           6.7,
           "TWD 2,388"
          ],
          [
           "江元浅草",
           9.3,
           "TWD 3,408"
          ],
          [
           "HOTEL TAVINOS HAMAMATSUCHO",
           7.9,
           "TWD 4,145"
          ],
          [
           "BnA WALL",
           8.7,
           "TWD 4,598"
          ],
          [
           "LOISIR HOTEL SHINAGAWA SEASIDE",
           8.3,
           "TWD 5,515"
          ],
          [
           "Sotetsu Fresa Inn Daimon",
           8.5,
           "TWD 4,545"
          ],
          [
           "Comfort Inn Tokyo Roppongi",
           8,
           "TWD 4,478"
          ],
          [
           "APA Hotel Asakusa Tawaramachi Ekimae",
           8.2,
           "TWD 3,435"
          ],
          [
           "Super Hotel Premier Ikebukuro Natural Hot Spring",
           8.5,
           "TWD 4,030"
          ],
          [
           "Tosei Hotel Cocone Ueno",
           8.2,
           "TWD 3,275"
          ],
          [
           "Rihga Royal Hotel Tokyo",
           8.5,
           "TWD 5,118"
          ],
          [
           "Hotel Sunroute Asakusa",
           8.2,
           "TWD 3,092"
          ],
          [
           "hotel MONday Akihabara Asakusabashi",
           8.5,
           "TWD 3,358"
          ],
          [
           "cotoha Hotel Okachimachi",
           7.8,
           "TWD 3,444"
          ],
          [
           "Toyoko Inn Tokyo Keihin Tohoku sen Oji eki Kita guchi",
           7.8,
           "TWD 2,172"
          ],
          [
           "Hotel Gracery Tokyo Tamachi",
           8.2,
           "TWD 4,265"
          ],
          [
           "Hyatt Regency Tokyo",
           8.2,
           "TWD 13,159"
          ],
          [
           "Hotel Mystays Premier Hamamatsucho",
           8.1,
           "TWD 4,815"
          ],
          [
           "Hotel Grand Arc Hanzomon",
           8.6,
           "TWD 4,798"
          ],
          [
           "APA Hotel & Resort Ryogoku Eki Tower",
           8.3,
           "TWD 3,282"
          ],
          [
           "ibis Styles Tokyo Ginza East",
           7.9,
           "TWD 5,470"
          ],
          [
           "Anshin Oyado Shinbashi Shiodome-Male only",
           8.4,
           "TWD 2,730"
          ],
          [
           "hanare",
           9.3,
           "TWD 5,758"
          ],
          [
           "Hotel Wing International Premium Tokyo Yotsuya",
           8.2,
           "TWD 6,443"
          ],
          [
           "remm plus Ginza",
           8.6,
           "TWD 7,400"
          ],
          [
           "hotel MONday Premium Ueno Okachimachi",
           8.6,
           "TWD 3,878"
          ],
          [
           "Hotel Chinzanso Tokyo",
           9.2,
           "TWD 16,009"
          ],
          [
           "Bayside Hotel Azur Takeshiba",
           7.7,
           "TWD 5,758"
          ],
          [
           "Hotel Graphy Nezu",
           8.4,
           "TWD 5,251"
          ],
          [
           "plat hostel keikyu asakusa station",
           8.5,
           "TWD 1,958"
          ],
          [
           "HOTEL VARKIN Ikebukuro Nishiguchi",
           8.5,
           "TWD 2,850"
          ],
          [
           "APA Hotel Ginza Kyobashi Tokyo-Eki Yaesu Minami-guchi",
           7.2,
           "TWD 5,416"
          ],
          [
           "APA Hotel Asakusa Kaminarimon",
           8.2,
           "TWD 3,817"
          ],
          [
           "Dormy Inn Ikebukuro",
           8.9,
           "TWD 4,642"
          ],
          [
           "Shizutetsu Hotel Prezio Tokyo Tamachi",
           8.8,
           "TWD 5,378"
          ],
          [
           "Hotel Fukudaya",
           8.1,
           "TWD 2,985"
          ],
          [
           "GINZA HOTEL by GRANBELL",
           8.1,
           "TWD 11,558"
          ],
          [
           "ALFIT HOTEL & BAR AKASAKA",
           8.7,
           "TWD 5,075"
          ],
          [
           "Sotetsu Fresa Inn Hamamatsucho-Daimon",
           7.8,
           "TWD 4,086"
          ],
          [
           "APA Hotel Ginza-Takaracho Tokyo Yaesu Minami-guchi",
           7.4,
           "TWD 4,883"
          ]
         ],
         "hovertemplate": "price_numeric=%{x}<br>distance_numeric=%{y}<br>name=%{customdata[0]}<br>rating=%{marker.color}<br>price=%{customdata[2]}<extra></extra>",
         "legendgroup": "",
         "marker": {
          "color": [
           8.4,
           8.4,
           8,
           8.4,
           9.5,
           7.8,
           8.1,
           8.9,
           8,
           7.6,
           8.1,
           7.9,
           8,
           8.1,
           8.7,
           8.1,
           8.5,
           8.3,
           7.6,
           8.6,
           8,
           8.7,
           8.4,
           8.3,
           8.1,
           8.5,
           8.2,
           8.1,
           8.5,
           8.4,
           8.8,
           8.2,
           9.1,
           8.3,
           8.4,
           7.9,
           8.5,
           8.3,
           8.3,
           7.8,
           8.3,
           8.5,
           8.4,
           8.1,
           7.7,
           8.2,
           8.2,
           8.1,
           8.2,
           8.8,
           8.6,
           7.1,
           7.7,
           8,
           8,
           8.4,
           8.1,
           8.4,
           8.1,
           8.7,
           8,
           8.1,
           8.3,
           8.3,
           7.8,
           8.3,
           8.5,
           8.6,
           7.3,
           8.2,
           8.7,
           8.3,
           8.4,
           8.9,
           8.7,
           7.4,
           8.3,
           8.2,
           8.4,
           8,
           7.7,
           8.2,
           8.7,
           8.3,
           8.3,
           8.5,
           8.9,
           7.5,
           8.6,
           8.3,
           8.6,
           8.8,
           9.3,
           8.4,
           5,
           9.2,
           8.7,
           8.3,
           9.1,
           8.8,
           8,
           8.9,
           8.7,
           9.2,
           9.7,
           9.1,
           9,
           4.2,
           7.2,
           9.1,
           8,
           6.7,
           9.3,
           7.9,
           8.7,
           8.3,
           8.5,
           8,
           8.2,
           8.5,
           8.2,
           8.5,
           8.2,
           8.5,
           7.8,
           7.8,
           8.2,
           8.2,
           8.1,
           8.6,
           8.3,
           7.9,
           8.4,
           9.3,
           8.2,
           8.6,
           8.6,
           9.2,
           7.7,
           8.4,
           8.5,
           8.5,
           7.2,
           8.2,
           8.9,
           8.8,
           8.1,
           8.1,
           8.7,
           7.8,
           7.4
          ],
          "coloraxis": "coloraxis",
          "symbol": "circle"
         },
         "mode": "markers",
         "name": "",
         "orientation": "v",
         "showlegend": false,
         "type": "scatter",
         "x": [
          4053,
          32627,
          7207,
          2630,
          9654,
          1535,
          4700,
          6539,
          2142,
          4052,
          3817,
          6692,
          2362,
          3400,
          2842,
          2688,
          2772,
          3581,
          3071,
          3167,
          2774,
          3416,
          3416,
          3167,
          4052,
          6021,
          6197,
          4670,
          4030,
          4455,
          6807,
          4585,
          7226,
          3646,
          3541,
          6081,
          2744,
          3646,
          8967,
          4883,
          6948,
          3435,
          3817,
          4478,
          3646,
          6231,
          4052,
          3302,
          4611,
          7165,
          5543,
          5224,
          3412,
          4052,
          7238,
          1451,
          4745,
          3435,
          2428,
          7379,
          3672,
          5135,
          2919,
          6986,
          3163,
          9016,
          3973,
          3226,
          4265,
          7681,
          2265,
          3435,
          6729,
          6611,
          6525,
          1749,
          4134,
          4158,
          1943,
          5161,
          4284,
          3167,
          5520,
          5827,
          5971,
          9042,
          6571,
          4052,
          3992,
          2634,
          6202,
          4442,
          19743,
          3090,
          2020,
          3753,
          8956,
          3412,
          8105,
          6504,
          4158,
          6958,
          6411,
          7691,
          5502,
          6963,
          6509,
          2538,
          2815,
          6608,
          1689,
          2388,
          3408,
          4145,
          4598,
          5515,
          4545,
          4478,
          3435,
          4030,
          3275,
          5118,
          3092,
          3358,
          3444,
          2172,
          4265,
          13159,
          4815,
          4798,
          3282,
          5470,
          2730,
          5758,
          6443,
          7400,
          3878,
          16009,
          5758,
          5251,
          1958,
          2850,
          5416,
          3817,
          4642,
          5378,
          2985,
          11558,
          5075,
          4086,
          4883
         ],
         "xaxis": "x",
         "y": [
          5.8,
          2.2,
          2.7,
          5.2,
          7,
          7.3,
          3.8,
          3.7,
          2.6,
          2.8,
          4.2,
          6.5,
          14.7,
          4.6,
          7,
          6.2,
          7.3,
          6.7,
          1.4,
          6.3,
          6.6,
          5.1,
          5.1,
          5.8,
          2.7,
          8.3,
          6.3,
          2.5,
          1.7,
          11,
          3.7,
          1.4,
          8.4,
          1.2,
          1.3,
          2.5,
          10.3,
          5,
          6,
          1.9,
          3.9,
          13.7,
          1.6,
          3.9,
          1,
          6.3,
          4.9,
          6,
          1.4,
          3.7,
          5.2,
          3.3,
          6.1,
          5.1,
          3.6,
          4.8,
          8.6,
          4.9,
          6.1,
          6.6,
          3.9,
          3.8,
          13.1,
          3.9,
          5.8,
          6,
          6.5,
          6.1,
          6,
          2.6,
          6.7,
          10.7,
          3.8,
          3.8,
          5.9,
          6.8,
          2.8,
          5.5,
          15.5,
          2.5,
          5.7,
          2.5,
          3.5,
          3.8,
          4.2,
          7.8,
          6.7,
          4.6,
          6.8,
          4.8,
          5.8,
          2.2,
          4.4,
          6,
          1.3,
          2.6,
          3.7,
          4.1,
          7.9,
          5.3,
          1.7,
          5,
          4.8,
          6,
          3.4,
          6.3,
          3.7,
          6,
          2.1,
          5,
          4.8,
          11.8,
          7.5,
          4.6,
          4.4,
          8.7,
          4,
          2.5,
          6.1,
          5.7,
          5.1,
          2.8,
          6.3,
          5.4,
          5,
          7.8,
          5.1,
          3.5,
          3.8,
          1.3,
          6,
          4.2,
          3.6,
          5.6,
          1,
          3.6,
          4.7,
          2.9,
          4.6,
          5,
          6.3,
          5.6,
          3.9,
          6.5,
          5.2,
          5.1,
          4.9,
          3.2,
          1.6,
          3.7,
          4
         ],
         "yaxis": "y"
        }
       ],
       "layout": {
        "coloraxis": {
         "colorbar": {
          "title": {
           "text": "rating"
          }
         },
         "colorscale": [
          [
           0,
           "#0d0887"
          ],
          [
           0.1111111111111111,
           "#46039f"
          ],
          [
           0.2222222222222222,
           "#7201a8"
          ],
          [
           0.3333333333333333,
           "#9c179e"
          ],
          [
           0.4444444444444444,
           "#bd3786"
          ],
          [
           0.5555555555555556,
           "#d8576b"
          ],
          [
           0.6666666666666666,
           "#ed7953"
          ],
          [
           0.7777777777777778,
           "#fb9f3a"
          ],
          [
           0.8888888888888888,
           "#fdca26"
          ],
          [
           1,
           "#f0f921"
          ]
         ]
        },
        "legend": {
         "tracegroupgap": 0
        },
        "margin": {
         "t": 60
        },
        "template": {
         "data": {
          "bar": [
           {
            "error_x": {
             "color": "#2a3f5f"
            },
            "error_y": {
             "color": "#2a3f5f"
            },
            "marker": {
             "line": {
              "color": "#E5ECF6",
              "width": 0.5
             },
             "pattern": {
              "fillmode": "overlay",
              "size": 10,
              "solidity": 0.2
             }
            },
            "type": "bar"
           }
          ],
          "barpolar": [
           {
            "marker": {
             "line": {
              "color": "#E5ECF6",
              "width": 0.5
             },
             "pattern": {
              "fillmode": "overlay",
              "size": 10,
              "solidity": 0.2
             }
            },
            "type": "barpolar"
           }
          ],
          "carpet": [
           {
            "aaxis": {
             "endlinecolor": "#2a3f5f",
             "gridcolor": "white",
             "linecolor": "white",
             "minorgridcolor": "white",
             "startlinecolor": "#2a3f5f"
            },
            "baxis": {
             "endlinecolor": "#2a3f5f",
             "gridcolor": "white",
             "linecolor": "white",
             "minorgridcolor": "white",
             "startlinecolor": "#2a3f5f"
            },
            "type": "carpet"
           }
          ],
          "choropleth": [
           {
            "colorbar": {
             "outlinewidth": 0,
             "ticks": ""
            },
            "type": "choropleth"
           }
          ],
          "contour": [
           {
            "colorbar": {
             "outlinewidth": 0,
             "ticks": ""
            },
            "colorscale": [
             [
              0,
              "#0d0887"
             ],
             [
              0.1111111111111111,
              "#46039f"
             ],
             [
              0.2222222222222222,
              "#7201a8"
             ],
             [
              0.3333333333333333,
              "#9c179e"
             ],
             [
              0.4444444444444444,
              "#bd3786"
             ],
             [
              0.5555555555555556,
              "#d8576b"
             ],
             [
              0.6666666666666666,
              "#ed7953"
             ],
             [
              0.7777777777777778,
              "#fb9f3a"
             ],
             [
              0.8888888888888888,
              "#fdca26"
             ],
             [
              1,
              "#f0f921"
             ]
            ],
            "type": "contour"
           }
          ],
          "contourcarpet": [
           {
            "colorbar": {
             "outlinewidth": 0,
             "ticks": ""
            },
            "type": "contourcarpet"
           }
          ],
          "heatmap": [
           {
            "colorbar": {
             "outlinewidth": 0,
             "ticks": ""
            },
            "colorscale": [
             [
              0,
              "#0d0887"
             ],
             [
              0.1111111111111111,
              "#46039f"
             ],
             [
              0.2222222222222222,
              "#7201a8"
             ],
             [
              0.3333333333333333,
              "#9c179e"
             ],
             [
              0.4444444444444444,
              "#bd3786"
             ],
             [
              0.5555555555555556,
              "#d8576b"
             ],
             [
              0.6666666666666666,
              "#ed7953"
             ],
             [
              0.7777777777777778,
              "#fb9f3a"
             ],
             [
              0.8888888888888888,
              "#fdca26"
             ],
             [
              1,
              "#f0f921"
             ]
            ],
            "type": "heatmap"
           }
          ],
          "heatmapgl": [
           {
            "colorbar": {
             "outlinewidth": 0,
             "ticks": ""
            },
            "colorscale": [
             [
              0,
              "#0d0887"
             ],
             [
              0.1111111111111111,
              "#46039f"
             ],
             [
              0.2222222222222222,
              "#7201a8"
             ],
             [
              0.3333333333333333,
              "#9c179e"
             ],
             [
              0.4444444444444444,
              "#bd3786"
             ],
             [
              0.5555555555555556,
              "#d8576b"
             ],
             [
              0.6666666666666666,
              "#ed7953"
             ],
             [
              0.7777777777777778,
              "#fb9f3a"
             ],
             [
              0.8888888888888888,
              "#fdca26"
             ],
             [
              1,
              "#f0f921"
             ]
            ],
            "type": "heatmapgl"
           }
          ],
          "histogram": [
           {
            "marker": {
             "pattern": {
              "fillmode": "overlay",
              "size": 10,
              "solidity": 0.2
             }
            },
            "type": "histogram"
           }
          ],
          "histogram2d": [
           {
            "colorbar": {
             "outlinewidth": 0,
             "ticks": ""
            },
            "colorscale": [
             [
              0,
              "#0d0887"
             ],
             [
              0.1111111111111111,
              "#46039f"
             ],
             [
              0.2222222222222222,
              "#7201a8"
             ],
             [
              0.3333333333333333,
              "#9c179e"
             ],
             [
              0.4444444444444444,
              "#bd3786"
             ],
             [
              0.5555555555555556,
              "#d8576b"
             ],
             [
              0.6666666666666666,
              "#ed7953"
             ],
             [
              0.7777777777777778,
              "#fb9f3a"
             ],
             [
              0.8888888888888888,
              "#fdca26"
             ],
             [
              1,
              "#f0f921"
             ]
            ],
            "type": "histogram2d"
           }
          ],
          "histogram2dcontour": [
           {
            "colorbar": {
             "outlinewidth": 0,
             "ticks": ""
            },
            "colorscale": [
             [
              0,
              "#0d0887"
             ],
             [
              0.1111111111111111,
              "#46039f"
             ],
             [
              0.2222222222222222,
              "#7201a8"
             ],
             [
              0.3333333333333333,
              "#9c179e"
             ],
             [
              0.4444444444444444,
              "#bd3786"
             ],
             [
              0.5555555555555556,
              "#d8576b"
             ],
             [
              0.6666666666666666,
              "#ed7953"
             ],
             [
              0.7777777777777778,
              "#fb9f3a"
             ],
             [
              0.8888888888888888,
              "#fdca26"
             ],
             [
              1,
              "#f0f921"
             ]
            ],
            "type": "histogram2dcontour"
           }
          ],
          "mesh3d": [
           {
            "colorbar": {
             "outlinewidth": 0,
             "ticks": ""
            },
            "type": "mesh3d"
           }
          ],
          "parcoords": [
           {
            "line": {
             "colorbar": {
              "outlinewidth": 0,
              "ticks": ""
             }
            },
            "type": "parcoords"
           }
          ],
          "pie": [
           {
            "automargin": true,
            "type": "pie"
           }
          ],
          "scatter": [
           {
            "fillpattern": {
             "fillmode": "overlay",
             "size": 10,
             "solidity": 0.2
            },
            "type": "scatter"
           }
          ],
          "scatter3d": [
           {
            "line": {
             "colorbar": {
              "outlinewidth": 0,
              "ticks": ""
             }
            },
            "marker": {
             "colorbar": {
              "outlinewidth": 0,
              "ticks": ""
             }
            },
            "type": "scatter3d"
           }
          ],
          "scattercarpet": [
           {
            "marker": {
             "colorbar": {
              "outlinewidth": 0,
              "ticks": ""
             }
            },
            "type": "scattercarpet"
           }
          ],
          "scattergeo": [
           {
            "marker": {
             "colorbar": {
              "outlinewidth": 0,
              "ticks": ""
             }
            },
            "type": "scattergeo"
           }
          ],
          "scattergl": [
           {
            "marker": {
             "colorbar": {
              "outlinewidth": 0,
              "ticks": ""
             }
            },
            "type": "scattergl"
           }
          ],
          "scattermapbox": [
           {
            "marker": {
             "colorbar": {
              "outlinewidth": 0,
              "ticks": ""
             }
            },
            "type": "scattermapbox"
           }
          ],
          "scatterpolar": [
           {
            "marker": {
             "colorbar": {
              "outlinewidth": 0,
              "ticks": ""
             }
            },
            "type": "scatterpolar"
           }
          ],
          "scatterpolargl": [
           {
            "marker": {
             "colorbar": {
              "outlinewidth": 0,
              "ticks": ""
             }
            },
            "type": "scatterpolargl"
           }
          ],
          "scatterternary": [
           {
            "marker": {
             "colorbar": {
              "outlinewidth": 0,
              "ticks": ""
             }
            },
            "type": "scatterternary"
           }
          ],
          "surface": [
           {
            "colorbar": {
             "outlinewidth": 0,
             "ticks": ""
            },
            "colorscale": [
             [
              0,
              "#0d0887"
             ],
             [
              0.1111111111111111,
              "#46039f"
             ],
             [
              0.2222222222222222,
              "#7201a8"
             ],
             [
              0.3333333333333333,
              "#9c179e"
             ],
             [
              0.4444444444444444,
              "#bd3786"
             ],
             [
              0.5555555555555556,
              "#d8576b"
             ],
             [
              0.6666666666666666,
              "#ed7953"
             ],
             [
              0.7777777777777778,
              "#fb9f3a"
             ],
             [
              0.8888888888888888,
              "#fdca26"
             ],
             [
              1,
              "#f0f921"
             ]
            ],
            "type": "surface"
           }
          ],
          "table": [
           {
            "cells": {
             "fill": {
              "color": "#EBF0F8"
             },
             "line": {
              "color": "white"
             }
            },
            "header": {
             "fill": {
              "color": "#C8D4E3"
             },
             "line": {
              "color": "white"
             }
            },
            "type": "table"
           }
          ]
         },
         "layout": {
          "annotationdefaults": {
           "arrowcolor": "#2a3f5f",
           "arrowhead": 0,
           "arrowwidth": 1
          },
          "autotypenumbers": "strict",
          "coloraxis": {
           "colorbar": {
            "outlinewidth": 0,
            "ticks": ""
           }
          },
          "colorscale": {
           "diverging": [
            [
             0,
             "#8e0152"
            ],
            [
             0.1,
             "#c51b7d"
            ],
            [
             0.2,
             "#de77ae"
            ],
            [
             0.3,
             "#f1b6da"
            ],
            [
             0.4,
             "#fde0ef"
            ],
            [
             0.5,
             "#f7f7f7"
            ],
            [
             0.6,
             "#e6f5d0"
            ],
            [
             0.7,
             "#b8e186"
            ],
            [
             0.8,
             "#7fbc41"
            ],
            [
             0.9,
             "#4d9221"
            ],
            [
             1,
             "#276419"
            ]
           ],
           "sequential": [
            [
             0,
             "#0d0887"
            ],
            [
             0.1111111111111111,
             "#46039f"
            ],
            [
             0.2222222222222222,
             "#7201a8"
            ],
            [
             0.3333333333333333,
             "#9c179e"
            ],
            [
             0.4444444444444444,
             "#bd3786"
            ],
            [
             0.5555555555555556,
             "#d8576b"
            ],
            [
             0.6666666666666666,
             "#ed7953"
            ],
            [
             0.7777777777777778,
             "#fb9f3a"
            ],
            [
             0.8888888888888888,
             "#fdca26"
            ],
            [
             1,
             "#f0f921"
            ]
           ],
           "sequentialminus": [
            [
             0,
             "#0d0887"
            ],
            [
             0.1111111111111111,
             "#46039f"
            ],
            [
             0.2222222222222222,
             "#7201a8"
            ],
            [
             0.3333333333333333,
             "#9c179e"
            ],
            [
             0.4444444444444444,
             "#bd3786"
            ],
            [
             0.5555555555555556,
             "#d8576b"
            ],
            [
             0.6666666666666666,
             "#ed7953"
            ],
            [
             0.7777777777777778,
             "#fb9f3a"
            ],
            [
             0.8888888888888888,
             "#fdca26"
            ],
            [
             1,
             "#f0f921"
            ]
           ]
          },
          "colorway": [
           "#636efa",
           "#EF553B",
           "#00cc96",
           "#ab63fa",
           "#FFA15A",
           "#19d3f3",
           "#FF6692",
           "#B6E880",
           "#FF97FF",
           "#FECB52"
          ],
          "font": {
           "color": "#2a3f5f"
          },
          "geo": {
           "bgcolor": "white",
           "lakecolor": "white",
           "landcolor": "#E5ECF6",
           "showlakes": true,
           "showland": true,
           "subunitcolor": "white"
          },
          "hoverlabel": {
           "align": "left"
          },
          "hovermode": "closest",
          "mapbox": {
           "style": "light"
          },
          "paper_bgcolor": "white",
          "plot_bgcolor": "#E5ECF6",
          "polar": {
           "angularaxis": {
            "gridcolor": "white",
            "linecolor": "white",
            "ticks": ""
           },
           "bgcolor": "#E5ECF6",
           "radialaxis": {
            "gridcolor": "white",
            "linecolor": "white",
            "ticks": ""
           }
          },
          "scene": {
           "xaxis": {
            "backgroundcolor": "#E5ECF6",
            "gridcolor": "white",
            "gridwidth": 2,
            "linecolor": "white",
            "showbackground": true,
            "ticks": "",
            "zerolinecolor": "white"
           },
           "yaxis": {
            "backgroundcolor": "#E5ECF6",
            "gridcolor": "white",
            "gridwidth": 2,
            "linecolor": "white",
            "showbackground": true,
            "ticks": "",
            "zerolinecolor": "white"
           },
           "zaxis": {
            "backgroundcolor": "#E5ECF6",
            "gridcolor": "white",
            "gridwidth": 2,
            "linecolor": "white",
            "showbackground": true,
            "ticks": "",
            "zerolinecolor": "white"
           }
          },
          "shapedefaults": {
           "line": {
            "color": "#2a3f5f"
           }
          },
          "ternary": {
           "aaxis": {
            "gridcolor": "white",
            "linecolor": "white",
            "ticks": ""
           },
           "baxis": {
            "gridcolor": "white",
            "linecolor": "white",
            "ticks": ""
           },
           "bgcolor": "#E5ECF6",
           "caxis": {
            "gridcolor": "white",
            "linecolor": "white",
            "ticks": ""
           }
          },
          "title": {
           "x": 0.05
          },
          "xaxis": {
           "automargin": true,
           "gridcolor": "white",
           "linecolor": "white",
           "ticks": "",
           "title": {
            "standoff": 15
           },
           "zerolinecolor": "white",
           "zerolinewidth": 2
          },
          "yaxis": {
           "automargin": true,
           "gridcolor": "white",
           "linecolor": "white",
           "ticks": "",
           "title": {
            "standoff": 15
           },
           "zerolinecolor": "white",
           "zerolinewidth": 2
          }
         }
        },
        "xaxis": {
         "anchor": "y",
         "domain": [
          0,
          1
         ],
         "title": {
          "text": "price_numeric"
         }
        },
        "yaxis": {
         "anchor": "x",
         "domain": [
          0,
          1
         ],
         "title": {
          "text": "distance_numeric"
         }
        }
       }
      }
     },
     "metadata": {},
     "output_type": "display_data"
    }
   ],
   "source": [
    "import plotly.express as px\n",
    "fig = px.scatter(hotel_info, x=\"price_numeric\", y=\"distance_numeric\", color=\"rating\",hover_data=['name',\"rating\",\"price\"])\n",
    "fig.show()"
   ]
  }
 ],
 "metadata": {
  "kernelspec": {
   "display_name": "base",
   "language": "python",
   "name": "python3"
  },
  "language_info": {
   "codemirror_mode": {
    "name": "ipython",
    "version": 3
   },
   "file_extension": ".py",
   "mimetype": "text/x-python",
   "name": "python",
   "nbconvert_exporter": "python",
   "pygments_lexer": "ipython3",
   "version": "3.9.12"
  }
 },
 "nbformat": 4,
 "nbformat_minor": 2
}
