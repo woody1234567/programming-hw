{
 "cells": [
  {
   "cell_type": "code",
   "execution_count": 1,
   "metadata": {},
   "outputs": [
    {
     "name": "stdout",
     "output_type": "stream",
     "text": [
      "Ok\n",
      "(25, 6)\n",
      "Ok\n",
      "(50, 6)\n",
      "Ok\n",
      "(75, 6)\n",
      "Ok\n",
      "(100, 6)\n",
      "Ok\n",
      "(125, 6)\n",
      "Ok\n",
      "(150, 6)\n",
      "Ok\n",
      "(175, 6)\n",
      "Ok\n",
      "(200, 6)\n"
     ]
    },
    {
     "data": {
      "application/vnd.plotly.v1+json": {
       "config": {
        "plotlyServerURL": "https://plot.ly"
       },
       "data": [
        {
         "customdata": [
          [
           "Backpackers Hostel - Taipei Changchun",
           8,
           "TWD 900"
          ],
          [
           "Hilton Taipei Sinban",
           8.5,
           "TWD 5,313"
          ],
          [
           "Greeninn Hotel",
           6.6,
           "TWD 1,242"
          ],
          [
           "Pacific Business Hotel",
           8.5,
           "TWD 4,371"
          ],
          [
           "Kyokusui Hotspring Hotel",
           8.1,
           "TWD 4,280"
          ],
          [
           "Royal Rose Hotel Shuangcheng Hall",
           8.3,
           "TWD 2,918"
          ],
          [
           "CityInn Hotel Plus - Ximending Branch",
           9,
           "TWD 2,755"
          ],
          [
           "The Door Inn",
           9.1,
           "TWD 3,132"
          ],
          [
           "Green World NanGang",
           8.3,
           "TWD 4,050"
          ],
          [
           "Taipei Inn",
           7.3,
           "TWD 1,332"
          ],
          [
           "Sofu Hotel",
           7.4,
           "TWD 1,123"
          ],
          [
           "Mulan Motel Taipei",
           7.3,
           "TWD 3,069"
          ],
          [
           "Courtyard by Marriott Taipei Downtown",
           9.1,
           "TWD 6,150"
          ],
          [
           "Hotel Metropolitan Premier Taipei",
           8.9,
           "TWD 7,600"
          ],
          [
           "Chill Roof Hotel",
           9,
           "TWD 3,117"
          ],
          [
           "CHECK inn Taipei Main Station",
           8.2,
           "TWD 2,648"
          ],
          [
           "York Hotel",
           7.8,
           "TWD 2,000"
          ],
          [
           "Discovery Motel - Nangang",
           6.8,
           "TWD 1,909"
          ],
          [
           "Chengdian Hotel",
           7.7,
           "TWD 1,800"
          ],
          [
           "Miho Boutique Motel",
           7.5,
           "TWD 2,580"
          ],
          [
           "United Hotel",
           8.2,
           "TWD 4,400"
          ],
          [
           "Goldinn Hotel",
           8.1,
           "TWD 2,322"
          ],
          [
           "CU Hotel Taipei",
           8.2,
           "TWD 2,662"
          ],
          [
           "NYS Loft Hotel",
           8.1,
           "TWD 1,760"
          ],
          [
           "Meander Taipei Hostel - Ximending",
           8.2,
           "TWD 3,101"
          ],
          [
           "Uinn Business Hotel-Shihlin",
           8.6,
           "TWD 2,500"
          ],
          [
           "Horizon Inn",
           8.1,
           "TWD 2,016"
          ],
          [
           "Roaders Hotel - Zhonghua",
           8.7,
           "TWD 3,278"
          ],
          [
           "Macchi Hotel - Taipei",
           8,
           "TWD 1,962"
          ],
          [
           "OwlStay Flip Flop Hostel - Garden",
           8.8,
           "TWD 2,415"
          ],
          [
           "Rido Hotel",
           8.6,
           "TWD 3,128"
          ],
          [
           "arTree hotel",
           8.8,
           "TWD 4,365"
          ],
          [
           "Tango Inn Taipei ZhongShan",
           8.7,
           "TWD 3,033"
          ],
          [
           "CHECK inn Select New Taipei Sanchong",
           8.5,
           "TWD 2,824"
          ],
          [
           "Dolamanco Hotel",
           8.8,
           "TWD 2,445"
          ],
          [
           "Ximen Airline Hotel",
           8,
           "TWD 4,360"
          ],
          [
           "City Suites - Beimen",
           8.4,
           "TWD 2,640"
          ],
          [
           "Via Hotel Taipei Station",
           8.9,
           "TWD 3,280"
          ],
          [
           "les suites taipei ching cheng",
           8.8,
           "TWD 5,985"
          ],
          [
           "Click Hotel - Taipei Main Station Branch",
           7.9,
           "TWD 2,410"
          ],
          [
           "CityInn Hotel Taipei Station Branch II",
           8.9,
           "TWD 3,840"
          ],
          [
           "The Riviera Hotel Taipei",
           8.7,
           "TWD 4,680"
          ],
          [
           "Tango Inn Taipei Ximen",
           8.5,
           "TWD 3,089"
          ],
          [
           "HINOEN Hotel",
           8.5,
           "TWD 5,230"
          ],
          [
           "Ximen Wow Hostel",
           7.6,
           "TWD 898"
          ],
          [
           "Eastin Taipei Hotel",
           8.3,
           "TWD 2,945"
          ],
          [
           "Royal Jade Boutique Hotel",
           8.5,
           "TWD 2,400"
          ],
          [
           "Silken Hotel",
           8.5,
           "TWD 1,422"
          ],
          [
           "Tomato TTT 番茄行旅",
           9.5,
           "TWD 3,280"
          ],
          [
           "9ine Hotel",
           7.7,
           "TWD 1,450"
          ],
          [
           "泊居旅店二館 Oursinn Hotel 2",
           7.6,
           "TWD 2,009"
          ],
          [
           "Water meworld",
           7.9,
           "TWD 1,367"
          ],
          [
           "Queens Hotel II",
           8.1,
           "TWD 1,680"
          ],
          [
           "苓旅萬年-LIN INN Wan Nian",
           8,
           "TWD 2,480"
          ],
          [
           "The Tango Hotel Taipei Shilin",
           8.7,
           "TWD 5,148"
          ],
          [
           "Wallsun Hotel",
           8.2,
           "TWD 3,705"
          ],
          [
           "Ark Hotel - Changan Fuxing方舟商業股份有限公司",
           8,
           "TWD 2,200"
          ],
          [
           "Hub Hotel Ximen Inn",
           8.3,
           "TWD 2,100"
          ],
          [
           "Golden Garden Hotel",
           8,
           "TWD 3,087"
          ],
          [
           "Brother Hotel",
           8.9,
           "TWD 4,650"
          ],
          [
           "Dandy Hotel - Tianjin Branch",
           9,
           "TWD 4,410"
          ],
          [
           "Taipei Marriott Hotel",
           8.6,
           "TWD 10,600"
          ],
          [
           "Mayer Inn",
           7.8,
           "TWD 2,835"
          ],
          [
           "S Hotel | Designed by Philippe Starck",
           7.5,
           "TWD 5,510"
          ],
          [
           "Slow Town Hotel-Reel",
           7.9,
           "TWD 2,000"
          ],
          [
           "Ambience Hotel Taipei",
           8.6,
           "TWD 4,973"
          ],
          [
           "DoubleTree by Hilton Taipei Zhongshan",
           9,
           "TWD 6,757"
          ],
          [
           "Bon Hotel Taipei",
           8.1,
           "TWD 2,250"
          ],
          [
           "Hotel Orchard Park - Taipei",
           7.8,
           "TWD 2,588"
          ],
          [
           "Hotel COZZI Minsheng Taipei",
           8.7,
           "TWD 5,200"
          ],
          [
           "Simple + Hotel",
           8.5,
           "TWD 3,120"
          ],
          [
           "Hotel Gracery Taipei",
           9,
           "TWD 6,314"
          ],
          [
           "Hub Hotel - Songshan Airport Branch",
           8.3,
           "TWD 1,780"
          ],
          [
           "V-one Hotel - Ningxia No. 2 Inn",
           8.2,
           "TWD 1,800"
          ],
          [
           "Sunrise Hotel",
           7.8,
           "TWD 2,680"
          ],
          [
           "In-stone Motel",
           7.8,
           "TWD 2,174"
          ],
          [
           "新獅城商務旅店",
           6.7,
           "TWD 1,300"
          ],
          [
           "Green World JianPei",
           8.3,
           "TWD 5,394"
          ],
          [
           "ILLUME Taipei",
           8.3,
           "TWD 4,363"
          ],
          [
           "Caesar Park Hotel Taipei",
           8,
           "TWD 5,280"
          ],
          [
           "The Tango Hotel Taipei XinYi",
           8.3,
           "TWD 3,888"
          ],
          [
           "K Hotel Taipei Chang-An",
           8.6,
           "TWD 4,275"
          ],
          [
           "The Place Taipei",
           8.9,
           "TWD 4,670"
          ],
          [
           "Muzik Hotel - Ximen Station Branch",
           8,
           "TWD 2,453"
          ],
          [
           "York Hotel",
           7.7,
           "TWD 2,430"
          ],
          [
           "The Blue by Just Inn 正旅館 藍",
           7.8,
           "TWD 2,475"
          ],
          [
           "Asia Pacific Hotel Beitou",
           8.5,
           "TWD 8,250"
          ],
          [
           "I Play Inn TP",
           7.9,
           "TWD 1,591"
          ],
          [
           "Giant Rich Hotel",
           7.9,
           "TWD 1,680"
          ],
          [
           "Inn Cube - Taipei Main Station",
           7.6,
           "TWD 1,600"
          ],
          [
           "森浩文旅",
           8.2,
           "TWD 1,780"
          ],
          [
           "Beimen WOW Poshtel",
           8,
           "TWD 1,102"
          ],
          [
           "Boutech JianTan Hotel",
           8.6,
           "TWD 3,431"
          ],
          [
           "Attic Hotel",
           8,
           "TWD 1,780"
          ],
          [
           "New World Hotel",
           7.4,
           "TWD 1,725"
          ],
          [
           "Cheers Loft Self Check-in Hotel",
           6.3,
           "TWD 1,492"
          ],
          [
           "Green World Mai - NanJing",
           8.2,
           "TWD 1,913"
          ],
          [
           "Hotel I Journey",
           7.9,
           "TWD 2,156"
          ],
          [
           "NK Hostel",
           8.6,
           "TWD 1,381"
          ],
          [
           "EZ Stay Hotel",
           5.9,
           "TWD 1,132"
          ],
          [
           "Artinn藝築文旅-台北站前館",
           8.1,
           "TWD 2,514"
          ],
          [
           "Master Hotel",
           7.9,
           "TWD 2,750"
          ],
          [
           "Colors Infinity Inn",
           7.8,
           "TWD 1,814"
          ],
          [
           "台北碧瑤飯店 Hotel B",
           8.1,
           "TWD 3,780"
          ],
          [
           "Love Hotel",
           6.4,
           "TWD 1,200"
          ],
          [
           "May Rooms Taipei Main Station",
           8.2,
           "TWD 1,740"
          ],
          [
           "Unite Hotel",
           7.7,
           "TWD 2,000"
          ],
          [
           "Yesing Hotel",
           8.6,
           "TWD 2,221"
          ],
          [
           "LIHO Hotel Hankou",
           7,
           "TWD 1,513"
          ],
          [
           "XINSHE Hotel - Linsen",
           8.3,
           "TWD 1,802"
          ],
          [
           "Jian Shan Hotel",
           8.7,
           "TWD 1,680"
          ],
          [
           "Green World Sansui",
           7.6,
           "TWD 2,759"
          ],
          [
           "On My Way - Taipei Hostel",
           8.5,
           "TWD 1,550"
          ],
          [
           "The Landis Taipei",
           8.9,
           "TWD 7,603"
          ],
          [
           "Fun Inn Taipei Hostel",
           7.5,
           "TWD 720"
          ],
          [
           "Madison Taipei Hotel",
           8.9,
           "TWD 6,880"
          ],
          [
           "The Tango Hotel Taipei FuHsing",
           8.7,
           "TWD 3,996"
          ],
          [
           "Hotel PaPa Whale",
           8.3,
           "TWD 3,135"
          ],
          [
           "Grand HiLai Taipei",
           8.2,
           "TWD 8,302"
          ],
          [
           "Sheraton Grand Taipei Hotel",
           8.3,
           "TWD 7,200"
          ],
          [
           "Cho Hotel 3",
           8.8,
           "TWD 3,080"
          ],
          [
           "Grace Hotel Dunbei",
           8.6,
           "TWD 1,980"
          ],
          [
           "Yi Su Hotel-Taipei Ningxia",
           7.8,
           "TWD 1,950"
          ],
          [
           "Hotel Resonance Taipei, Tapestry Collection by Hilton",
           9.2,
           "TWD 9,818"
          ],
          [
           "Urtrip Hotel",
           8.4,
           "TWD 2,543"
          ],
          [
           "amba Taipei Zhongshan",
           8.6,
           "TWD 4,505"
          ],
          [
           "Hotel Midtown Richardson",
           7.9,
           "TWD 3,686"
          ],
          [
           "Green World Hotel - Zhonghua",
           8,
           "TWD 2,852"
          ],
          [
           "Caesar Metro Taipei",
           8.3,
           "TWD 3,800"
          ],
          [
           "小隱居Hermit_Dorm",
           9.2,
           "TWD 1,760"
          ],
          [
           "意芙旅店 Ifinn Hotel",
           7.9,
           "TWD 2,320"
          ],
          [
           "Capital Hotel SongShan",
           7.9,
           "TWD 2,527"
          ],
          [
           "Courtyard by Marriott Taipei",
           8.2,
           "TWD 5,600"
          ],
          [
           "盤古捷旅 - Panco Hotel",
           8.7,
           "TWD 2,400"
          ],
          [
           "Waikoloa Hotel",
           8.6,
           "TWD 3,040"
          ],
          [
           "Roaders Plus Hotel - Taipei Station",
           8.5,
           "TWD 3,880"
          ],
          [
           "The Okura Prestige Taipei",
           8.9,
           "TWD 8,176"
          ],
          [
           "熙門小聚 YS Inn",
           7.7,
           "TWD 1,662"
          ],
          [
           "Sonnien Hotel",
           8.4,
           "TWD 4,300"
          ],
          [
           "Humble Boutique Hotel",
           8.7,
           "TWD 5,988"
          ],
          [
           "苓旅中山館-Lininn ZhongShan",
           8.6,
           "TWD 2,080"
          ],
          [
           "City Suites - Taipei Nandong",
           8.3,
           "TWD 2,444"
          ],
          [
           "Beauty Hotels Taipei - B7 Journey",
           7.4,
           "TWD 1,890"
          ],
          [
           "Roaders Plus Hotel - Theme",
           8.5,
           "TWD 3,977"
          ],
          [
           "Green World Linsen",
           7.4,
           "TWD 1,800"
          ],
          [
           "Grand Mayfull Taipei",
           9.3,
           "TWD 7,035"
          ],
          [
           "喜客商旅 Seeker Hotel - Sanchong",
           7.5,
           "TWD 1,021"
          ],
          [
           "Finders Hotel-Fu Qian",
           8.4,
           "TWD 2,400"
          ],
          [
           "citizenM Taipei North Gate",
           8.7,
           "TWD 3,000"
          ],
          [
           "苓旅-站前 Lin Inn TMS",
           8.1,
           "TWD 1,780"
          ],
          [
           "V-one Vogue Hotel",
           8.2,
           "TWD 1,699"
          ],
          [
           "Via Loft Hotel",
           8.3,
           "TWD 2,280"
          ],
          [
           "MGH Mitsui Garden Hotel Taipei Zhongxiao",
           9,
           "TWD 6,600"
          ],
          [
           "Yomi Hotel - ShuangLian MRT",
           8.1,
           "TWD 2,200"
          ],
          [
           "Goodmore Hotel",
           8.1,
           "TWD 2,080"
          ],
          [
           "Green World Grand NanJing",
           8.6,
           "TWD 2,950"
          ],
          [
           "Kimpton Da An Taipei- an IHG Hotel",
           9.1,
           "TWD 7,536"
          ],
          [
           "Cavemen Hostel Taipei Station Youth Branch",
           7.4,
           "TWD 1,399"
          ],
          [
           "San Want Residences Taipei",
           9.1,
           "TWD 4,443"
          ],
          [
           "Caesar Park Hotel Banqiao",
           8.8,
           "TWD 4,600"
          ],
          [
           "Papersun Hotel",
           7.8,
           "TWD 2,650"
          ],
          [
           "Wonderwall Ximending",
           8.5,
           "TWD 1,216"
          ],
          [
           "Hua Da Hotel- Nanxi",
           7.8,
           "TWD 1,260"
          ],
          [
           "CityInn Hotel Plus- Fuxing North Road Branch",
           9.1,
           "TWD 4,000"
          ]
         ],
         "hovertemplate": "price_numeric=%{x}<br>distance_numeric=%{y}<br>name=%{customdata[0]}<br>rating=%{marker.color}<br>price=%{customdata[2]}<extra></extra>",
         "legendgroup": "",
         "marker": {
          "color": [
           8,
           8.5,
           6.6,
           8.5,
           8.1,
           8.3,
           9,
           9.1,
           8.3,
           7.3,
           7.4,
           7.3,
           9.1,
           8.9,
           9,
           8.2,
           7.8,
           6.8,
           7.7,
           7.5,
           8.2,
           8.1,
           8.2,
           8.1,
           8.2,
           8.6,
           8.1,
           8.7,
           8,
           8.8,
           8.6,
           8.8,
           8.7,
           8.5,
           8.8,
           8,
           8.4,
           8.9,
           8.8,
           7.9,
           8.9,
           8.7,
           8.5,
           8.5,
           7.6,
           8.3,
           8.5,
           8.5,
           9.5,
           7.7,
           7.6,
           7.9,
           8.1,
           8,
           8.7,
           8.2,
           8,
           8.3,
           8,
           8.9,
           9,
           8.6,
           7.8,
           7.5,
           7.9,
           8.6,
           9,
           8.1,
           7.8,
           8.7,
           8.5,
           9,
           8.3,
           8.2,
           7.8,
           7.8,
           6.7,
           8.3,
           8.3,
           8,
           8.3,
           8.6,
           8.9,
           8,
           7.7,
           7.8,
           8.5,
           7.9,
           7.9,
           7.6,
           8.2,
           8,
           8.6,
           8,
           7.4,
           6.3,
           8.2,
           7.9,
           8.6,
           5.9,
           8.1,
           7.9,
           7.8,
           8.1,
           6.4,
           8.2,
           7.7,
           8.6,
           7,
           8.3,
           8.7,
           7.6,
           8.5,
           8.9,
           7.5,
           8.9,
           8.7,
           8.3,
           8.2,
           8.3,
           8.8,
           8.6,
           7.8,
           9.2,
           8.4,
           8.6,
           7.9,
           8,
           8.3,
           9.2,
           7.9,
           7.9,
           8.2,
           8.7,
           8.6,
           8.5,
           8.9,
           7.7,
           8.4,
           8.7,
           8.6,
           8.3,
           7.4,
           8.5,
           7.4,
           9.3,
           7.5,
           8.4,
           8.7,
           8.1,
           8.2,
           8.3,
           9,
           8.1,
           8.1,
           8.6,
           9.1,
           7.4,
           9.1,
           8.8,
           7.8,
           8.5,
           7.8,
           9.1
          ],
          "coloraxis": "coloraxis",
          "symbol": "circle"
         },
         "mode": "markers",
         "name": "",
         "orientation": "v",
         "showlegend": false,
         "type": "scatter",
         "x": [
          900,
          5313,
          1242,
          4371,
          4280,
          2918,
          2755,
          3132,
          4050,
          1332,
          1123,
          3069,
          6150,
          7600,
          3117,
          2648,
          2000,
          1909,
          1800,
          2580,
          4400,
          2322,
          2662,
          1760,
          3101,
          2500,
          2016,
          3278,
          1962,
          2415,
          3128,
          4365,
          3033,
          2824,
          2445,
          4360,
          2640,
          3280,
          5985,
          2410,
          3840,
          4680,
          3089,
          5230,
          898,
          2945,
          2400,
          1422,
          3280,
          1450,
          2009,
          1367,
          1680,
          2480,
          5148,
          3705,
          2200,
          2100,
          3087,
          4650,
          4410,
          10600,
          2835,
          5510,
          2000,
          4973,
          6757,
          2250,
          2588,
          5200,
          3120,
          6314,
          1780,
          1800,
          2680,
          2174,
          1300,
          5394,
          4363,
          5280,
          3888,
          4275,
          4670,
          2453,
          2430,
          2475,
          8250,
          1591,
          1680,
          1600,
          1780,
          1102,
          3431,
          1780,
          1725,
          1492,
          1913,
          2156,
          1381,
          1132,
          2514,
          2750,
          1814,
          3780,
          1200,
          1740,
          2000,
          2221,
          1513,
          1802,
          1680,
          2759,
          1550,
          7603,
          720,
          6880,
          3996,
          3135,
          8302,
          7200,
          3080,
          1980,
          1950,
          9818,
          2543,
          4505,
          3686,
          2852,
          3800,
          1760,
          2320,
          2527,
          5600,
          2400,
          3040,
          3880,
          8176,
          1662,
          4300,
          5988,
          2080,
          2444,
          1890,
          3977,
          1800,
          7035,
          1021,
          2400,
          3000,
          1780,
          1699,
          2280,
          6600,
          2200,
          2080,
          2950,
          7536,
          1399,
          4443,
          4600,
          2650,
          1216,
          1260,
          4000
         ],
         "xaxis": "x",
         "y": [
          2.3,
          6.7,
          2.9,
          4.3,
          10.1,
          2.3,
          1,
          1.7,
          9.5,
          0.2,
          7,
          5.9,
          2.4,
          2.5,
          1.3,
          0.4,
          4.7,
          8.1,
          6.8,
          5.4,
          4,
          1.7,
          1.2,
          0.15,
          1.5,
          4.8,
          2.6,
          0.7,
          6.5,
          0.5,
          2.1,
          3.5,
          0.7,
          3.6,
          2.4,
          1,
          1,
          0.5,
          2.9,
          0.35,
          0.6,
          2.6,
          1.3,
          0.45,
          1.1,
          3.1,
          8.2,
          2.5,
          1,
          1.9,
          0.8,
          0.2,
          1,
          1.2,
          4.1,
          1.3,
          2.6,
          1.1,
          4.6,
          2.8,
          0.8,
          5.7,
          0.2,
          3.2,
          1.4,
          1.2,
          0.8,
          1.7,
          0.7,
          2.3,
          2.8,
          1.4,
          2.8,
          1,
          5,
          8.4,
          0.5,
          2,
          3.2,
          0.15,
          5.6,
          1.6,
          9.9,
          0.9,
          0.2,
          0.3,
          10.1,
          1.1,
          2.7,
          0.1,
          5.8,
          0.7,
          4.8,
          3.3,
          1.5,
          1.2,
          2,
          1.4,
          5.3,
          1.1,
          0.5,
          0.3,
          1.3,
          2.7,
          2.9,
          0.7,
          2.3,
          0.7,
          1.2,
          1.8,
          1.4,
          2,
          9.8,
          2.2,
          0.7,
          3.5,
          2.8,
          1.2,
          10.3,
          0.5,
          1.4,
          3.4,
          0.9,
          0.6,
          2.7,
          1.1,
          1,
          0.8,
          2.3,
          5.3,
          1.6,
          5.9,
          9,
          0.9,
          2.2,
          0.4,
          0.9,
          0.8,
          1.9,
          1.6,
          2.4,
          5.3,
          0.6,
          0.4,
          2.4,
          5.2,
          3.6,
          0.6,
          0.7,
          0.35,
          1.6,
          1.5,
          1.7,
          1.4,
          2.5,
          2.1,
          2.9,
          0.35,
          1.1,
          6.7,
          5.2,
          1.1,
          1,
          3
         ],
         "yaxis": "y"
        }
       ],
       "layout": {
        "coloraxis": {
         "colorbar": {
          "title": {
           "text": "rating"
          }
         },
         "colorscale": [
          [
           0,
           "#0d0887"
          ],
          [
           0.1111111111111111,
           "#46039f"
          ],
          [
           0.2222222222222222,
           "#7201a8"
          ],
          [
           0.3333333333333333,
           "#9c179e"
          ],
          [
           0.4444444444444444,
           "#bd3786"
          ],
          [
           0.5555555555555556,
           "#d8576b"
          ],
          [
           0.6666666666666666,
           "#ed7953"
          ],
          [
           0.7777777777777778,
           "#fb9f3a"
          ],
          [
           0.8888888888888888,
           "#fdca26"
          ],
          [
           1,
           "#f0f921"
          ]
         ]
        },
        "legend": {
         "tracegroupgap": 0
        },
        "margin": {
         "t": 60
        },
        "template": {
         "data": {
          "bar": [
           {
            "error_x": {
             "color": "#2a3f5f"
            },
            "error_y": {
             "color": "#2a3f5f"
            },
            "marker": {
             "line": {
              "color": "#E5ECF6",
              "width": 0.5
             },
             "pattern": {
              "fillmode": "overlay",
              "size": 10,
              "solidity": 0.2
             }
            },
            "type": "bar"
           }
          ],
          "barpolar": [
           {
            "marker": {
             "line": {
              "color": "#E5ECF6",
              "width": 0.5
             },
             "pattern": {
              "fillmode": "overlay",
              "size": 10,
              "solidity": 0.2
             }
            },
            "type": "barpolar"
           }
          ],
          "carpet": [
           {
            "aaxis": {
             "endlinecolor": "#2a3f5f",
             "gridcolor": "white",
             "linecolor": "white",
             "minorgridcolor": "white",
             "startlinecolor": "#2a3f5f"
            },
            "baxis": {
             "endlinecolor": "#2a3f5f",
             "gridcolor": "white",
             "linecolor": "white",
             "minorgridcolor": "white",
             "startlinecolor": "#2a3f5f"
            },
            "type": "carpet"
           }
          ],
          "choropleth": [
           {
            "colorbar": {
             "outlinewidth": 0,
             "ticks": ""
            },
            "type": "choropleth"
           }
          ],
          "contour": [
           {
            "colorbar": {
             "outlinewidth": 0,
             "ticks": ""
            },
            "colorscale": [
             [
              0,
              "#0d0887"
             ],
             [
              0.1111111111111111,
              "#46039f"
             ],
             [
              0.2222222222222222,
              "#7201a8"
             ],
             [
              0.3333333333333333,
              "#9c179e"
             ],
             [
              0.4444444444444444,
              "#bd3786"
             ],
             [
              0.5555555555555556,
              "#d8576b"
             ],
             [
              0.6666666666666666,
              "#ed7953"
             ],
             [
              0.7777777777777778,
              "#fb9f3a"
             ],
             [
              0.8888888888888888,
              "#fdca26"
             ],
             [
              1,
              "#f0f921"
             ]
            ],
            "type": "contour"
           }
          ],
          "contourcarpet": [
           {
            "colorbar": {
             "outlinewidth": 0,
             "ticks": ""
            },
            "type": "contourcarpet"
           }
          ],
          "heatmap": [
           {
            "colorbar": {
             "outlinewidth": 0,
             "ticks": ""
            },
            "colorscale": [
             [
              0,
              "#0d0887"
             ],
             [
              0.1111111111111111,
              "#46039f"
             ],
             [
              0.2222222222222222,
              "#7201a8"
             ],
             [
              0.3333333333333333,
              "#9c179e"
             ],
             [
              0.4444444444444444,
              "#bd3786"
             ],
             [
              0.5555555555555556,
              "#d8576b"
             ],
             [
              0.6666666666666666,
              "#ed7953"
             ],
             [
              0.7777777777777778,
              "#fb9f3a"
             ],
             [
              0.8888888888888888,
              "#fdca26"
             ],
             [
              1,
              "#f0f921"
             ]
            ],
            "type": "heatmap"
           }
          ],
          "heatmapgl": [
           {
            "colorbar": {
             "outlinewidth": 0,
             "ticks": ""
            },
            "colorscale": [
             [
              0,
              "#0d0887"
             ],
             [
              0.1111111111111111,
              "#46039f"
             ],
             [
              0.2222222222222222,
              "#7201a8"
             ],
             [
              0.3333333333333333,
              "#9c179e"
             ],
             [
              0.4444444444444444,
              "#bd3786"
             ],
             [
              0.5555555555555556,
              "#d8576b"
             ],
             [
              0.6666666666666666,
              "#ed7953"
             ],
             [
              0.7777777777777778,
              "#fb9f3a"
             ],
             [
              0.8888888888888888,
              "#fdca26"
             ],
             [
              1,
              "#f0f921"
             ]
            ],
            "type": "heatmapgl"
           }
          ],
          "histogram": [
           {
            "marker": {
             "pattern": {
              "fillmode": "overlay",
              "size": 10,
              "solidity": 0.2
             }
            },
            "type": "histogram"
           }
          ],
          "histogram2d": [
           {
            "colorbar": {
             "outlinewidth": 0,
             "ticks": ""
            },
            "colorscale": [
             [
              0,
              "#0d0887"
             ],
             [
              0.1111111111111111,
              "#46039f"
             ],
             [
              0.2222222222222222,
              "#7201a8"
             ],
             [
              0.3333333333333333,
              "#9c179e"
             ],
             [
              0.4444444444444444,
              "#bd3786"
             ],
             [
              0.5555555555555556,
              "#d8576b"
             ],
             [
              0.6666666666666666,
              "#ed7953"
             ],
             [
              0.7777777777777778,
              "#fb9f3a"
             ],
             [
              0.8888888888888888,
              "#fdca26"
             ],
             [
              1,
              "#f0f921"
             ]
            ],
            "type": "histogram2d"
           }
          ],
          "histogram2dcontour": [
           {
            "colorbar": {
             "outlinewidth": 0,
             "ticks": ""
            },
            "colorscale": [
             [
              0,
              "#0d0887"
             ],
             [
              0.1111111111111111,
              "#46039f"
             ],
             [
              0.2222222222222222,
              "#7201a8"
             ],
             [
              0.3333333333333333,
              "#9c179e"
             ],
             [
              0.4444444444444444,
              "#bd3786"
             ],
             [
              0.5555555555555556,
              "#d8576b"
             ],
             [
              0.6666666666666666,
              "#ed7953"
             ],
             [
              0.7777777777777778,
              "#fb9f3a"
             ],
             [
              0.8888888888888888,
              "#fdca26"
             ],
             [
              1,
              "#f0f921"
             ]
            ],
            "type": "histogram2dcontour"
           }
          ],
          "mesh3d": [
           {
            "colorbar": {
             "outlinewidth": 0,
             "ticks": ""
            },
            "type": "mesh3d"
           }
          ],
          "parcoords": [
           {
            "line": {
             "colorbar": {
              "outlinewidth": 0,
              "ticks": ""
             }
            },
            "type": "parcoords"
           }
          ],
          "pie": [
           {
            "automargin": true,
            "type": "pie"
           }
          ],
          "scatter": [
           {
            "fillpattern": {
             "fillmode": "overlay",
             "size": 10,
             "solidity": 0.2
            },
            "type": "scatter"
           }
          ],
          "scatter3d": [
           {
            "line": {
             "colorbar": {
              "outlinewidth": 0,
              "ticks": ""
             }
            },
            "marker": {
             "colorbar": {
              "outlinewidth": 0,
              "ticks": ""
             }
            },
            "type": "scatter3d"
           }
          ],
          "scattercarpet": [
           {
            "marker": {
             "colorbar": {
              "outlinewidth": 0,
              "ticks": ""
             }
            },
            "type": "scattercarpet"
           }
          ],
          "scattergeo": [
           {
            "marker": {
             "colorbar": {
              "outlinewidth": 0,
              "ticks": ""
             }
            },
            "type": "scattergeo"
           }
          ],
          "scattergl": [
           {
            "marker": {
             "colorbar": {
              "outlinewidth": 0,
              "ticks": ""
             }
            },
            "type": "scattergl"
           }
          ],
          "scattermapbox": [
           {
            "marker": {
             "colorbar": {
              "outlinewidth": 0,
              "ticks": ""
             }
            },
            "type": "scattermapbox"
           }
          ],
          "scatterpolar": [
           {
            "marker": {
             "colorbar": {
              "outlinewidth": 0,
              "ticks": ""
             }
            },
            "type": "scatterpolar"
           }
          ],
          "scatterpolargl": [
           {
            "marker": {
             "colorbar": {
              "outlinewidth": 0,
              "ticks": ""
             }
            },
            "type": "scatterpolargl"
           }
          ],
          "scatterternary": [
           {
            "marker": {
             "colorbar": {
              "outlinewidth": 0,
              "ticks": ""
             }
            },
            "type": "scatterternary"
           }
          ],
          "surface": [
           {
            "colorbar": {
             "outlinewidth": 0,
             "ticks": ""
            },
            "colorscale": [
             [
              0,
              "#0d0887"
             ],
             [
              0.1111111111111111,
              "#46039f"
             ],
             [
              0.2222222222222222,
              "#7201a8"
             ],
             [
              0.3333333333333333,
              "#9c179e"
             ],
             [
              0.4444444444444444,
              "#bd3786"
             ],
             [
              0.5555555555555556,
              "#d8576b"
             ],
             [
              0.6666666666666666,
              "#ed7953"
             ],
             [
              0.7777777777777778,
              "#fb9f3a"
             ],
             [
              0.8888888888888888,
              "#fdca26"
             ],
             [
              1,
              "#f0f921"
             ]
            ],
            "type": "surface"
           }
          ],
          "table": [
           {
            "cells": {
             "fill": {
              "color": "#EBF0F8"
             },
             "line": {
              "color": "white"
             }
            },
            "header": {
             "fill": {
              "color": "#C8D4E3"
             },
             "line": {
              "color": "white"
             }
            },
            "type": "table"
           }
          ]
         },
         "layout": {
          "annotationdefaults": {
           "arrowcolor": "#2a3f5f",
           "arrowhead": 0,
           "arrowwidth": 1
          },
          "autotypenumbers": "strict",
          "coloraxis": {
           "colorbar": {
            "outlinewidth": 0,
            "ticks": ""
           }
          },
          "colorscale": {
           "diverging": [
            [
             0,
             "#8e0152"
            ],
            [
             0.1,
             "#c51b7d"
            ],
            [
             0.2,
             "#de77ae"
            ],
            [
             0.3,
             "#f1b6da"
            ],
            [
             0.4,
             "#fde0ef"
            ],
            [
             0.5,
             "#f7f7f7"
            ],
            [
             0.6,
             "#e6f5d0"
            ],
            [
             0.7,
             "#b8e186"
            ],
            [
             0.8,
             "#7fbc41"
            ],
            [
             0.9,
             "#4d9221"
            ],
            [
             1,
             "#276419"
            ]
           ],
           "sequential": [
            [
             0,
             "#0d0887"
            ],
            [
             0.1111111111111111,
             "#46039f"
            ],
            [
             0.2222222222222222,
             "#7201a8"
            ],
            [
             0.3333333333333333,
             "#9c179e"
            ],
            [
             0.4444444444444444,
             "#bd3786"
            ],
            [
             0.5555555555555556,
             "#d8576b"
            ],
            [
             0.6666666666666666,
             "#ed7953"
            ],
            [
             0.7777777777777778,
             "#fb9f3a"
            ],
            [
             0.8888888888888888,
             "#fdca26"
            ],
            [
             1,
             "#f0f921"
            ]
           ],
           "sequentialminus": [
            [
             0,
             "#0d0887"
            ],
            [
             0.1111111111111111,
             "#46039f"
            ],
            [
             0.2222222222222222,
             "#7201a8"
            ],
            [
             0.3333333333333333,
             "#9c179e"
            ],
            [
             0.4444444444444444,
             "#bd3786"
            ],
            [
             0.5555555555555556,
             "#d8576b"
            ],
            [
             0.6666666666666666,
             "#ed7953"
            ],
            [
             0.7777777777777778,
             "#fb9f3a"
            ],
            [
             0.8888888888888888,
             "#fdca26"
            ],
            [
             1,
             "#f0f921"
            ]
           ]
          },
          "colorway": [
           "#636efa",
           "#EF553B",
           "#00cc96",
           "#ab63fa",
           "#FFA15A",
           "#19d3f3",
           "#FF6692",
           "#B6E880",
           "#FF97FF",
           "#FECB52"
          ],
          "font": {
           "color": "#2a3f5f"
          },
          "geo": {
           "bgcolor": "white",
           "lakecolor": "white",
           "landcolor": "#E5ECF6",
           "showlakes": true,
           "showland": true,
           "subunitcolor": "white"
          },
          "hoverlabel": {
           "align": "left"
          },
          "hovermode": "closest",
          "mapbox": {
           "style": "light"
          },
          "paper_bgcolor": "white",
          "plot_bgcolor": "#E5ECF6",
          "polar": {
           "angularaxis": {
            "gridcolor": "white",
            "linecolor": "white",
            "ticks": ""
           },
           "bgcolor": "#E5ECF6",
           "radialaxis": {
            "gridcolor": "white",
            "linecolor": "white",
            "ticks": ""
           }
          },
          "scene": {
           "xaxis": {
            "backgroundcolor": "#E5ECF6",
            "gridcolor": "white",
            "gridwidth": 2,
            "linecolor": "white",
            "showbackground": true,
            "ticks": "",
            "zerolinecolor": "white"
           },
           "yaxis": {
            "backgroundcolor": "#E5ECF6",
            "gridcolor": "white",
            "gridwidth": 2,
            "linecolor": "white",
            "showbackground": true,
            "ticks": "",
            "zerolinecolor": "white"
           },
           "zaxis": {
            "backgroundcolor": "#E5ECF6",
            "gridcolor": "white",
            "gridwidth": 2,
            "linecolor": "white",
            "showbackground": true,
            "ticks": "",
            "zerolinecolor": "white"
           }
          },
          "shapedefaults": {
           "line": {
            "color": "#2a3f5f"
           }
          },
          "ternary": {
           "aaxis": {
            "gridcolor": "white",
            "linecolor": "white",
            "ticks": ""
           },
           "baxis": {
            "gridcolor": "white",
            "linecolor": "white",
            "ticks": ""
           },
           "bgcolor": "#E5ECF6",
           "caxis": {
            "gridcolor": "white",
            "linecolor": "white",
            "ticks": ""
           }
          },
          "title": {
           "x": 0.05
          },
          "xaxis": {
           "automargin": true,
           "gridcolor": "white",
           "linecolor": "white",
           "ticks": "",
           "title": {
            "standoff": 15
           },
           "zerolinecolor": "white",
           "zerolinewidth": 2
          },
          "yaxis": {
           "automargin": true,
           "gridcolor": "white",
           "linecolor": "white",
           "ticks": "",
           "title": {
            "standoff": 15
           },
           "zerolinecolor": "white",
           "zerolinewidth": 2
          }
         }
        },
        "xaxis": {
         "anchor": "y",
         "domain": [
          0,
          1
         ],
         "title": {
          "text": "price_numeric"
         }
        },
        "yaxis": {
         "anchor": "x",
         "domain": [
          0,
          1
         ],
         "title": {
          "text": "distance_numeric"
         }
        }
       }
      }
     },
     "metadata": {},
     "output_type": "display_data"
    }
   ],
   "source": [
    "# testing the callback function part is working\n",
    "import dash\n",
    "from dash import Dash, dcc, html, Input, Output, callback\n",
    "import plotly.express as px\n",
    "import pandas as pd\n",
    "from bs4 import BeautifulSoup\n",
    "import requests \n",
    "import pandas as pd\n",
    "import numpy as np\n",
    "from web_crawler_func import booking_crawler\n",
    "from data_cleaning import data_cleaner\n",
    "def update_scatter_plot(selected_location,selected_start_date,selected_end_date):\n",
    "    # Filter data based on selected category\n",
    "    hotel_info=booking_crawler(selected_location,str(selected_start_date),str(selected_end_date))\n",
    "    hotel_info_cleaned=data_cleaner(hotel_info)\n",
    "    # Update scatter plot\n",
    "    scatter_fig = px.scatter(hotel_info_cleaned, x=\"price_numeric\", y=\"distance_numeric\", color=\"rating\",hover_data=['name',\"rating\",\"price\"])\n",
    "    \n",
    "    return scatter_fig\n",
    "update_scatter_plot(\"Taipei\",\"2023-11-29\",\"2023-11-30\")"
   ]
  },
  {
   "cell_type": "markdown",
   "metadata": {},
   "source": [
    "## The dash board"
   ]
  },
  {
   "cell_type": "code",
   "execution_count": 2,
   "metadata": {},
   "outputs": [
    {
     "ename": "OSError",
     "evalue": "Address 'http://127.0.0.1:8050' already in use.\n    Try passing a different port to run_server.",
     "output_type": "error",
     "traceback": [
      "\u001b[1;31m---------------------------------------------------------------------------\u001b[0m",
      "\u001b[1;31mOSError\u001b[0m                                   Traceback (most recent call last)",
      "\u001b[1;32mc:\\Users\\johan\\桌面\\研究所學習\\資料分析與社會研究\\programming hw\\main.ipynb Cell 3\u001b[0m line \u001b[0;36m6\n\u001b[0;32m     <a href='vscode-notebook-cell:/c%3A/Users/johan/%E6%A1%8C%E9%9D%A2/%E7%A0%94%E7%A9%B6%E6%89%80%E5%AD%B8%E7%BF%92/%E8%B3%87%E6%96%99%E5%88%86%E6%9E%90%E8%88%87%E7%A4%BE%E6%9C%83%E7%A0%94%E7%A9%B6/programming%20hw/main.ipynb#W1sZmlsZQ%3D%3D?line=59'>60</a>\u001b[0m \u001b[39m# Run the app\u001b[39;00m\n\u001b[0;32m     <a href='vscode-notebook-cell:/c%3A/Users/johan/%E6%A1%8C%E9%9D%A2/%E7%A0%94%E7%A9%B6%E6%89%80%E5%AD%B8%E7%BF%92/%E8%B3%87%E6%96%99%E5%88%86%E6%9E%90%E8%88%87%E7%A4%BE%E6%9C%83%E7%A0%94%E7%A9%B6/programming%20hw/main.ipynb#W1sZmlsZQ%3D%3D?line=60'>61</a>\u001b[0m \u001b[39mif\u001b[39;00m \u001b[39m__name__\u001b[39m \u001b[39m==\u001b[39m \u001b[39m'\u001b[39m\u001b[39m__main__\u001b[39m\u001b[39m'\u001b[39m:\n\u001b[1;32m---> <a href='vscode-notebook-cell:/c%3A/Users/johan/%E6%A1%8C%E9%9D%A2/%E7%A0%94%E7%A9%B6%E6%89%80%E5%AD%B8%E7%BF%92/%E8%B3%87%E6%96%99%E5%88%86%E6%9E%90%E8%88%87%E7%A4%BE%E6%9C%83%E7%A0%94%E7%A9%B6/programming%20hw/main.ipynb#W1sZmlsZQ%3D%3D?line=61'>62</a>\u001b[0m     app\u001b[39m.\u001b[39;49mrun_server(debug\u001b[39m=\u001b[39;49m\u001b[39mTrue\u001b[39;49;00m)\n",
      "File \u001b[1;32m~\\AppData\\Local\\Packages\\PythonSoftwareFoundation.Python.3.10_qbz5n2kfra8p0\\LocalCache\\local-packages\\Python310\\site-packages\\dash\\dash.py:2175\u001b[0m, in \u001b[0;36mDash.run_server\u001b[1;34m(self, *args, **kwargs)\u001b[0m\n\u001b[0;32m   2169\u001b[0m \u001b[39mdef\u001b[39;00m \u001b[39mrun_server\u001b[39m(\u001b[39mself\u001b[39m, \u001b[39m*\u001b[39margs, \u001b[39m*\u001b[39m\u001b[39m*\u001b[39mkwargs):\n\u001b[0;32m   2170\u001b[0m \u001b[39m    \u001b[39m\u001b[39m\"\"\"`run_server` is a deprecated alias of `run` and may be removed in a\u001b[39;00m\n\u001b[0;32m   2171\u001b[0m \u001b[39m    future version. We recommend using `app.run` instead.\u001b[39;00m\n\u001b[0;32m   2172\u001b[0m \n\u001b[0;32m   2173\u001b[0m \u001b[39m    See `app.run` for usage information.\u001b[39;00m\n\u001b[0;32m   2174\u001b[0m \u001b[39m    \"\"\"\u001b[39;00m\n\u001b[1;32m-> 2175\u001b[0m     \u001b[39mself\u001b[39m\u001b[39m.\u001b[39mrun(\u001b[39m*\u001b[39margs, \u001b[39m*\u001b[39m\u001b[39m*\u001b[39mkwargs)\n",
      "File \u001b[1;32m~\\AppData\\Local\\Packages\\PythonSoftwareFoundation.Python.3.10_qbz5n2kfra8p0\\LocalCache\\local-packages\\Python310\\site-packages\\dash\\dash.py:2066\u001b[0m, in \u001b[0;36mDash.run\u001b[1;34m(self, host, port, proxy, debug, jupyter_mode, jupyter_width, jupyter_height, jupyter_server_url, dev_tools_ui, dev_tools_props_check, dev_tools_serve_dev_bundles, dev_tools_hot_reload, dev_tools_hot_reload_interval, dev_tools_hot_reload_watch_interval, dev_tools_hot_reload_max_retry, dev_tools_silence_routes_logging, dev_tools_prune_errors, **flask_run_options)\u001b[0m\n\u001b[0;32m   2063\u001b[0m             extra_files\u001b[39m.\u001b[39mappend(path)\n\u001b[0;32m   2065\u001b[0m \u001b[39mif\u001b[39;00m jupyter_dash\u001b[39m.\u001b[39mactive:\n\u001b[1;32m-> 2066\u001b[0m     jupyter_dash\u001b[39m.\u001b[39;49mrun_app(\n\u001b[0;32m   2067\u001b[0m         \u001b[39mself\u001b[39;49m,\n\u001b[0;32m   2068\u001b[0m         mode\u001b[39m=\u001b[39;49mjupyter_mode,\n\u001b[0;32m   2069\u001b[0m         width\u001b[39m=\u001b[39;49mjupyter_width,\n\u001b[0;32m   2070\u001b[0m         height\u001b[39m=\u001b[39;49mjupyter_height,\n\u001b[0;32m   2071\u001b[0m         host\u001b[39m=\u001b[39;49mhost,\n\u001b[0;32m   2072\u001b[0m         port\u001b[39m=\u001b[39;49mport,\n\u001b[0;32m   2073\u001b[0m         server_url\u001b[39m=\u001b[39;49mjupyter_server_url,\n\u001b[0;32m   2074\u001b[0m     )\n\u001b[0;32m   2075\u001b[0m \u001b[39melse\u001b[39;00m:\n\u001b[0;32m   2076\u001b[0m     \u001b[39mself\u001b[39m\u001b[39m.\u001b[39mserver\u001b[39m.\u001b[39mrun(host\u001b[39m=\u001b[39mhost, port\u001b[39m=\u001b[39mport, debug\u001b[39m=\u001b[39mdebug, \u001b[39m*\u001b[39m\u001b[39m*\u001b[39mflask_run_options)\n",
      "File \u001b[1;32m~\\AppData\\Local\\Packages\\PythonSoftwareFoundation.Python.3.10_qbz5n2kfra8p0\\LocalCache\\local-packages\\Python310\\site-packages\\dash\\_jupyter.py:401\u001b[0m, in \u001b[0;36mJupyterDash.run_app\u001b[1;34m(self, app, mode, width, height, host, port, server_url)\u001b[0m\n\u001b[0;32m    399\u001b[0m     display(HTML(msg))\n\u001b[0;32m    400\u001b[0m \u001b[39melse\u001b[39;00m:\n\u001b[1;32m--> 401\u001b[0m     \u001b[39mraise\u001b[39;00m final_error\n",
      "File \u001b[1;32m~\\AppData\\Local\\Packages\\PythonSoftwareFoundation.Python.3.10_qbz5n2kfra8p0\\LocalCache\\local-packages\\Python310\\site-packages\\dash\\_jupyter.py:388\u001b[0m, in \u001b[0;36mJupyterDash.run_app\u001b[1;34m(self, app, mode, width, height, host, port, server_url)\u001b[0m\n\u001b[0;32m    385\u001b[0m         \u001b[39mraise\u001b[39;00m err\n\u001b[0;32m    387\u001b[0m \u001b[39mtry\u001b[39;00m:\n\u001b[1;32m--> 388\u001b[0m     wait_for_app()\n\u001b[0;32m    390\u001b[0m     \u001b[39mif\u001b[39;00m \u001b[39mself\u001b[39m\u001b[39m.\u001b[39min_colab:\n\u001b[0;32m    391\u001b[0m         JupyterDash\u001b[39m.\u001b[39m_display_in_colab(dashboard_url, port, mode, width, height)\n",
      "File \u001b[1;32m~\\AppData\\Local\\Packages\\PythonSoftwareFoundation.Python.3.10_qbz5n2kfra8p0\\LocalCache\\local-packages\\Python310\\site-packages\\retrying.py:56\u001b[0m, in \u001b[0;36mretry.<locals>.wrap.<locals>.wrapped_f\u001b[1;34m(*args, **kw)\u001b[0m\n\u001b[0;32m     54\u001b[0m \u001b[39m@six\u001b[39m\u001b[39m.\u001b[39mwraps(f)\n\u001b[0;32m     55\u001b[0m \u001b[39mdef\u001b[39;00m \u001b[39mwrapped_f\u001b[39m(\u001b[39m*\u001b[39margs, \u001b[39m*\u001b[39m\u001b[39m*\u001b[39mkw):\n\u001b[1;32m---> 56\u001b[0m     \u001b[39mreturn\u001b[39;00m Retrying(\u001b[39m*\u001b[39mdargs, \u001b[39m*\u001b[39m\u001b[39m*\u001b[39mdkw)\u001b[39m.\u001b[39mcall(f, \u001b[39m*\u001b[39margs, \u001b[39m*\u001b[39m\u001b[39m*\u001b[39mkw)\n",
      "File \u001b[1;32m~\\AppData\\Local\\Packages\\PythonSoftwareFoundation.Python.3.10_qbz5n2kfra8p0\\LocalCache\\local-packages\\Python310\\site-packages\\retrying.py:266\u001b[0m, in \u001b[0;36mRetrying.call\u001b[1;34m(self, fn, *args, **kwargs)\u001b[0m\n\u001b[0;32m    263\u001b[0m \u001b[39mif\u001b[39;00m \u001b[39mself\u001b[39m\u001b[39m.\u001b[39mstop(attempt_number, delay_since_first_attempt_ms):\n\u001b[0;32m    264\u001b[0m     \u001b[39mif\u001b[39;00m \u001b[39mnot\u001b[39;00m \u001b[39mself\u001b[39m\u001b[39m.\u001b[39m_wrap_exception \u001b[39mand\u001b[39;00m attempt\u001b[39m.\u001b[39mhas_exception:\n\u001b[0;32m    265\u001b[0m         \u001b[39m# get() on an attempt with an exception should cause it to be raised, but raise just in case\u001b[39;00m\n\u001b[1;32m--> 266\u001b[0m         \u001b[39mraise\u001b[39;00m attempt\u001b[39m.\u001b[39;49mget()\n\u001b[0;32m    267\u001b[0m     \u001b[39melse\u001b[39;00m:\n\u001b[0;32m    268\u001b[0m         \u001b[39mraise\u001b[39;00m RetryError(attempt)\n",
      "File \u001b[1;32m~\\AppData\\Local\\Packages\\PythonSoftwareFoundation.Python.3.10_qbz5n2kfra8p0\\LocalCache\\local-packages\\Python310\\site-packages\\retrying.py:301\u001b[0m, in \u001b[0;36mAttempt.get\u001b[1;34m(self, wrap_exception)\u001b[0m\n\u001b[0;32m    299\u001b[0m         \u001b[39mraise\u001b[39;00m RetryError(\u001b[39mself\u001b[39m)\n\u001b[0;32m    300\u001b[0m     \u001b[39melse\u001b[39;00m:\n\u001b[1;32m--> 301\u001b[0m         six\u001b[39m.\u001b[39;49mreraise(\u001b[39mself\u001b[39;49m\u001b[39m.\u001b[39;49mvalue[\u001b[39m0\u001b[39;49m], \u001b[39mself\u001b[39;49m\u001b[39m.\u001b[39;49mvalue[\u001b[39m1\u001b[39;49m], \u001b[39mself\u001b[39;49m\u001b[39m.\u001b[39;49mvalue[\u001b[39m2\u001b[39;49m])\n\u001b[0;32m    302\u001b[0m \u001b[39melse\u001b[39;00m:\n\u001b[0;32m    303\u001b[0m     \u001b[39mreturn\u001b[39;00m \u001b[39mself\u001b[39m\u001b[39m.\u001b[39mvalue\n",
      "File \u001b[1;32m~\\AppData\\Local\\Packages\\PythonSoftwareFoundation.Python.3.10_qbz5n2kfra8p0\\LocalCache\\local-packages\\Python310\\site-packages\\six.py:719\u001b[0m, in \u001b[0;36mreraise\u001b[1;34m(tp, value, tb)\u001b[0m\n\u001b[0;32m    717\u001b[0m     \u001b[39mif\u001b[39;00m value\u001b[39m.\u001b[39m__traceback__ \u001b[39mis\u001b[39;00m \u001b[39mnot\u001b[39;00m tb:\n\u001b[0;32m    718\u001b[0m         \u001b[39mraise\u001b[39;00m value\u001b[39m.\u001b[39mwith_traceback(tb)\n\u001b[1;32m--> 719\u001b[0m     \u001b[39mraise\u001b[39;00m value\n\u001b[0;32m    720\u001b[0m \u001b[39mfinally\u001b[39;00m:\n\u001b[0;32m    721\u001b[0m     value \u001b[39m=\u001b[39m \u001b[39mNone\u001b[39;00m\n",
      "File \u001b[1;32m~\\AppData\\Local\\Packages\\PythonSoftwareFoundation.Python.3.10_qbz5n2kfra8p0\\LocalCache\\local-packages\\Python310\\site-packages\\retrying.py:251\u001b[0m, in \u001b[0;36mRetrying.call\u001b[1;34m(self, fn, *args, **kwargs)\u001b[0m\n\u001b[0;32m    248\u001b[0m     \u001b[39mself\u001b[39m\u001b[39m.\u001b[39m_before_attempts(attempt_number)\n\u001b[0;32m    250\u001b[0m \u001b[39mtry\u001b[39;00m:\n\u001b[1;32m--> 251\u001b[0m     attempt \u001b[39m=\u001b[39m Attempt(fn(\u001b[39m*\u001b[39margs, \u001b[39m*\u001b[39m\u001b[39m*\u001b[39mkwargs), attempt_number, \u001b[39mFalse\u001b[39;00m)\n\u001b[0;32m    252\u001b[0m \u001b[39mexcept\u001b[39;00m:\n\u001b[0;32m    253\u001b[0m     tb \u001b[39m=\u001b[39m sys\u001b[39m.\u001b[39mexc_info()\n",
      "File \u001b[1;32m~\\AppData\\Local\\Packages\\PythonSoftwareFoundation.Python.3.10_qbz5n2kfra8p0\\LocalCache\\local-packages\\Python310\\site-packages\\dash\\_jupyter.py:379\u001b[0m, in \u001b[0;36mJupyterDash.run_app.<locals>.wait_for_app\u001b[1;34m()\u001b[0m\n\u001b[0;32m    377\u001b[0m     \u001b[39mif\u001b[39;00m res \u001b[39m!=\u001b[39m \u001b[39m\"\u001b[39m\u001b[39mAlive\u001b[39m\u001b[39m\"\u001b[39m:\n\u001b[0;32m    378\u001b[0m         url \u001b[39m=\u001b[39m \u001b[39mf\u001b[39m\u001b[39m\"\u001b[39m\u001b[39mhttp://\u001b[39m\u001b[39m{\u001b[39;00mhost\u001b[39m}\u001b[39;00m\u001b[39m:\u001b[39m\u001b[39m{\u001b[39;00mport\u001b[39m}\u001b[39;00m\u001b[39m\"\u001b[39m\n\u001b[1;32m--> 379\u001b[0m         \u001b[39mraise\u001b[39;00m \u001b[39mOSError\u001b[39;00m(\n\u001b[0;32m    380\u001b[0m             \u001b[39mf\u001b[39m\u001b[39m\"\u001b[39m\u001b[39mAddress \u001b[39m\u001b[39m'\u001b[39m\u001b[39m{\u001b[39;00murl\u001b[39m}\u001b[39;00m\u001b[39m'\u001b[39m\u001b[39m already in use.\u001b[39m\u001b[39m\\n\u001b[39;00m\u001b[39m\"\u001b[39m\n\u001b[0;32m    381\u001b[0m             \u001b[39m\"\u001b[39m\u001b[39m    Try passing a different port to run_server.\u001b[39m\u001b[39m\"\u001b[39m\n\u001b[0;32m    382\u001b[0m         )\n\u001b[0;32m    383\u001b[0m \u001b[39mexcept\u001b[39;00m requests\u001b[39m.\u001b[39mConnectionError \u001b[39mas\u001b[39;00m err:\n\u001b[0;32m    384\u001b[0m     _get_error()\n",
      "\u001b[1;31mOSError\u001b[0m: Address 'http://127.0.0.1:8050' already in use.\n    Try passing a different port to run_server."
     ]
    }
   ],
   "source": [
    "import dash\n",
    "from dash import Dash, dcc, html, Input, Output, callback\n",
    "import plotly.express as px\n",
    "import pandas as pd\n",
    "from bs4 import BeautifulSoup\n",
    "import requests \n",
    "import pandas as pd\n",
    "import numpy as np\n",
    "from datetime import date\n",
    "from web_crawler_func import booking_crawler\n",
    "from data_cleaning import data_cleaner\n",
    "\n",
    "# Create the Dash app\n",
    "app = dash.Dash(__name__)\n",
    "\n",
    "# Define the layout of the dashboard\n",
    "app.layout = html.Div([\n",
    "\n",
    "    html.H1(\"Plotly Dashboard\"),\n",
    "    # Location input\n",
    "    html.Label(\"Enter a location:\"),\n",
    "    dcc.Input(id='location-input', type='text', placeholder='Enter location'),\n",
    "    dcc.DatePickerRange(\n",
    "        id='my-date-picker-range',\n",
    "        min_date_allowed=date(2023, 1, 1),\n",
    "        max_date_allowed=date(2024, 1, 1),\n",
    "        initial_visible_month=date(2023, 11, 29),\n",
    "        end_date=date(2023, 11, 30)\n",
    "    ),\n",
    "    \n",
    "    # Scatter plot\n",
    "    dcc.Graph(\n",
    "        id='scatter-plot',\n",
    "    )\n",
    "])\n",
    "\n",
    "# Define callback to update scatter plot based on user input\n",
    "@app.callback(\n",
    "    Output('scatter-plot', 'figure'),\n",
    "    [Input('my-date-picker-range', 'start_date'),\n",
    "     Input('my-date-picker-range', 'end_date'),\n",
    "     Input('location-input', 'value')]\n",
    ")\n",
    "def update_scatter_plot(selected_start_date, selected_end_date, selected_location):\n",
    "    try:\n",
    "        # Fetch data based on user input\n",
    "        hotel_info = booking_crawler(selected_location, selected_start_date, selected_end_date)\n",
    "        \n",
    "        # Clean data\n",
    "        hotel_info_cleaned = data_cleaner(hotel_info)\n",
    "        \n",
    "        # Update scatter plot\n",
    "        scatter_fig = px.scatter(hotel_info_cleaned, x=\"price_numeric\", y=\"distance_numeric\", color=\"rating\", hover_data=['name', \"rating\", \"price\"])\n",
    "        \n",
    "        return scatter_fig\n",
    "    except Exception as e:\n",
    "        # Return an empty figure or None to clear the plot in case of an error\n",
    "        return None\n",
    "\n",
    "# Run the app\n",
    "if __name__ == '__main__':\n",
    "    app.run_server(debug=True)\n"
   ]
  }
 ],
 "metadata": {
  "kernelspec": {
   "display_name": "Python 3",
   "language": "python",
   "name": "python3"
  },
  "language_info": {
   "codemirror_mode": {
    "name": "ipython",
    "version": 3
   },
   "file_extension": ".py",
   "mimetype": "text/x-python",
   "name": "python",
   "nbconvert_exporter": "python",
   "pygments_lexer": "ipython3",
   "version": "3.10.11"
  }
 },
 "nbformat": 4,
 "nbformat_minor": 2
}
